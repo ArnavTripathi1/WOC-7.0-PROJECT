{
  "cells": [
    {
      "cell_type": "markdown",
      "metadata": {
        "id": "view-in-github",
        "colab_type": "text"
      },
      "source": [
        "<a href=\"https://colab.research.google.com/github/ArnavTripathi1/WOC-7.0-PROJECT/blob/main/Multiclassification_(KNN).ipynb\" target=\"_parent\"><img src=\"https://colab.research.google.com/assets/colab-badge.svg\" alt=\"Open In Colab\"/></a>"
      ]
    },
    {
      "cell_type": "markdown",
      "metadata": {
        "id": "yO29p-Hfumi1"
      },
      "source": [
        "#**K Nearest Neighbor**"
      ]
    },
    {
      "cell_type": "markdown",
      "metadata": {
        "id": "BMdu0vuCuspY"
      },
      "source": [
        "\n",
        "\n",
        "## **1. Loading Modules**\n",
        "\n",
        "\n",
        "\n",
        "\n",
        "\n"
      ]
    },
    {
      "cell_type": "code",
      "execution_count": null,
      "metadata": {
        "id": "wyi46zvRux-s"
      },
      "outputs": [],
      "source": [
        "import numpy as np\n",
        "import pandas as pd\n",
        "import matplotlib.pyplot as plt"
      ]
    },
    {
      "cell_type": "markdown",
      "metadata": {
        "id": "8qTQLnwtu7Tg"
      },
      "source": [
        "## **2. Importing and Handling Data**\n",
        "\n"
      ]
    },
    {
      "cell_type": "code",
      "execution_count": null,
      "metadata": {
        "id": "p0t6RcYOwVCX",
        "colab": {
          "base_uri": "https://localhost:8080/"
        },
        "outputId": "4c0ed83b-6d33-47ce-e537-a002434732c0"
      },
      "outputs": [
        {
          "output_type": "stream",
          "name": "stdout",
          "text": [
            "Mounted at /content/drive\n"
          ]
        }
      ],
      "source": [
        "from google.colab import drive\n",
        "drive.mount('/content/drive')            # mounting google drive"
      ]
    },
    {
      "cell_type": "code",
      "execution_count": null,
      "metadata": {
        "colab": {
          "base_uri": "https://localhost:8080/"
        },
        "id": "vGVcRBwX1X9a",
        "outputId": "f968bfe2-5634-43af-9e57-e87e47194df0"
      },
      "outputs": [
        {
          "output_type": "stream",
          "name": "stdout",
          "text": [
            "(48000, 21)\n"
          ]
        }
      ],
      "source": [
        "df = pd.read_csv('/content/drive/MyDrive/multi_classification_train.csv', delimiter = ',')       # reading train set\n",
        "df1 = df.drop(columns = ['ID'])\n",
        "print(df1.shape)"
      ]
    },
    {
      "cell_type": "markdown",
      "metadata": {
        "id": "KAJ4Fn3p1JLV"
      },
      "source": [
        "\n",
        "\n",
        "`Dividing Data into Train, CV and Test Set`\n",
        "\n",
        "\n",
        "\n",
        "\n",
        "\n",
        "\n",
        "\n",
        "\n",
        "\n",
        "\n",
        "\n"
      ]
    },
    {
      "cell_type": "code",
      "execution_count": null,
      "metadata": {
        "colab": {
          "base_uri": "https://localhost:8080/"
        },
        "id": "gKSdmWmdvAHt",
        "outputId": "87490563-441c-4e05-8cfb-e2ab71215137"
      },
      "outputs": [
        {
          "output_type": "stream",
          "name": "stdout",
          "text": [
            "TRAIN SET\n",
            "        Feature_1  Feature_2  Feature_3   Feature_4   Feature_5   Feature_6  \\\n",
            "0      -90.532634 -66.953472  79.261856 -111.800554  126.403549  111.509348   \n",
            "1     -103.156720 -16.070400  87.819228   12.614599   51.347780   67.483725   \n",
            "2       24.326153 -92.098078  82.238354  -56.795879   85.203996  127.916504   \n",
            "3      -64.631737 -83.703583  84.135072   -5.516152   74.338494  112.630556   \n",
            "4      -55.473830 -78.853237  88.129107   75.200543   76.991520   60.224711   \n",
            "...           ...        ...        ...         ...         ...         ...   \n",
            "38395  -45.530360  20.505481  90.252533  138.270800   91.603532  125.916310   \n",
            "38396  -60.521765 -42.237328  90.369753  269.561863   92.076097   -5.283061   \n",
            "38397  -92.806821 -10.345667  84.655842   55.862802   57.245586   22.425571   \n",
            "38398  -56.680361 -55.998472  87.749697  395.280159   78.139892  139.756567   \n",
            "38399  -48.095213  79.158835  86.852479   39.921551   15.855454   58.290488   \n",
            "\n",
            "        Feature_7   Feature_8   Feature_9  Feature_10  ...  Feature_12  \\\n",
            "0      207.728953  -26.600556 -106.229324  170.384649  ...  148.391734   \n",
            "1       40.269172   51.442254 -151.486693   35.872507  ...   29.009475   \n",
            "2      -90.080307 -128.124071   18.036020   70.485076  ...  111.810098   \n",
            "3      181.576798   -1.054023   60.469865   -0.658352  ...   50.047108   \n",
            "4      -13.106559 -146.773016  -33.490566  137.684666  ...   85.988282   \n",
            "...           ...         ...         ...         ...  ...         ...   \n",
            "38395 -100.847534    4.281948  -22.779359  -18.601960  ...   69.472143   \n",
            "38396 -127.956138   98.022954 -274.255996  208.815842  ...   18.270648   \n",
            "38397   38.891852  336.712897   35.929190  -71.608008  ...  -81.363561   \n",
            "38398 -136.911709  -17.103385 -205.415943  193.670625  ...   35.593744   \n",
            "38399  -56.771266  129.642456 -111.736465  -26.626898  ...  126.104093   \n",
            "\n",
            "       Feature_13  Feature_14  Feature_15  Feature_16  Feature_17  Feature_18  \\\n",
            "0       77.835738  -10.728207    1.100625    1.035362  -87.010809  -16.242297   \n",
            "1        3.995786  -10.861630 -142.605726  -25.924592  -86.755351  -36.479749   \n",
            "2       65.826018 -101.271203  -44.127749   -7.131464 -105.049759 -130.948256   \n",
            "3      100.439101 -117.842955  150.239788 -144.635542 -144.306209  -69.272905   \n",
            "4       23.381960   11.876102 -188.296503  -80.323929  -56.757987  -20.314172   \n",
            "...           ...         ...         ...         ...         ...         ...   \n",
            "38395   13.269937 -223.395892 -196.633619   41.573921   22.577533  -20.933292   \n",
            "38396   65.444324   55.366793 -230.484565   76.188355  -87.280069    7.740252   \n",
            "38397  122.012102  -77.191427  138.661958   85.815841 -120.758128  -85.696197   \n",
            "38398  105.691479  -49.264162 -166.053048    3.557251    5.778858   20.011342   \n",
            "38399  110.916919  -57.033623   25.726744  -42.267916 -102.597297  -21.628173   \n",
            "\n",
            "       Feature_19  Feature_20  Class  \n",
            "0      -32.074925  -17.666026      1  \n",
            "1     -130.246619  -44.143652      2  \n",
            "2      -43.113523  -37.330448      4  \n",
            "3      -79.629675  -51.334456      2  \n",
            "4      -42.625170  -24.102753      2  \n",
            "...           ...         ...    ...  \n",
            "38395 -111.035244  -54.866510      3  \n",
            "38396  -93.656395  -10.101157      2  \n",
            "38397  -61.576975  -65.300321      2  \n",
            "38398  -81.714899  -13.082370      2  \n",
            "38399 -107.930423  -56.446154      1  \n",
            "\n",
            "[38400 rows x 21 columns]\n",
            "\n",
            "\n",
            "CROSS VALIDATION SET\n",
            "        Feature_1  Feature_2  Feature_3   Feature_4   Feature_5   Feature_6  \\\n",
            "38400 -110.714549  49.149946  80.503509   14.133536   69.278387   62.045121   \n",
            "38401 -138.377035   9.998548  83.371102  -68.433812   71.547375  111.920564   \n",
            "38402  -11.989896   3.380094  90.021684  145.563299   86.706578   70.738502   \n",
            "38403  -61.798572 -71.605188  77.973647 -136.933712  124.154038   97.423453   \n",
            "38404  -50.827260 -97.463632  89.817505  283.136166  108.598536   61.589717   \n",
            "...           ...        ...        ...         ...         ...         ...   \n",
            "43195  -73.850063 -52.202212  88.328453   51.913213   79.837960  -86.265252   \n",
            "43196  -38.818062 -40.112526  80.690925   34.726213   71.190329   50.061606   \n",
            "43197  -29.850695 -64.840232  88.306396  178.439937   94.297169   81.933521   \n",
            "43198  -45.735522   5.682512  85.470914   36.901086   84.912742  121.749554   \n",
            "43199  -49.653434   8.609911  87.998964  268.788101   93.981664   19.742586   \n",
            "\n",
            "        Feature_7   Feature_8   Feature_9  Feature_10  ...  Feature_12  \\\n",
            "38400  140.666108   -8.586202 -213.419938  210.985651  ...   68.318224   \n",
            "38401  -80.364514  210.764105  134.338321 -204.344712  ...   21.868285   \n",
            "38402  -15.927171  -54.087588  -74.531089  -80.284423  ...  129.327482   \n",
            "38403  -64.662031 -154.328861 -189.845958  143.790045  ...  130.015613   \n",
            "38404 -123.811937  -35.211310 -160.871648  137.245005  ...   40.152474   \n",
            "...           ...         ...         ...         ...  ...         ...   \n",
            "43195  112.692761   13.817448  139.859238   96.538727  ...  -90.287411   \n",
            "43196  -20.352564    2.994391  -48.508108  -84.848304  ...  165.134635   \n",
            "43197   73.063948  158.786488  -66.748832  -70.458006  ...   35.886970   \n",
            "43198   -7.771800   72.809296  -63.156496   60.863061  ...  150.917290   \n",
            "43199   10.032969  -51.551521  -96.195918  -43.433567  ...   47.886846   \n",
            "\n",
            "       Feature_13  Feature_14  Feature_15  Feature_16  Feature_17  Feature_18  \\\n",
            "38400   75.975757   -3.287408  -59.920128   31.807949  -10.935606  -29.789426   \n",
            "38401   41.317591    5.410348   -8.030898  -13.602060    1.116419  -39.882285   \n",
            "38402   91.052785 -229.934353 -138.220264   76.216159  -12.763972    1.478476   \n",
            "38403   38.064303   26.944756 -142.521648   71.204910  -79.962870    8.683330   \n",
            "38404   52.569931    7.062844 -220.229376  -36.388037  -43.754315  -24.766659   \n",
            "...           ...         ...         ...         ...         ...         ...   \n",
            "43195   85.339733   10.659747   18.110313  -11.352894 -126.416519  -52.374772   \n",
            "43196  103.603620 -290.483018   71.545805  -16.039074  -33.535992   -9.194994   \n",
            "43197  122.885124 -218.782198   38.016184   46.974300 -100.628001  -79.336018   \n",
            "43198  133.828786   82.338368  -31.213350   -3.419891  -82.139911  -28.575686   \n",
            "43199  145.323639 -113.989962  -83.678318   39.975311   27.811228  -10.986679   \n",
            "\n",
            "       Feature_19  Feature_20  Class  \n",
            "38400 -163.351163   -9.674048      1  \n",
            "38401  -83.727782  -91.428467      3  \n",
            "38402 -119.172135  -67.008204      3  \n",
            "38403 -131.063811  -22.900959      1  \n",
            "38404  -56.573846  -24.189297      2  \n",
            "...           ...         ...    ...  \n",
            "43195 -123.436024  -32.201998      2  \n",
            "43196  -59.120665  -67.906567      4  \n",
            "43197 -115.597581  -65.073953      2  \n",
            "43198  -80.304489  -39.224464      2  \n",
            "43199  -99.022160  -59.754411      3  \n",
            "\n",
            "[4800 rows x 21 columns]\n",
            "\n",
            "\n",
            "TEST SET\n",
            "        Feature_1  Feature_2  Feature_3   Feature_4   Feature_5   Feature_6  \\\n",
            "43200  -69.185979  23.968275  81.238196 -149.577060   97.815931  111.051025   \n",
            "43201  -62.325490 -32.611407  80.540264  106.508548  104.123308  122.314643   \n",
            "43202  -75.650332  86.026729  84.332153    0.835440   74.900323   56.126347   \n",
            "43203 -123.634812  54.221003  81.302743 -277.617107   87.581145   61.870329   \n",
            "43204   26.078709 -55.798083  79.736572  -10.290007   66.143715  117.924160   \n",
            "...           ...        ...        ...         ...         ...         ...   \n",
            "47995  -87.108191 -60.144979  88.684810  126.370166   69.649250  246.690989   \n",
            "47996  -81.955836  25.992138  85.513476  104.466523   62.570018   21.866583   \n",
            "47997  -37.122904  -0.885023  86.990027  144.566972   87.266122   74.681566   \n",
            "47998  -81.065847  43.829585  87.794248  253.747102   59.630668   84.944458   \n",
            "47999  -67.197576 -38.818378  88.862139   72.092250   97.390789   89.378311   \n",
            "\n",
            "        Feature_7   Feature_8   Feature_9  Feature_10  ...  Feature_12  \\\n",
            "43200  123.165599   17.495119   87.429787  -41.840847  ...    3.309906   \n",
            "43201  -38.382094  -48.807162  -91.274933  -39.520350  ...   87.953411   \n",
            "43202  105.507443  -30.489245  124.670219   89.725157  ...  -40.947211   \n",
            "43203  104.323810   55.417388  -83.968690 -151.978895  ...   74.120033   \n",
            "43204  -77.006804  -75.287997  -79.175270   25.322899  ...  199.228723   \n",
            "...           ...         ...         ...         ...  ...         ...   \n",
            "47995   68.973573  194.720258  -28.112842 -102.269117  ...    0.680698   \n",
            "47996  -26.799428   88.327511  -68.907977  -63.098443  ...   41.719983   \n",
            "47997    5.930300    7.880936 -176.209479   77.927017  ...   74.811260   \n",
            "47998   19.864267   74.145255 -180.354203 -101.452556  ...   78.961755   \n",
            "47999 -107.892180   22.290103 -148.676378  -37.518350  ...   27.228392   \n",
            "\n",
            "       Feature_13  Feature_14  Feature_15  Feature_16  Feature_17  Feature_18  \\\n",
            "43200   83.115389 -119.801009  163.689936  -62.361521 -119.418617 -104.625607   \n",
            "43201  134.250967 -129.188015  132.332718 -147.163939  -73.043468  -18.625810   \n",
            "43202   82.763713 -117.533497   90.801008  -65.089806  -39.541604  -81.420747   \n",
            "43203   42.455875   47.468431  -91.973000  148.964330  -52.078533  -15.157008   \n",
            "43204  141.097192 -102.202538  -14.961603   70.019711  -55.600830  -92.132811   \n",
            "...           ...         ...         ...         ...         ...         ...   \n",
            "47995   99.344282  -40.468356   59.602514  -84.931182 -127.897922  -71.951492   \n",
            "47996   44.303451 -216.046063   42.327045 -137.935906  -43.356225  -73.312303   \n",
            "47997  121.307286  -42.375677   11.766851  -78.725390 -126.507350  -41.193191   \n",
            "47998  130.106200 -116.635990  -33.445066  -41.137102   12.558330  -22.311973   \n",
            "47999   34.025760    2.044998 -199.591047   59.698797  -80.569266  -10.179671   \n",
            "\n",
            "       Feature_19  Feature_20  Class  \n",
            "43200 -124.232446  -59.440897      2  \n",
            "43201  -59.869509  -58.984126      4  \n",
            "43202  -96.830640  -33.543194      2  \n",
            "43203 -115.887880  -81.120680      1  \n",
            "43204 -120.719548  -46.220257      2  \n",
            "...           ...         ...    ...  \n",
            "47995  -47.415895  -71.335712      2  \n",
            "47996  -49.577503  -63.625282      3  \n",
            "47997  -66.652097  -35.865562      1  \n",
            "47998  -56.104864  -71.174979      3  \n",
            "47999 -127.660487  -58.590048      2  \n",
            "\n",
            "[4800 rows x 21 columns]\n"
          ]
        }
      ],
      "source": [
        "print('TRAIN SET')\n",
        "print(df1.iloc[:38400])\n",
        "\n",
        "print()\n",
        "print()\n",
        "\n",
        "print('CROSS VALIDATION SET')\n",
        "print(df1.iloc[38400:43200])\n",
        "\n",
        "print()\n",
        "print()\n",
        "\n",
        "print('TEST SET')\n",
        "print(df1.iloc[43200:])"
      ]
    },
    {
      "cell_type": "code",
      "execution_count": null,
      "metadata": {
        "id": "cIbtM5AmJYY4"
      },
      "outputs": [],
      "source": [
        "df_train = df.iloc[:38400]\n",
        "df_cv = df.iloc[38400:43200]\n",
        "df_test = df.iloc[43200:]"
      ]
    },
    {
      "cell_type": "markdown",
      "metadata": {
        "id": "CwHy8Kn_2XkN"
      },
      "source": [
        "\n",
        "\n",
        "\n",
        "`Arranging Train Set as an array`\n",
        "\n",
        "\n"
      ]
    },
    {
      "cell_type": "code",
      "execution_count": null,
      "metadata": {
        "collapsed": true,
        "id": "i8h87qtZykgV",
        "colab": {
          "base_uri": "https://localhost:8080/"
        },
        "outputId": "77d352c7-d33b-4d48-fbef-1ab552fc7a4f"
      },
      "outputs": [
        {
          "output_type": "stream",
          "name": "stdout",
          "text": [
            "x_train = [[ -90.53263395  -66.95347161   79.26185595 ...  -16.24229669\n",
            "   -32.07492465  -17.66602617]\n",
            " [-103.15671956  -16.07040001   87.81922753 ...  -36.47974913\n",
            "  -130.24661901  -44.14365222]\n",
            " [  24.32615256  -92.09807783   82.23835394 ... -130.94825564\n",
            "   -43.11352279  -37.33044832]\n",
            " ...\n",
            " [ -92.80682054  -10.34566693   84.65584236 ...  -85.69619713\n",
            "   -61.57697522  -65.30032143]\n",
            " [ -56.68036093  -55.99847164   87.74969696 ...   20.01134236\n",
            "   -81.71489859  -13.08237026]\n",
            " [ -48.0952133    79.15883523   86.85247902 ...  -21.62817318\n",
            "  -107.9304225   -56.44615414]]\n",
            "\n",
            "y_train = [1 2 4 ... 2 2 1]\n"
          ]
        }
      ],
      "source": [
        "features_train = df_train.loc[:, 'Feature_1':'Feature_20']\n",
        "\n",
        "x_train = features_train.to_numpy()\n",
        "y_train = df_train['Class'].to_numpy()\n",
        "\n",
        "print(f\"x_train = {x_train}\")\n",
        "print()\n",
        "print(f\"y_train = {y_train}\")"
      ]
    },
    {
      "cell_type": "markdown",
      "metadata": {
        "id": "vPBGTPaFUzq1"
      },
      "source": [
        "`x_train Normalization`"
      ]
    },
    {
      "cell_type": "code",
      "execution_count": null,
      "metadata": {
        "id": "qVyFeMZIU4aU",
        "colab": {
          "base_uri": "https://localhost:8080/"
        },
        "outputId": "1200e564-26fb-403c-e524-dd89ae3237d7"
      },
      "outputs": [
        {
          "output_type": "stream",
          "name": "stdout",
          "text": [
            "Normalized x_train = [[-0.56571807 -0.57317719 -2.15388543 ...  0.67685993  1.7249436\n",
            "   1.45285191]\n",
            " [-0.92033606  0.22120171  0.54538883 ... -0.0352828  -0.99102716\n",
            "   0.44137434]\n",
            " [ 2.66073284 -0.96573101 -1.21500083 ... -3.35956782  1.41955506\n",
            "   0.70164703]\n",
            " ...\n",
            " [-0.62960131  0.31057538 -0.45244609 ... -1.76717745  0.90875409\n",
            "  -0.3668362 ]\n",
            " [ 0.3852122  -0.40214937  0.52345662 ...  1.95260181  0.35162801\n",
            "   1.62795315]\n",
            " [ 0.62637405  1.70790627  0.2404448  ...  0.48733446 -0.37363803\n",
            "  -0.02859623]]\n"
          ]
        }
      ],
      "source": [
        "mean = np.mean(x_train, axis = 0)\n",
        "std = np.std(x_train, axis = 0)\n",
        "\n",
        "x_train = (x_train - mean) / std\n",
        "\n",
        "print(f\"Normalized x_train = {x_train}\")"
      ]
    },
    {
      "cell_type": "markdown",
      "metadata": {
        "id": "b_Ef2Xgq4jj0"
      },
      "source": [
        "## **3. Visualising the Data**"
      ]
    },
    {
      "cell_type": "code",
      "execution_count": null,
      "metadata": {
        "id": "DlDdqLy1Hky-"
      },
      "outputs": [],
      "source": [
        "Class_0 = np.sum(y_train == 0)\n",
        "Class_1 = np.sum(y_train == 1)\n",
        "Class_2 = np.sum(y_train == 2)\n",
        "Class_3 = np.sum(y_train == 3)\n",
        "Class_4 = np.sum(y_train == 4)"
      ]
    },
    {
      "cell_type": "code",
      "execution_count": null,
      "metadata": {
        "id": "puk9T-Xi47ZN",
        "colab": {
          "base_uri": "https://localhost:8080/",
          "height": 511
        },
        "outputId": "50c6d32e-53b1-4d08-9b55-7df31f870488"
      },
      "outputs": [
        {
          "output_type": "display_data",
          "data": {
            "text/plain": [
              "<Figure size 640x480 with 1 Axes>"
            ],
            "image/png": "[encoded data removed]"
          },
          "metadata": {}
        }
      ],
      "source": [
        "Category = ['Class 0', 'Class 1', 'Class 2', 'Class 3', 'Class 4']\n",
        "Value = [Class_0, Class_1, Class_2, Class_3, Class_4]\n",
        "\n",
        "plt.bar(Category, Value, color = 'red')\n",
        "plt.title('Strength of Individual Class', fontdict = {'fontsize' : 20})\n",
        "plt.xlabel('Class')\n",
        "plt.ylabel('Strength')\n",
        "\n",
        "plt.xticks(rotation=45)\n",
        "plt.show()"
      ]
    },
    {
      "cell_type": "markdown",
      "metadata": {
        "id": "_diHJCNS-2V-"
      },
      "source": [
        "##**4. Model Initialization**"
      ]
    },
    {
      "cell_type": "code",
      "execution_count": null,
      "metadata": {
        "id": "7tViegZz70yb"
      },
      "outputs": [],
      "source": [
        "m = x_train.shape[0]\n",
        "n = x_train.shape[1]"
      ]
    },
    {
      "cell_type": "markdown",
      "metadata": {
        "id": "VH0EIVUk6txI"
      },
      "source": [
        "## **Defining Distance**"
      ]
    },
    {
      "cell_type": "code",
      "execution_count": null,
      "metadata": {
        "id": "6kIBXEHcMqLu"
      },
      "outputs": [],
      "source": [
        "def distance(x1, x2):\n",
        "  return np.sqrt(np.sum((x1 - x2)**2))"
      ]
    },
    {
      "cell_type": "markdown",
      "metadata": {
        "id": "FCAGtLwNlEh_"
      },
      "source": [
        "## **5. KNN**"
      ]
    },
    {
      "cell_type": "code",
      "execution_count": null,
      "metadata": {
        "id": "MrXtjnRZadrw"
      },
      "outputs": [],
      "source": [
        "\n",
        "def knn(x_train, y_train, x, k=5):\n",
        "\n",
        "  predictions = []\n",
        "\n",
        "\n",
        "  for point in x:\n",
        "    distances = []\n",
        "\n",
        "\n",
        "    for i in range(len(x_train)):\n",
        "        dist = distance(x_train[i], point)\n",
        "        distances.append((dist, i))\n",
        "\n",
        "\n",
        "    distances = sorted(distances, key=lambda x: x[0])\n",
        "    neighbors = [y_train[i] for _, i in distances[:k]]\n",
        "\n",
        "\n",
        "    class_count = {}\n",
        "    for label in neighbors:\n",
        "        class_count[label] = class_count.get(label, 0) + 1\n",
        "\n",
        "\n",
        "    sorted_classes = sorted(class_count.items(), key=lambda x: x[1], reverse=True)\n",
        "    predictions.append(sorted_classes[0][0])\n",
        "\n",
        "  return np.array(predictions)"
      ]
    },
    {
      "cell_type": "markdown",
      "source": [
        "##**6. Cross Validation Set**"
      ],
      "metadata": {
        "id": "K_PQb4fZxesX"
      }
    },
    {
      "cell_type": "code",
      "source": [
        "features_cv = df_cv.loc[:, 'Feature_1':'Feature_20']\n",
        "\n",
        "x_cv = features_cv.to_numpy()\n",
        "y_cv = df_cv['Class'].to_numpy()"
      ],
      "metadata": {
        "id": "Adljz8L9xizX"
      },
      "execution_count": null,
      "outputs": []
    },
    {
      "cell_type": "markdown",
      "source": [
        "`Same Normalization`"
      ],
      "metadata": {
        "id": "NPXcQ3mOyA2u"
      }
    },
    {
      "cell_type": "code",
      "source": [
        "x_cv = (x_cv - mean) / std\n",
        "\n",
        "print(f\"x_cv = {x_cv}\")\n",
        "print(f\"y_cv = {y_cv}\")"
      ],
      "metadata": {
        "colab": {
          "base_uri": "https://localhost:8080/"
        },
        "id": "YCyBh_vRyBL6",
        "outputId": "2ad027d3-0b7c-41a9-83b1-9a9c19dda6e8"
      },
      "execution_count": null,
      "outputs": [
        {
          "output_type": "stream",
          "name": "stdout",
          "text": [
            "x_cv = [[-1.13263993  1.23941198 -1.76222748 ...  0.2001453  -1.90688151\n",
            "   1.75815523]\n",
            " [-1.90969546  0.62818622 -0.85769514 ... -0.15501583  0.29594054\n",
            "  -1.3649632 ]\n",
            " [ 1.64059367  0.52485991  1.24011541 ...  1.30044233 -0.68464583\n",
            "  -0.43207938]\n",
            " ...\n",
            " [ 1.1388733  -0.5401856   0.69905754 ... -1.54336691 -0.58575394\n",
            "  -0.35818865]\n",
            " [ 0.69265917  0.56080492 -0.19534578 ...  0.24285602  0.39064773\n",
            "   0.62929332]\n",
            " [ 0.58260271  0.60650702  0.60208354 ...  0.86180169 -0.12718634\n",
            "  -0.15497566]]\n",
            "y_cv = [1 3 3 ... 2 2 3]\n"
          ]
        }
      ]
    },
    {
      "cell_type": "markdown",
      "source": [
        "`Testing on CV Set`"
      ],
      "metadata": {
        "id": "UvZ4SR_syI2S"
      }
    },
    {
      "cell_type": "code",
      "source": [
        "m_cv = x_cv.shape[0]"
      ],
      "metadata": {
        "id": "kvAQ3yfcyIYw"
      },
      "execution_count": null,
      "outputs": []
    },
    {
      "cell_type": "code",
      "source": [
        "pred_cv = knn(x_train, y_train, x_cv, k=5)\n",
        "\n",
        "print(f\"Predicted Class = {pred_cv}\")"
      ],
      "metadata": {
        "colab": {
          "base_uri": "https://localhost:8080/"
        },
        "id": "O6oWCBcNyT0B",
        "outputId": "3e7c83d6-7fef-49f6-daca-c2840e873fa2"
      },
      "execution_count": null,
      "outputs": [
        {
          "output_type": "stream",
          "name": "stdout",
          "text": [
            "Predicted Class = [1 3 3 ... 2 1 3]\n"
          ]
        }
      ]
    },
    {
      "cell_type": "markdown",
      "source": [
        "`Accuracy`"
      ],
      "metadata": {
        "id": "cJUvyOwYycM7"
      }
    },
    {
      "cell_type": "code",
      "source": [
        "count_cv = 0\n",
        "for i in range(m_cv):\n",
        "\n",
        "  if pred_cv[i] == y_cv[i]:\n",
        "    count_cv += 1\n",
        "  else:\n",
        "    count_cv += 0\n",
        "\n",
        "accuracy_cv = count_cv / m_cv\n",
        "\n",
        "print(f\"Accuracy for Cross Validation Set = {accuracy_cv * 100}%\")"
      ],
      "metadata": {
        "colab": {
          "base_uri": "https://localhost:8080/"
        },
        "id": "CfwY01wMyb6J",
        "outputId": "f807dd69-db3c-49d7-8f05-9e7cdc3557a7"
      },
      "execution_count": null,
      "outputs": [
        {
          "output_type": "stream",
          "name": "stdout",
          "text": [
            "Accuracy for Cross Validation Set = 95.47916666666667%\n"
          ]
        }
      ]
    },
    {
      "cell_type": "markdown",
      "metadata": {
        "id": "pREA9kZ5O9pb"
      },
      "source": [
        "##**7. Test Set**"
      ]
    },
    {
      "cell_type": "code",
      "execution_count": null,
      "metadata": {
        "id": "U3M9tfzaPAux"
      },
      "outputs": [],
      "source": [
        "features_test = df_test.loc[:, 'Feature_1':'Feature_20']\n",
        "\n",
        "x_test = features_test.to_numpy()\n",
        "y_test = df_test['Class'].to_numpy()"
      ]
    },
    {
      "cell_type": "markdown",
      "source": [
        "`Testing on Test Set`"
      ],
      "metadata": {
        "id": "gElZYy6EvVqI"
      }
    },
    {
      "cell_type": "code",
      "source": [
        "m_test = x_test.shape[0]"
      ],
      "metadata": {
        "id": "rMr-7BcfwR49"
      },
      "execution_count": null,
      "outputs": []
    },
    {
      "cell_type": "code",
      "source": [
        "pred_test = knn(x_train, y_train, x_test, k=5)\n",
        "\n",
        "print(f\"Predicted Class = {pred_cv}\")"
      ],
      "metadata": {
        "colab": {
          "base_uri": "https://localhost:8080/"
        },
        "id": "r30hGqFavUzz",
        "outputId": "0ac9ed1e-89c9-40ab-901d-842ef483bd86"
      },
      "execution_count": null,
      "outputs": [
        {
          "output_type": "stream",
          "name": "stdout",
          "text": [
            "Predicted Class = [1 3 3 ... 2 1 3]\n"
          ]
        }
      ]
    },
    {
      "cell_type": "markdown",
      "source": [
        "`Accuracy`"
      ],
      "metadata": {
        "id": "fZ8hOtuRyv_I"
      }
    },
    {
      "cell_type": "code",
      "source": [
        "count_test = 0\n",
        "\n",
        "for i in range(m_test):\n",
        "\n",
        "  if pred_test[i] == y_test[i]:\n",
        "    count_test += 1\n",
        "  else:\n",
        "    count_test += 0\n",
        "\n",
        "accuracy_test = count_test / m_test\n",
        "\n",
        "print(f'Accuracy of Test Set = {accuracy_test * 100}%')"
      ],
      "metadata": {
        "colab": {
          "base_uri": "https://localhost:8080/"
        },
        "id": "IxN934wNyyxc",
        "outputId": "1c3141dd-809d-4e81-edec-e27b1342170e"
      },
      "execution_count": null,
      "outputs": [
        {
          "output_type": "stream",
          "name": "stdout",
          "text": [
            "Accuracy of Test Set = 72.5%\n"
          ]
        }
      ]
    },
    {
      "cell_type": "markdown",
      "source": [
        "##**8. F1 Score**"
      ],
      "metadata": {
        "id": "9Z7LL4u7QtCi"
      }
    },
    {
      "cell_type": "code",
      "source": [
        "def precision_recall_multiclass(y_true, y_pred, num_classes):\n",
        "    precision_per_class = []\n",
        "    recall_per_class = []\n",
        "\n",
        "    for i in range(num_classes):\n",
        "\n",
        "        TP = np.sum((y_true == i) & (y_pred == i))\n",
        "\n",
        "        FP = np.sum((y_true != i) & (y_pred == i))\n",
        "\n",
        "        FN = np.sum((y_true == i) & (y_pred != i))\n",
        "\n",
        "        precision = TP / (TP + FP) if (TP + FP) != 0 else 0.0\n",
        "        recall = TP / (TP + FN) if (TP + FN) != 0 else 0.0\n",
        "\n",
        "        precision_per_class.append(precision)\n",
        "        recall_per_class.append(recall)\n",
        "\n",
        "    return precision_per_class, recall_per_class"
      ],
      "metadata": {
        "id": "RKUfUMKJQz_F"
      },
      "execution_count": null,
      "outputs": []
    },
    {
      "cell_type": "markdown",
      "source": [
        "`Precision - Recall for CV Set`"
      ],
      "metadata": {
        "id": "uEysxL6zUykP"
      }
    },
    {
      "cell_type": "code",
      "source": [
        "num_classes = 5\n",
        "\n",
        "precision, recall = precision_recall_multiclass(y_cv, pred_cv, num_classes)\n",
        "\n",
        "for i in range(num_classes):\n",
        "    print(f\"Class {i}: Precision = {precision[i]:.4f}, Recall = {recall[i]:.4f}\")\n",
        "\n",
        "macro_precision = np.mean(precision)\n",
        "macro_recall = np.mean(recall)\n",
        "\n",
        "print()\n",
        "print(f\"Macro-Averaged Precision: {macro_precision:.4f}\")\n",
        "print(f\"Macro-Averaged Recall: {macro_recall:.4f}\")"
      ],
      "metadata": {
        "colab": {
          "base_uri": "https://localhost:8080/"
        },
        "id": "gdlpkZx6UxvH",
        "outputId": "ea52faf6-6285-485c-aeff-47aec26ad83f"
      },
      "execution_count": null,
      "outputs": [
        {
          "output_type": "stream",
          "name": "stdout",
          "text": [
            "Class 0: Precision = 0.9444, Recall = 0.8303\n",
            "Class 1: Precision = 0.9576, Recall = 0.9744\n",
            "Class 2: Precision = 0.9650, Recall = 0.9795\n",
            "Class 3: Precision = 0.9383, Recall = 0.9589\n",
            "Class 4: Precision = 0.9561, Recall = 0.9208\n",
            "\n",
            "Macro-Averaged Precision: 0.9523\n",
            "Macro-Averaged Recall: 0.9328\n"
          ]
        }
      ]
    },
    {
      "cell_type": "markdown",
      "source": [
        "`F1 Score`"
      ],
      "metadata": {
        "id": "ZqclaU1eVRyX"
      }
    },
    {
      "cell_type": "code",
      "source": [
        "F1 = 2 * (macro_precision * macro_recall) / (macro_precision + macro_recall)\n",
        "\n",
        "print(f\"F1 Score = {F1}\")"
      ],
      "metadata": {
        "colab": {
          "base_uri": "https://localhost:8080/"
        },
        "id": "YC6HX5q1VU2c",
        "outputId": "3b236a3f-fe45-4d9e-ee5e-9c8a80da3686"
      },
      "execution_count": null,
      "outputs": [
        {
          "output_type": "stream",
          "name": "stdout",
          "text": [
            "F1 Score = 0.9424415836730939\n"
          ]
        }
      ]
    },
    {
      "cell_type": "markdown",
      "source": [
        "##**9. Predictions for Offcial Test Set**"
      ],
      "metadata": {
        "id": "FMU6xDRTB299"
      }
    },
    {
      "cell_type": "markdown",
      "source": [
        "`Set`"
      ],
      "metadata": {
        "id": "QRa1v0YLCX6O"
      }
    },
    {
      "cell_type": "code",
      "source": [
        "df_test = pd.read_csv('/content/drive/MyDrive/multi_classification_test.csv', delimiter = ',')       # reading train set\n",
        "df2 = df_test.drop(columns = ['ID'])\n",
        "print(df2.shape)"
      ],
      "metadata": {
        "colab": {
          "base_uri": "https://localhost:8080/"
        },
        "id": "n2gFgDp4B9AH",
        "outputId": "bf4b168e-add9-432d-9c97-b3eecb752e6d"
      },
      "execution_count": null,
      "outputs": [
        {
          "output_type": "stream",
          "name": "stdout",
          "text": [
            "(12000, 20)\n"
          ]
        }
      ]
    },
    {
      "cell_type": "code",
      "source": [
        "features_test = df2.loc[:, 'Feature_1':'Feature_20']\n",
        "x_test = features_test.to_numpy()\n",
        "\n",
        "\n",
        "print(f\"x_test = {x_test}\")"
      ],
      "metadata": {
        "colab": {
          "base_uri": "https://localhost:8080/"
        },
        "id": "Zm7oz0nUCWE0",
        "outputId": "c18a9b51-08cf-4843-b840-f7755f8ff032"
      },
      "execution_count": null,
      "outputs": [
        {
          "output_type": "stream",
          "name": "stdout",
          "text": [
            "x_test = [[ -53.83734971  -32.6458895    88.65670437 ...  -31.84478415\n",
            "   -80.67009828  -68.25705001]\n",
            " [ -72.69804275  137.18652565   85.12206387 ...  -22.11370932\n",
            "   -57.31145453  -74.07616736]\n",
            " [ -87.37675817   52.29202943   82.28503619 ...  -49.4246242\n",
            "   -76.5380021   -35.69448307]\n",
            " ...\n",
            " [ -68.19346585  -29.41732628   89.77885938 ...   -9.40912862\n",
            "  -108.54906248  -73.00628847]\n",
            " [-106.53373787  -99.18908011   82.97141713 ...  -31.47872486\n",
            "  -109.73942126 -127.29108315]\n",
            " [ -88.03119387  -21.02195308   83.67580673 ...  -26.31964756\n",
            "   -84.08287989  -30.13499549]]\n"
          ]
        }
      ]
    },
    {
      "cell_type": "markdown",
      "source": [
        "`Same Normalization`"
      ],
      "metadata": {
        "id": "H-FeiCGACSuw"
      }
    },
    {
      "cell_type": "code",
      "source": [
        "x_test = (x_test - mean) / std\n",
        "\n",
        "print(f'Normalized x_test = {x_test}')"
      ],
      "metadata": {
        "colab": {
          "base_uri": "https://localhost:8080/"
        },
        "id": "AgaNb0HsCSL3",
        "outputId": "4229c6d6-3ce0-425a-ea81-e5ebad4be296"
      },
      "execution_count": null,
      "outputs": [
        {
          "output_type": "stream",
          "name": "stdout",
          "text": [
            "Normalized x_test = [[ 0.46507406 -0.03757235  0.80955636 ...  0.12781859  0.38053295\n",
            "  -0.47978684]\n",
            " [-0.06473391  2.61382588 -0.30538461 ...  0.47024876  1.02676193\n",
            "  -0.70208421]\n",
            " [-0.47706766  1.28846572 -1.20027572 ... -0.49080449  0.49484954\n",
            "   0.76414289]\n",
            " ...\n",
            " [ 0.06180231  0.01283149  1.16352067 ...  0.91731465 -0.39075303\n",
            "  -0.66121353]\n",
            " [-1.0151985  -1.07643468 -0.98376878 ...  0.14069998 -0.42368492\n",
            "  -2.73495883]\n",
            " [-0.49545115  0.1438988  -0.76158131 ...  0.32224454  0.28611658\n",
            "   0.97652209]]\n"
          ]
        }
      ]
    },
    {
      "cell_type": "markdown",
      "source": [
        "`Predictions`"
      ],
      "metadata": {
        "id": "gj-IW58dCzUu"
      }
    },
    {
      "cell_type": "code",
      "source": [
        "m_test = x_test.shape[0]"
      ],
      "metadata": {
        "id": "OsEFl3qvC-qv"
      },
      "execution_count": null,
      "outputs": []
    },
    {
      "cell_type": "code",
      "source": [
        "predictions = knn(x_train, y_train, x_test, k=5)\n",
        "\n",
        "print(f\"Predicted Class = {predictions}\")"
      ],
      "metadata": {
        "colab": {
          "base_uri": "https://localhost:8080/"
        },
        "id": "XtoBi3-KC1WI",
        "outputId": "050a617f-8d98-473b-d81e-53cb49b0b07f"
      },
      "execution_count": null,
      "outputs": [
        {
          "output_type": "stream",
          "name": "stdout",
          "text": [
            "Predicted Class = [3 1 1 ... 3 4 1]\n"
          ]
        }
      ]
    },
    {
      "cell_type": "markdown",
      "source": [
        "`Saving Predictions`"
      ],
      "metadata": {
        "id": "i6wIlPc2DCK9"
      }
    },
    {
      "cell_type": "code",
      "source": [
        "# df = pd.DataFrame(predictions)\n",
        "# df.columns = ['Prediction_multiclassification']\n",
        "# df.to_csv('/content/drive/MyDrive/knn_multiclassification_test_prediction.csv', index=False)"
      ],
      "metadata": {
        "id": "iWl38cXmDETJ"
      },
      "execution_count": null,
      "outputs": []
    }
  ],
  "metadata": {
    "colab": {
      "provenance": [],
      "mount_file_id": "1vrpie0UOGTv9lONjqJz5zabsFt6KmBkj",
      "authorship_tag": "ABX9TyNctCFBGH/LMVZ33a0odtZ0",
      "include_colab_link": true
    },
    "kernelspec": {
      "display_name": "Python 3",
      "name": "python3"
    },
    "language_info": {
      "name": "python"
    }
  },
  "nbformat": 4,
  "nbformat_minor": 0
}