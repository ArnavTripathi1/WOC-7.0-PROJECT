{
  "cells": [
    {
      "cell_type": "markdown",
      "metadata": {
        "id": "view-in-github",
        "colab_type": "text"
      },
      "source": [
        "<a href=\"https://colab.research.google.com/github/ArnavTripathi1/WOC-7.0-PROJECT/blob/main/Multiclassification_(NN).ipynb\" target=\"_parent\"><img src=\"https://colab.research.google.com/assets/colab-badge.svg\" alt=\"Open In Colab\"/></a>"
      ]
    },
    {
      "cell_type": "markdown",
      "metadata": {
        "id": "yO29p-Hfumi1"
      },
      "source": [
        "#**Neural Network**"
      ]
    },
    {
      "cell_type": "markdown",
      "metadata": {
        "id": "BMdu0vuCuspY"
      },
      "source": [
        "\n",
        "\n",
        "## **1. Loading Modules**\n",
        "\n",
        "\n",
        "\n",
        "\n",
        "\n"
      ]
    },
    {
      "cell_type": "code",
      "execution_count": null,
      "metadata": {
        "id": "wyi46zvRux-s"
      },
      "outputs": [],
      "source": [
        "import numpy as np\n",
        "import pandas as pd\n",
        "import matplotlib.pyplot as plt"
      ]
    },
    {
      "cell_type": "markdown",
      "metadata": {
        "id": "8qTQLnwtu7Tg"
      },
      "source": [
        "## **2. Importing and Handling Data**\n",
        "\n"
      ]
    },
    {
      "cell_type": "code",
      "execution_count": null,
      "metadata": {
        "id": "p0t6RcYOwVCX",
        "colab": {
          "base_uri": "https://localhost:8080/"
        },
        "outputId": "c102a4d0-433c-4d62-a5c7-5f5bbbda1829"
      },
      "outputs": [
        {
          "output_type": "stream",
          "name": "stdout",
          "text": [
            "Mounted at /content/drive\n"
          ]
        }
      ],
      "source": [
        "from google.colab import drive\n",
        "drive.mount('/content/drive')            # mounting google drive"
      ]
    },
    {
      "cell_type": "code",
      "execution_count": null,
      "metadata": {
        "colab": {
          "base_uri": "https://localhost:8080/"
        },
        "id": "vGVcRBwX1X9a",
        "outputId": "c3126150-e2bf-4982-b897-433f4a9f2d18"
      },
      "outputs": [
        {
          "output_type": "stream",
          "name": "stdout",
          "text": [
            "(48000, 21)\n"
          ]
        }
      ],
      "source": [
        "df = pd.read_csv('/content/drive/MyDrive/multi_classification_train.csv', delimiter = ',')       # reading train set\n",
        "df1 = df.drop(columns = ['ID'])\n",
        "print(df1.shape)"
      ]
    },
    {
      "cell_type": "markdown",
      "metadata": {
        "id": "KAJ4Fn3p1JLV"
      },
      "source": [
        "\n",
        "\n",
        "`Dividing Data into Train, CV and Test Set`\n",
        "\n",
        "\n",
        "\n",
        "\n",
        "\n",
        "\n",
        "\n",
        "\n",
        "\n",
        "\n",
        "\n"
      ]
    },
    {
      "cell_type": "code",
      "execution_count": null,
      "metadata": {
        "colab": {
          "base_uri": "https://localhost:8080/"
        },
        "id": "gKSdmWmdvAHt",
        "outputId": "f5ce41c4-e180-46aa-cebe-b8ce3c5b6b55"
      },
      "outputs": [
        {
          "output_type": "stream",
          "name": "stdout",
          "text": [
            "TRAIN SET\n",
            "        Feature_1  Feature_2  Feature_3   Feature_4   Feature_5   Feature_6  \\\n",
            "0      -90.532634 -66.953472  79.261856 -111.800554  126.403549  111.509348   \n",
            "1     -103.156720 -16.070400  87.819228   12.614599   51.347780   67.483725   \n",
            "2       24.326153 -92.098078  82.238354  -56.795879   85.203996  127.916504   \n",
            "3      -64.631737 -83.703583  84.135072   -5.516152   74.338494  112.630556   \n",
            "4      -55.473830 -78.853237  88.129107   75.200543   76.991520   60.224711   \n",
            "...           ...        ...        ...         ...         ...         ...   \n",
            "38395  -45.530360  20.505481  90.252533  138.270800   91.603532  125.916310   \n",
            "38396  -60.521765 -42.237328  90.369753  269.561863   92.076097   -5.283061   \n",
            "38397  -92.806821 -10.345667  84.655842   55.862802   57.245586   22.425571   \n",
            "38398  -56.680361 -55.998472  87.749697  395.280159   78.139892  139.756567   \n",
            "38399  -48.095213  79.158835  86.852479   39.921551   15.855454   58.290488   \n",
            "\n",
            "        Feature_7   Feature_8   Feature_9  Feature_10  ...  Feature_12  \\\n",
            "0      207.728953  -26.600556 -106.229324  170.384649  ...  148.391734   \n",
            "1       40.269172   51.442254 -151.486693   35.872507  ...   29.009475   \n",
            "2      -90.080307 -128.124071   18.036020   70.485076  ...  111.810098   \n",
            "3      181.576798   -1.054023   60.469865   -0.658352  ...   50.047108   \n",
            "4      -13.106559 -146.773016  -33.490566  137.684666  ...   85.988282   \n",
            "...           ...         ...         ...         ...  ...         ...   \n",
            "38395 -100.847534    4.281948  -22.779359  -18.601960  ...   69.472143   \n",
            "38396 -127.956138   98.022954 -274.255996  208.815842  ...   18.270648   \n",
            "38397   38.891852  336.712897   35.929190  -71.608008  ...  -81.363561   \n",
            "38398 -136.911709  -17.103385 -205.415943  193.670625  ...   35.593744   \n",
            "38399  -56.771266  129.642456 -111.736465  -26.626898  ...  126.104093   \n",
            "\n",
            "       Feature_13  Feature_14  Feature_15  Feature_16  Feature_17  Feature_18  \\\n",
            "0       77.835738  -10.728207    1.100625    1.035362  -87.010809  -16.242297   \n",
            "1        3.995786  -10.861630 -142.605726  -25.924592  -86.755351  -36.479749   \n",
            "2       65.826018 -101.271203  -44.127749   -7.131464 -105.049759 -130.948256   \n",
            "3      100.439101 -117.842955  150.239788 -144.635542 -144.306209  -69.272905   \n",
            "4       23.381960   11.876102 -188.296503  -80.323929  -56.757987  -20.314172   \n",
            "...           ...         ...         ...         ...         ...         ...   \n",
            "38395   13.269937 -223.395892 -196.633619   41.573921   22.577533  -20.933292   \n",
            "38396   65.444324   55.366793 -230.484565   76.188355  -87.280069    7.740252   \n",
            "38397  122.012102  -77.191427  138.661958   85.815841 -120.758128  -85.696197   \n",
            "38398  105.691479  -49.264162 -166.053048    3.557251    5.778858   20.011342   \n",
            "38399  110.916919  -57.033623   25.726744  -42.267916 -102.597297  -21.628173   \n",
            "\n",
            "       Feature_19  Feature_20  Class  \n",
            "0      -32.074925  -17.666026      1  \n",
            "1     -130.246619  -44.143652      2  \n",
            "2      -43.113523  -37.330448      4  \n",
            "3      -79.629675  -51.334456      2  \n",
            "4      -42.625170  -24.102753      2  \n",
            "...           ...         ...    ...  \n",
            "38395 -111.035244  -54.866510      3  \n",
            "38396  -93.656395  -10.101157      2  \n",
            "38397  -61.576975  -65.300321      2  \n",
            "38398  -81.714899  -13.082370      2  \n",
            "38399 -107.930423  -56.446154      1  \n",
            "\n",
            "[38400 rows x 21 columns]\n",
            "\n",
            "\n",
            "CROSS VALIDATION SET\n",
            "        Feature_1  Feature_2  Feature_3   Feature_4   Feature_5   Feature_6  \\\n",
            "38400 -110.714549  49.149946  80.503509   14.133536   69.278387   62.045121   \n",
            "38401 -138.377035   9.998548  83.371102  -68.433812   71.547375  111.920564   \n",
            "38402  -11.989896   3.380094  90.021684  145.563299   86.706578   70.738502   \n",
            "38403  -61.798572 -71.605188  77.973647 -136.933712  124.154038   97.423453   \n",
            "38404  -50.827260 -97.463632  89.817505  283.136166  108.598536   61.589717   \n",
            "...           ...        ...        ...         ...         ...         ...   \n",
            "43195  -73.850063 -52.202212  88.328453   51.913213   79.837960  -86.265252   \n",
            "43196  -38.818062 -40.112526  80.690925   34.726213   71.190329   50.061606   \n",
            "43197  -29.850695 -64.840232  88.306396  178.439937   94.297169   81.933521   \n",
            "43198  -45.735522   5.682512  85.470914   36.901086   84.912742  121.749554   \n",
            "43199  -49.653434   8.609911  87.998964  268.788101   93.981664   19.742586   \n",
            "\n",
            "        Feature_7   Feature_8   Feature_9  Feature_10  ...  Feature_12  \\\n",
            "38400  140.666108   -8.586202 -213.419938  210.985651  ...   68.318224   \n",
            "38401  -80.364514  210.764105  134.338321 -204.344712  ...   21.868285   \n",
            "38402  -15.927171  -54.087588  -74.531089  -80.284423  ...  129.327482   \n",
            "38403  -64.662031 -154.328861 -189.845958  143.790045  ...  130.015613   \n",
            "38404 -123.811937  -35.211310 -160.871648  137.245005  ...   40.152474   \n",
            "...           ...         ...         ...         ...  ...         ...   \n",
            "43195  112.692761   13.817448  139.859238   96.538727  ...  -90.287411   \n",
            "43196  -20.352564    2.994391  -48.508108  -84.848304  ...  165.134635   \n",
            "43197   73.063948  158.786488  -66.748832  -70.458006  ...   35.886970   \n",
            "43198   -7.771800   72.809296  -63.156496   60.863061  ...  150.917290   \n",
            "43199   10.032969  -51.551521  -96.195918  -43.433567  ...   47.886846   \n",
            "\n",
            "       Feature_13  Feature_14  Feature_15  Feature_16  Feature_17  Feature_18  \\\n",
            "38400   75.975757   -3.287408  -59.920128   31.807949  -10.935606  -29.789426   \n",
            "38401   41.317591    5.410348   -8.030898  -13.602060    1.116419  -39.882285   \n",
            "38402   91.052785 -229.934353 -138.220264   76.216159  -12.763972    1.478476   \n",
            "38403   38.064303   26.944756 -142.521648   71.204910  -79.962870    8.683330   \n",
            "38404   52.569931    7.062844 -220.229376  -36.388037  -43.754315  -24.766659   \n",
            "...           ...         ...         ...         ...         ...         ...   \n",
            "43195   85.339733   10.659747   18.110313  -11.352894 -126.416519  -52.374772   \n",
            "43196  103.603620 -290.483018   71.545805  -16.039074  -33.535992   -9.194994   \n",
            "43197  122.885124 -218.782198   38.016184   46.974300 -100.628001  -79.336018   \n",
            "43198  133.828786   82.338368  -31.213350   -3.419891  -82.139911  -28.575686   \n",
            "43199  145.323639 -113.989962  -83.678318   39.975311   27.811228  -10.986679   \n",
            "\n",
            "       Feature_19  Feature_20  Class  \n",
            "38400 -163.351163   -9.674048      1  \n",
            "38401  -83.727782  -91.428467      3  \n",
            "38402 -119.172135  -67.008204      3  \n",
            "38403 -131.063811  -22.900959      1  \n",
            "38404  -56.573846  -24.189297      2  \n",
            "...           ...         ...    ...  \n",
            "43195 -123.436024  -32.201998      2  \n",
            "43196  -59.120665  -67.906567      4  \n",
            "43197 -115.597581  -65.073953      2  \n",
            "43198  -80.304489  -39.224464      2  \n",
            "43199  -99.022160  -59.754411      3  \n",
            "\n",
            "[4800 rows x 21 columns]\n",
            "\n",
            "\n",
            "TEST SET\n",
            "        Feature_1  Feature_2  Feature_3   Feature_4   Feature_5   Feature_6  \\\n",
            "43200  -69.185979  23.968275  81.238196 -149.577060   97.815931  111.051025   \n",
            "43201  -62.325490 -32.611407  80.540264  106.508548  104.123308  122.314643   \n",
            "43202  -75.650332  86.026729  84.332153    0.835440   74.900323   56.126347   \n",
            "43203 -123.634812  54.221003  81.302743 -277.617107   87.581145   61.870329   \n",
            "43204   26.078709 -55.798083  79.736572  -10.290007   66.143715  117.924160   \n",
            "...           ...        ...        ...         ...         ...         ...   \n",
            "47995  -87.108191 -60.144979  88.684810  126.370166   69.649250  246.690989   \n",
            "47996  -81.955836  25.992138  85.513476  104.466523   62.570018   21.866583   \n",
            "47997  -37.122904  -0.885023  86.990027  144.566972   87.266122   74.681566   \n",
            "47998  -81.065847  43.829585  87.794248  253.747102   59.630668   84.944458   \n",
            "47999  -67.197576 -38.818378  88.862139   72.092250   97.390789   89.378311   \n",
            "\n",
            "        Feature_7   Feature_8   Feature_9  Feature_10  ...  Feature_12  \\\n",
            "43200  123.165599   17.495119   87.429787  -41.840847  ...    3.309906   \n",
            "43201  -38.382094  -48.807162  -91.274933  -39.520350  ...   87.953411   \n",
            "43202  105.507443  -30.489245  124.670219   89.725157  ...  -40.947211   \n",
            "43203  104.323810   55.417388  -83.968690 -151.978895  ...   74.120033   \n",
            "43204  -77.006804  -75.287997  -79.175270   25.322899  ...  199.228723   \n",
            "...           ...         ...         ...         ...  ...         ...   \n",
            "47995   68.973573  194.720258  -28.112842 -102.269117  ...    0.680698   \n",
            "47996  -26.799428   88.327511  -68.907977  -63.098443  ...   41.719983   \n",
            "47997    5.930300    7.880936 -176.209479   77.927017  ...   74.811260   \n",
            "47998   19.864267   74.145255 -180.354203 -101.452556  ...   78.961755   \n",
            "47999 -107.892180   22.290103 -148.676378  -37.518350  ...   27.228392   \n",
            "\n",
            "       Feature_13  Feature_14  Feature_15  Feature_16  Feature_17  Feature_18  \\\n",
            "43200   83.115389 -119.801009  163.689936  -62.361521 -119.418617 -104.625607   \n",
            "43201  134.250967 -129.188015  132.332718 -147.163939  -73.043468  -18.625810   \n",
            "43202   82.763713 -117.533497   90.801008  -65.089806  -39.541604  -81.420747   \n",
            "43203   42.455875   47.468431  -91.973000  148.964330  -52.078533  -15.157008   \n",
            "43204  141.097192 -102.202538  -14.961603   70.019711  -55.600830  -92.132811   \n",
            "...           ...         ...         ...         ...         ...         ...   \n",
            "47995   99.344282  -40.468356   59.602514  -84.931182 -127.897922  -71.951492   \n",
            "47996   44.303451 -216.046063   42.327045 -137.935906  -43.356225  -73.312303   \n",
            "47997  121.307286  -42.375677   11.766851  -78.725390 -126.507350  -41.193191   \n",
            "47998  130.106200 -116.635990  -33.445066  -41.137102   12.558330  -22.311973   \n",
            "47999   34.025760    2.044998 -199.591047   59.698797  -80.569266  -10.179671   \n",
            "\n",
            "       Feature_19  Feature_20  Class  \n",
            "43200 -124.232446  -59.440897      2  \n",
            "43201  -59.869509  -58.984126      4  \n",
            "43202  -96.830640  -33.543194      2  \n",
            "43203 -115.887880  -81.120680      1  \n",
            "43204 -120.719548  -46.220257      2  \n",
            "...           ...         ...    ...  \n",
            "47995  -47.415895  -71.335712      2  \n",
            "47996  -49.577503  -63.625282      3  \n",
            "47997  -66.652097  -35.865562      1  \n",
            "47998  -56.104864  -71.174979      3  \n",
            "47999 -127.660487  -58.590048      2  \n",
            "\n",
            "[4800 rows x 21 columns]\n"
          ]
        }
      ],
      "source": [
        "print('TRAIN SET')\n",
        "print(df1.iloc[:38400])\n",
        "\n",
        "print()\n",
        "print()\n",
        "\n",
        "print('CROSS VALIDATION SET')\n",
        "print(df1.iloc[38400:43200])\n",
        "\n",
        "print()\n",
        "print()\n",
        "\n",
        "print('TEST SET')\n",
        "print(df1.iloc[43200:])"
      ]
    },
    {
      "cell_type": "code",
      "execution_count": null,
      "metadata": {
        "id": "cIbtM5AmJYY4"
      },
      "outputs": [],
      "source": [
        "df_train = df.iloc[:38400]\n",
        "df_cv = df.iloc[38400:43200]\n",
        "df_test = df.iloc[43200:]"
      ]
    },
    {
      "cell_type": "markdown",
      "metadata": {
        "id": "CwHy8Kn_2XkN"
      },
      "source": [
        "\n",
        "\n",
        "\n",
        "`Arranging Train Set as an array`\n",
        "\n",
        "\n"
      ]
    },
    {
      "cell_type": "code",
      "execution_count": null,
      "metadata": {
        "collapsed": true,
        "id": "i8h87qtZykgV",
        "colab": {
          "base_uri": "https://localhost:8080/"
        },
        "outputId": "95d2e0dc-4c4f-40e3-8a19-6084d7fd381e"
      },
      "outputs": [
        {
          "output_type": "stream",
          "name": "stdout",
          "text": [
            "x_train = [[ -90.53263395  -66.95347161   79.26185595 ...  -16.24229669\n",
            "   -32.07492465  -17.66602617]\n",
            " [-103.15671956  -16.07040001   87.81922753 ...  -36.47974913\n",
            "  -130.24661901  -44.14365222]\n",
            " [  24.32615256  -92.09807783   82.23835394 ... -130.94825564\n",
            "   -43.11352279  -37.33044832]\n",
            " ...\n",
            " [ -92.80682054  -10.34566693   84.65584236 ...  -85.69619713\n",
            "   -61.57697522  -65.30032143]\n",
            " [ -56.68036093  -55.99847164   87.74969696 ...   20.01134236\n",
            "   -81.71489859  -13.08237026]\n",
            " [ -48.0952133    79.15883523   86.85247902 ...  -21.62817318\n",
            "  -107.9304225   -56.44615414]]\n",
            "\n",
            "y_train = [1 2 4 ... 2 2 1]\n"
          ]
        }
      ],
      "source": [
        "features_train = df_train.loc[:, 'Feature_1':'Feature_20']\n",
        "\n",
        "x_train = features_train.to_numpy()\n",
        "y_train = df_train['Class'].to_numpy()\n",
        "\n",
        "print(f\"x_train = {x_train}\")\n",
        "print()\n",
        "print(f\"y_train = {y_train}\")"
      ]
    },
    {
      "cell_type": "markdown",
      "metadata": {
        "id": "vPBGTPaFUzq1"
      },
      "source": [
        "`x_train Normalization`"
      ]
    },
    {
      "cell_type": "code",
      "execution_count": null,
      "metadata": {
        "id": "qVyFeMZIU4aU",
        "colab": {
          "base_uri": "https://localhost:8080/"
        },
        "outputId": "e5b91976-42c8-45f8-872f-4adc9d67ac61"
      },
      "outputs": [
        {
          "output_type": "stream",
          "name": "stdout",
          "text": [
            "Normalized x_train = [[-0.56571807 -0.57317719 -2.15388543 ...  0.67685993  1.7249436\n",
            "   1.45285191]\n",
            " [-0.92033606  0.22120171  0.54538883 ... -0.0352828  -0.99102716\n",
            "   0.44137434]\n",
            " [ 2.66073284 -0.96573101 -1.21500083 ... -3.35956782  1.41955506\n",
            "   0.70164703]\n",
            " ...\n",
            " [-0.62960131  0.31057538 -0.45244609 ... -1.76717745  0.90875409\n",
            "  -0.3668362 ]\n",
            " [ 0.3852122  -0.40214937  0.52345662 ...  1.95260181  0.35162801\n",
            "   1.62795315]\n",
            " [ 0.62637405  1.70790627  0.2404448  ...  0.48733446 -0.37363803\n",
            "  -0.02859623]]\n"
          ]
        }
      ],
      "source": [
        "mean = np.mean(x_train, axis = 0)\n",
        "std = np.std(x_train, axis = 0)\n",
        "\n",
        "x_train = (x_train - mean) / std\n",
        "\n",
        "print(f\"Normalized x_train = {x_train}\")"
      ]
    },
    {
      "cell_type": "markdown",
      "metadata": {
        "id": "b_Ef2Xgq4jj0"
      },
      "source": [
        "## **3. Visualising the Data**"
      ]
    },
    {
      "cell_type": "code",
      "execution_count": null,
      "metadata": {
        "id": "DlDdqLy1Hky-"
      },
      "outputs": [],
      "source": [
        "Class_0 = np.sum(y_train == 0)\n",
        "Class_1 = np.sum(y_train == 1)\n",
        "Class_2 = np.sum(y_train == 2)\n",
        "Class_3 = np.sum(y_train == 3)\n",
        "Class_4 = np.sum(y_train == 4)"
      ]
    },
    {
      "cell_type": "code",
      "execution_count": null,
      "metadata": {
        "id": "puk9T-Xi47ZN",
        "colab": {
          "base_uri": "https://localhost:8080/",
          "height": 511
        },
        "outputId": "608c48db-971d-4585-cecc-2231cf4b6e94"
      },
      "outputs": [
        {
          "output_type": "display_data",
          "data": {
            "text/plain": [
              "<Figure size 640x480 with 1 Axes>"
            ],
            "image/png": "[encoded data removed]"
          },
          "metadata": {}
        }
      ],
      "source": [
        "Category = ['Class 0', 'Class 1', 'Class 2', 'Class 3', 'Class 4']\n",
        "Value = [Class_0, Class_1, Class_2, Class_3, Class_4]\n",
        "\n",
        "plt.bar(Category, Value, color = 'red')\n",
        "plt.title('Strength of Individual Class', fontdict = {'fontsize' : 20})\n",
        "plt.xlabel('Class')\n",
        "plt.ylabel('Strength')\n",
        "\n",
        "plt.xticks(rotation=45)\n",
        "plt.show()"
      ]
    },
    {
      "cell_type": "markdown",
      "metadata": {
        "id": "_diHJCNS-2V-"
      },
      "source": [
        "##**4. Model Initialization**"
      ]
    },
    {
      "cell_type": "code",
      "execution_count": null,
      "metadata": {
        "id": "7tViegZz70yb"
      },
      "outputs": [],
      "source": [
        "m = x_train.shape[0]\n",
        "n = x_train.shape[1]"
      ]
    },
    {
      "cell_type": "markdown",
      "metadata": {
        "id": "VH0EIVUk6txI"
      },
      "source": [
        "## **Defining Softmax Function**"
      ]
    },
    {
      "cell_type": "code",
      "execution_count": null,
      "metadata": {
        "id": "6kIBXEHcMqLu"
      },
      "outputs": [],
      "source": [
        "def softmax(z):\n",
        "\n",
        "    e_z = np.exp(z - np.max(z, axis=1, keepdims=True))\n",
        "    return e_z / e_z.sum(axis=1, keepdims=True)"
      ]
    },
    {
      "cell_type": "markdown",
      "metadata": {
        "id": "r3MCkrVY5bw4"
      },
      "source": [
        "## **Defining ReLU Function**"
      ]
    },
    {
      "cell_type": "code",
      "execution_count": null,
      "metadata": {
        "id": "Md8oyRIs5gV6"
      },
      "outputs": [],
      "source": [
        "def relu(z):\n",
        "  return np.maximum(0, z)"
      ]
    },
    {
      "cell_type": "markdown",
      "metadata": {
        "id": "y-9f3KQ5Ufox"
      },
      "source": [
        "## **Forward Propogation**"
      ]
    },
    {
      "cell_type": "code",
      "execution_count": null,
      "metadata": {
        "id": "bpkqv-5AVRNr"
      },
      "outputs": [],
      "source": [
        "def forward_prop(x, w1, b1, w2, b2, w3, b3, w4, b4):\n",
        "\n",
        "  z1 = np.matmul(x, w1) + b1\n",
        "  a1 = relu(z1)\n",
        "\n",
        "  z2 = np.matmul(a1, w2) + b2\n",
        "  a2 = relu(z2)\n",
        "\n",
        "  z3 = np.matmul(a2, w3) + b3\n",
        "  a3 = relu(z3)\n",
        "\n",
        "  z4 = np.matmul(a3, w4) + b4\n",
        "  a4 = softmax(z4)\n",
        "\n",
        "  return a1, a2, a3, a4"
      ]
    },
    {
      "cell_type": "markdown",
      "metadata": {
        "id": "eAAq1hhMTBY-"
      },
      "source": [
        "## **Defining Cost Function**"
      ]
    },
    {
      "cell_type": "code",
      "execution_count": null,
      "metadata": {
        "id": "GsU8IcFVQUYu"
      },
      "outputs": [],
      "source": [
        "def cost(a4, y, w1, w2, w3, w4):\n",
        "\n",
        "  m = y.shape[0]\n",
        "  cost = -np.sum(y * np.log(a4)) / m\n",
        "\n",
        "  return cost"
      ]
    },
    {
      "cell_type": "markdown",
      "metadata": {
        "id": "n-eN-_7lT3kA"
      },
      "source": [
        "## **5. Backward Propogation**"
      ]
    },
    {
      "cell_type": "code",
      "execution_count": null,
      "metadata": {
        "id": "Z5g2r8tPqExX"
      },
      "outputs": [],
      "source": [
        "def back_prop(x, y, a1, a2, a3, a4, w1, w2, w3, w4):\n",
        "  m = x.shape[0]\n",
        "\n",
        "  dz4 = a4 - y\n",
        "  dz4 /= m\n",
        "\n",
        "  dw4 = np.matmul(a3.T, dz4)\n",
        "  db4 = np.sum(dz4, axis=0, keepdims=False)\n",
        "\n",
        "  dz3 = np.matmul(dz4, w4.T) * (a3 > 0)\n",
        "  dw3 = np.matmul(a2.T, dz3)\n",
        "  db3 = np.sum(dz3, axis=0, keepdims=False)\n",
        "\n",
        "  dz2 = np.matmul(dz3, w3.T) * (a2 > 0)\n",
        "  dw2 = np.matmul(a1.T, dz2)\n",
        "  db2 = np.sum(dz2, axis=0, keepdims=False)\n",
        "\n",
        "  dz1 = np.matmul(dz2, w2.T) * (a1 > 0)\n",
        "  dw1 = np.matmul(x.T, dz1)\n",
        "  db1 = np.sum(dz1, axis=0, keepdims=False)\n",
        "\n",
        "  return dw1, db1, dw2, db2, dw3, db3, dw4, db4"
      ]
    },
    {
      "cell_type": "markdown",
      "metadata": {
        "id": "FCAGtLwNlEh_"
      },
      "source": [
        "## **6. Defining Gradient Descent**"
      ]
    },
    {
      "cell_type": "code",
      "execution_count": null,
      "metadata": {
        "id": "1XEuUDCIiB8X"
      },
      "outputs": [],
      "source": [
        "y_train_encoded = np.eye(5)[y_train -1]"
      ]
    },
    {
      "cell_type": "markdown",
      "metadata": {
        "id": "Mnj8jitYaRkQ"
      },
      "source": [
        "`Gradient Descent`"
      ]
    },
    {
      "cell_type": "code",
      "execution_count": null,
      "metadata": {
        "id": "MrXtjnRZadrw"
      },
      "outputs": [],
      "source": [
        "def gradient_descent(x_train, y_train, w1, b1, w2, b2, w3, b3, w4, b4, alpha, num_iters):\n",
        "\n",
        "  J_history = []\n",
        "\n",
        "  for i in range(num_iters):\n",
        "\n",
        "    a1, a2, a3, a4 = forward_prop(x_train, w1, b1, w2, b2, w3, b3, w4, b4)\n",
        "\n",
        "    dw1, db1, dw2, db2, dw3, db3, dw4, db4 = back_prop(x_train, y_train_encoded, a1, a2, a3, a4, w1, w2, w3, w4)\n",
        "\n",
        "    w1 -= alpha * dw1\n",
        "    b1 -= alpha * db1\n",
        "    w2 -= alpha * dw2\n",
        "    b2 -= alpha * db2\n",
        "    w3 -= alpha * dw3\n",
        "    b3 -= alpha * db3\n",
        "    w4 -= alpha * dw4\n",
        "    b4 -= alpha * db4\n",
        "\n",
        "    if i < 100000:\n",
        "      J_history.append(cost(a4, y_train_encoded, w1, w2, w3, w4))             # storing cost with every iteration for\n",
        "                                                                              # plotting later.\n",
        "    if i % (num_iters//10) == 0:\n",
        "      print(f\"Epochs {i:6}/{epochs} : Cost {J_history[-1] :8.4f} \")\n",
        "\n",
        "  return w1, b1, w2, b2, w3, b3, w4, b4, J_history"
      ]
    },
    {
      "cell_type": "markdown",
      "metadata": {
        "id": "DZ6lgZJHfO_p"
      },
      "source": [
        "`Random Initialization of Weights`"
      ]
    },
    {
      "cell_type": "code",
      "execution_count": null,
      "metadata": {
        "id": "_wJNRVE4_77E"
      },
      "outputs": [],
      "source": [
        "w1_int = np.random.randn(20, 50) * 0.01\n",
        "b1_int = np.zeros((1, 50))\n",
        "w2_int = np.random.randn(50, 25) * 0.01\n",
        "b2_int = np.zeros((1, 25))\n",
        "w3_int = np.random.randn(25, 12) * 0.01\n",
        "b3_int = np.zeros((1, 12))\n",
        "w4_int = np.random.randn(12, 5) * 0.01\n",
        "b4_int = np.zeros((1, 5))"
      ]
    },
    {
      "cell_type": "markdown",
      "metadata": {
        "id": "mefp3H6i8z5o"
      },
      "source": [
        "`Hyperparameters`"
      ]
    },
    {
      "cell_type": "code",
      "execution_count": null,
      "metadata": {
        "id": "SbrUDQOUAFL_"
      },
      "outputs": [],
      "source": [
        "epochs = 5000\n",
        "tmp_alpha = 0.01                                 # learning rate"
      ]
    },
    {
      "cell_type": "markdown",
      "metadata": {
        "id": "9As5zBkS82vE"
      },
      "source": [
        "`Implementing Gradient Descent`"
      ]
    },
    {
      "cell_type": "code",
      "execution_count": null,
      "metadata": {
        "colab": {
          "base_uri": "https://localhost:8080/"
        },
        "id": "NYJk98qPrN5x",
        "outputId": "62461dc9-9d72-4195-809c-6960a60d82da"
      },
      "outputs": [
        {
          "output_type": "stream",
          "name": "stdout",
          "text": [
            "CPU times: user 3 µs, sys: 0 ns, total: 3 µs\n",
            "Wall time: 7.15 µs\n",
            "Epochs      0/5000 : Cost   1.6094 \n",
            "Epochs    500/5000 : Cost   1.5188 \n",
            "Epochs   1000/5000 : Cost   1.5056 \n",
            "Epochs   1500/5000 : Cost   1.5029 \n",
            "Epochs   2000/5000 : Cost   1.5022 \n",
            "Epochs   2500/5000 : Cost   1.5020 \n",
            "Epochs   3000/5000 : Cost   1.5019 \n",
            "Epochs   3500/5000 : Cost   1.5019 \n",
            "Epochs   4000/5000 : Cost   1.5019 \n",
            "Epochs   4500/5000 : Cost   1.5019 \n",
            "TRAIN COST estimated is =  1.5019\n"
          ]
        }
      ],
      "source": [
        "%time\n",
        "\n",
        "w1_fin, b1_fin, w2_fin, b2_fin, w3_fin, b3_fin, w4_fin, b4_fin, J_hist = gradient_descent(x_train ,y_train_encoded, w1_int, b1_int, w2_int, b2_int, w3_int, b3_int, w4_int, b4_int,\n",
        "                                                                                            tmp_alpha, epochs)\n",
        "\n",
        "\n",
        "print(f\"TRAIN COST estimated is ={J_hist[-1] : 8.4f}\")"
      ]
    },
    {
      "cell_type": "markdown",
      "metadata": {
        "id": "n1pamIKWq17y"
      },
      "source": [
        "`Learning Curve`"
      ]
    },
    {
      "cell_type": "code",
      "execution_count": null,
      "metadata": {
        "id": "iDg3aosY8EaY",
        "colab": {
          "base_uri": "https://localhost:8080/",
          "height": 480
        },
        "outputId": "bf31ed29-348f-43c3-d9e8-6eabeb8772c0"
      },
      "outputs": [
        {
          "output_type": "display_data",
          "data": {
            "text/plain": [
              "<Figure size 640x480 with 1 Axes>"
            ],
            "image/png": "[encoded data removed]"
          },
          "metadata": {}
        }
      ],
      "source": [
        "plt.plot(np.arange(len(J_hist)), J_hist, 'b', label = 'Cost')\n",
        "plt.title('Learning Curve', fontdict = {'fontsize' : 20})\n",
        "plt.xlabel('Iterations')\n",
        "plt.ylabel('Cost J')\n",
        "\n",
        "plt.legend()\n",
        "\n",
        "plt.show()"
      ]
    },
    {
      "cell_type": "markdown",
      "metadata": {
        "id": "pREA9kZ5O9pb"
      },
      "source": [
        "##**7. Learned Parameters**"
      ]
    },
    {
      "cell_type": "code",
      "execution_count": null,
      "metadata": {
        "id": "U3M9tfzaPAux",
        "colab": {
          "base_uri": "https://localhost:8080/"
        },
        "outputId": "1d88fe9b-a8aa-469f-8b09-3e113c5a6df2"
      },
      "outputs": [
        {
          "output_type": "stream",
          "name": "stdout",
          "text": [
            "Obtained weights = [[-1.20394488e-02  7.96162170e-04 -1.16290631e-02  9.65994846e-03\n",
            "   4.99634768e-03 -1.28798867e-02  8.35233950e-03  1.37352833e-02\n",
            "   2.45857055e-03 -8.73854610e-04  9.77195627e-03  3.29535396e-03\n",
            "  -4.93719218e-03 -2.39752221e-02 -8.98936852e-03 -8.60935058e-04\n",
            "   8.75256500e-03 -1.30196642e-02 -4.91260988e-03  4.24832416e-03\n",
            "   5.40068150e-03  7.17929744e-03  1.05863913e-03 -4.43761350e-03\n",
            "  -9.37723278e-03 -3.77267458e-03  3.41682267e-03  4.57225730e-03\n",
            "  -7.64579695e-03  2.48561254e-03  4.14302518e-03  1.57124696e-03\n",
            "   1.42243248e-03  4.00070613e-03  1.39714147e-02  2.83081187e-04\n",
            "   2.66333659e-04  1.67145915e-03  1.07869673e-04  1.42167476e-02\n",
            "  -5.33096642e-03  2.19732792e-03  4.50203623e-03 -6.49945843e-03\n",
            "   2.27010621e-02  2.74123743e-02 -2.75394494e-03  5.57121546e-03\n",
            "   4.72919837e-04  7.27596125e-03]\n",
            " [ 3.89946011e-03 -2.27549045e-03 -5.83881070e-03 -5.19334728e-03\n",
            "  -4.81235933e-03 -3.87009513e-03 -9.99736674e-04 -1.42194815e-02\n",
            "  -2.33770657e-02  2.00777844e-03 -6.86060638e-03 -1.41597231e-02\n",
            "  -4.97383181e-03 -3.84337056e-03 -9.71844358e-03 -1.63375120e-02\n",
            "   1.95363461e-03 -3.22554346e-03  7.58492395e-03  2.68400983e-03\n",
            "  -2.30296340e-03 -2.14194940e-04 -1.12196505e-02  6.94788128e-03\n",
            "  -8.29573661e-03  1.37908317e-02  1.92761462e-02  9.05387244e-03\n",
            "  -1.50509880e-02  3.27866950e-03  6.61519364e-04  1.22783857e-02\n",
            "  -1.75902836e-02 -8.23985687e-03  9.47670252e-04  7.38385724e-03\n",
            "   8.01397548e-03 -1.53807918e-03 -1.79981776e-02  2.23555530e-03\n",
            "  -1.93837100e-03 -2.00115050e-02  7.11435808e-04  4.96852747e-03\n",
            "   6.47881798e-03 -5.45879601e-03  6.08415835e-03 -1.28138421e-02\n",
            "  -8.53928062e-03  1.09889693e-02]\n",
            " [ 3.04029027e-04  2.22834508e-02 -6.38429969e-03 -2.88963643e-04\n",
            "   1.12562751e-02  2.53208326e-03 -6.02451813e-03  7.76336074e-03\n",
            "  -1.00446858e-02 -1.53141308e-02 -3.35761317e-03  1.56650250e-03\n",
            "  -1.37838945e-03  9.29405611e-03 -1.17614663e-03 -1.30821462e-02\n",
            "  -4.95897540e-03  1.07057790e-02 -5.35873999e-04  2.44788614e-02\n",
            "  -2.25279311e-03 -3.05268082e-03  2.02729685e-02 -1.12407456e-02\n",
            "  -5.58039395e-04 -8.41250900e-03  2.52222846e-03  2.62732299e-03\n",
            "  -8.55881170e-03  5.61984244e-03  1.22559133e-02  2.36142180e-03\n",
            "  -5.46731156e-03  1.55325764e-02 -4.95241498e-03  8.18090670e-03\n",
            "   1.07895650e-03 -7.04278278e-03 -2.87564684e-03  1.08036050e-02\n",
            "   6.77384968e-03 -6.85372814e-03 -1.82172063e-02 -2.57772633e-03\n",
            "   4.21205793e-03 -3.65215927e-03 -5.45113273e-03  1.17506469e-02\n",
            "  -1.02729563e-02 -3.34659518e-03]\n",
            " [ 4.65306872e-03  1.54666143e-02  2.19993167e-03  7.93463543e-03\n",
            "  -9.42297635e-03  7.46805976e-03  2.24166519e-02 -7.91578228e-03\n",
            "  -2.51425626e-02  5.08108620e-04 -3.93409417e-03 -7.31752522e-03\n",
            "   4.73797958e-03 -5.65589285e-03 -2.22073695e-02  2.47037926e-02\n",
            "   1.44587632e-02 -1.31637490e-02  2.30792675e-02 -8.01872235e-05\n",
            "   1.76127032e-03  1.49519880e-04 -1.13688147e-02  9.10442512e-03\n",
            "   5.97593877e-03 -1.55082559e-02  1.53338067e-02  7.70582993e-03\n",
            "   8.35608844e-03  4.33403113e-03  3.50438906e-03  1.91010541e-02\n",
            "   4.53677630e-03  4.74705750e-03 -1.76894490e-02 -1.55932551e-02\n",
            "   2.98456760e-03 -5.16309695e-03  3.82188671e-03 -3.80998949e-03\n",
            "   1.71580049e-02 -1.88521399e-02 -2.16514371e-03  4.72654230e-04\n",
            "   8.55322131e-03 -1.45202787e-02  1.33173127e-02 -1.21369204e-02\n",
            "  -4.69434043e-03  1.41540645e-02]\n",
            " [ 1.19685553e-02  1.51144376e-02  1.38211002e-02 -2.33073557e-03\n",
            "   1.20163850e-02 -7.08986680e-03 -4.10689688e-03  1.35083455e-02\n",
            "   4.91258038e-03  9.41309127e-03 -5.76170799e-03  9.92438928e-03\n",
            "  -8.14076382e-03  2.19359422e-02 -3.34690675e-04  7.16512307e-03\n",
            "  -7.57041545e-03  3.66519262e-03  1.00921835e-02  9.29904503e-03\n",
            "   5.50334693e-03  1.77820170e-02  6.44019424e-03  9.83245798e-03\n",
            "   5.63694405e-03  9.26039448e-03 -5.57694111e-03 -7.38478246e-03\n",
            "   5.61791460e-03  2.24554314e-03  2.03834929e-03  4.14346230e-03\n",
            "   1.15049872e-02  4.52176100e-03 -9.89888007e-03 -4.55794215e-03\n",
            "   8.31974943e-03 -4.38528840e-03 -3.02867549e-03 -7.99743322e-03\n",
            "   8.07555711e-03  2.40760578e-03  1.81159364e-03  1.93798661e-02\n",
            "   2.25795594e-03  3.26379952e-03 -7.32771932e-04 -4.59863783e-03\n",
            "  -1.61853115e-03 -9.17705546e-03]\n",
            " [ 7.55301762e-03  4.28900154e-03  1.53669583e-02 -5.41601229e-03\n",
            "  -1.74766519e-02 -1.48684670e-02  9.07189602e-04  1.63532039e-02\n",
            "  -1.05976540e-02 -3.82883902e-03  5.16538321e-03  9.04132077e-03\n",
            "  -3.61577332e-03 -1.46462119e-02 -6.05142164e-03  2.76352935e-02\n",
            "   9.15326757e-03 -8.43126819e-03  5.64249981e-03 -4.01508748e-03\n",
            "   1.03155647e-03 -6.49575478e-03  2.97984733e-03 -1.01073545e-02\n",
            "  -1.37249016e-02 -6.48840172e-03  4.90076053e-03 -8.67565729e-03\n",
            "  -1.17754933e-02  1.79680497e-03 -1.44299877e-02 -1.32659891e-03\n",
            "  -5.43750894e-03 -1.55951687e-02 -5.74207228e-03  6.63403468e-04\n",
            "   1.52253854e-02  1.44664157e-03  5.43976570e-04 -1.04791974e-02\n",
            "   8.11507761e-05  3.00863864e-03  3.73475241e-03 -4.78128002e-03\n",
            "   7.02659998e-03  6.53619545e-05  2.22138147e-03  5.90602476e-03\n",
            "  -4.10030649e-03 -8.18258945e-04]\n",
            " [-1.97138089e-02 -8.81976318e-03  6.62697321e-04 -3.73611196e-03\n",
            "  -1.37189159e-03 -1.86418814e-02 -1.26021337e-02  6.05123101e-04\n",
            "   9.09328396e-03  5.11758026e-03  9.52040631e-04 -9.91996125e-04\n",
            "   7.93183042e-03 -9.81927924e-03  2.56736936e-02  1.56543273e-02\n",
            "  -1.15615400e-02  2.96813993e-05  7.96137304e-03 -4.68342599e-04\n",
            "  -4.03019493e-03  4.91018830e-03  1.54982785e-02 -2.44090504e-03\n",
            "   4.66000364e-03  2.27638237e-02  4.00906667e-03 -2.08695902e-02\n",
            "  -6.40054528e-03 -8.48970792e-03 -8.23005945e-03 -2.28281008e-03\n",
            "  -7.28309397e-03  8.08513520e-03 -1.04360803e-02  8.03091029e-03\n",
            "   1.30778370e-04  1.10037317e-02  7.99247633e-03  7.16882545e-04\n",
            "   3.34164806e-03 -9.66880276e-03  3.26478733e-03 -2.42352522e-03\n",
            "   1.13537777e-02  4.34779816e-03 -1.43753115e-02  1.20794276e-03\n",
            "   2.58813809e-03  4.56855054e-03]\n",
            " [-2.43036000e-03 -1.71015646e-03 -5.33136816e-03 -9.52522831e-03\n",
            "  -6.42708043e-03 -2.09927410e-02  1.17559929e-02 -1.70814855e-02\n",
            "  -1.15029861e-02 -7.89906530e-03  4.28493632e-03  1.08293402e-02\n",
            "   1.96347107e-03  7.09214932e-04 -7.61605129e-03  2.70962397e-03\n",
            "  -9.59677976e-03  1.26451855e-03 -1.02275846e-02  6.12832807e-03\n",
            "  -3.04931645e-02  1.61078052e-02  2.32300491e-02 -9.47436578e-03\n",
            "   5.15678734e-03  6.83192464e-03  1.26084199e-02  9.86884512e-03\n",
            "  -9.78711973e-03  1.00516997e-02  9.39111521e-03 -1.28165376e-03\n",
            "   3.84998925e-03  2.22795420e-04  7.16669020e-03  1.58263178e-04\n",
            "   2.59697970e-04 -3.46528207e-03  1.34524056e-02  6.29089173e-03\n",
            "  -2.28689711e-03 -7.59842490e-03  1.56349689e-02  2.71248381e-03\n",
            "   1.12801399e-02  1.07735621e-02  4.54048729e-03  1.49813929e-02\n",
            "  -4.73395878e-03 -2.27999393e-03]\n",
            " [-2.25668952e-03  3.38446033e-03 -9.50154779e-03  2.96148238e-03\n",
            "   4.35249935e-03 -6.31542915e-03  5.56238834e-03 -3.82602995e-03\n",
            "   8.30565889e-03 -5.30841321e-03  1.08889071e-02 -6.38375519e-03\n",
            "   5.97749866e-03  2.19771982e-02  3.79317254e-03  7.27844158e-03\n",
            "   1.04174098e-03  2.85436955e-03 -3.01531156e-03  3.33486657e-04\n",
            "   4.36409603e-03  2.49502972e-02 -2.77746938e-03  2.89166765e-03\n",
            "  -6.44993484e-03 -1.32896270e-02 -6.81552664e-03 -2.07090948e-03\n",
            "   1.94620425e-02 -1.95137597e-02  1.36663615e-02  2.12016953e-03\n",
            "  -1.62214006e-02  1.05377733e-02 -8.35039204e-03 -2.17130803e-02\n",
            "   1.23511586e-02  1.18654187e-02  5.74554588e-04  1.26752618e-02\n",
            "  -1.56236603e-02 -1.71896106e-02  5.23993834e-04  2.03372707e-02\n",
            "   1.60609815e-02  1.18483112e-02 -2.36695869e-03 -8.80325137e-03\n",
            "   1.49997199e-02  1.83287540e-02]\n",
            " [ 3.33911535e-03 -5.95670879e-03  1.10409121e-03  9.58185984e-03\n",
            "  -1.96559163e-02 -6.08771011e-05 -7.76916582e-04 -4.87323716e-03\n",
            "  -1.18836575e-02  9.76042159e-03 -4.35463639e-03 -2.19928301e-02\n",
            "  -1.84065446e-03 -8.36764656e-03 -1.23747488e-02 -4.06549933e-03\n",
            "   3.93235919e-03  3.65257416e-04 -1.92172060e-02 -2.06270268e-02\n",
            "  -3.81949391e-03 -7.80202183e-04  1.05292143e-02 -4.57032383e-03\n",
            "   5.54112669e-03  1.50458410e-03  6.70059918e-03 -3.97799969e-03\n",
            "   8.80337403e-03 -1.38702792e-02 -7.42130993e-03  3.79940515e-03\n",
            "  -9.24569281e-03 -1.00517483e-02 -3.39808652e-03  6.81383319e-03\n",
            "   3.67099542e-03 -3.22690135e-03 -4.35474583e-03  6.93757703e-03\n",
            "   4.35407037e-04 -7.49787760e-03  1.44561754e-02  8.99992830e-03\n",
            "  -2.60110944e-03 -1.75826163e-03  1.52766731e-02  1.03311469e-02\n",
            "  -1.14572624e-02  3.09997489e-03]\n",
            " [ 1.20196611e-02  4.68519385e-03 -5.53271404e-03  6.12612096e-03\n",
            "   2.08196878e-03 -5.37264941e-03 -7.62707492e-03 -1.16408469e-02\n",
            "  -1.58464960e-03  4.12938948e-03  5.60485995e-03  4.11035579e-03\n",
            "  -9.88028147e-04  5.60595214e-03 -4.62071948e-03 -2.60227902e-03\n",
            "  -2.46580515e-03  4.19769588e-04 -1.39123988e-02  1.13133993e-02\n",
            "  -3.90110873e-03  3.94719208e-04  1.06081084e-02  5.89408876e-03\n",
            "   6.40805790e-03 -1.05429626e-03 -6.12412527e-03 -1.09702541e-02\n",
            "   4.20834679e-03  1.37297023e-02 -2.31947746e-03  5.75893536e-03\n",
            "  -4.47317524e-03  9.84223974e-03 -4.09423443e-03  1.40444214e-02\n",
            "   1.27455296e-02  2.04720336e-02  1.13333424e-02  4.22810224e-03\n",
            "  -9.66948348e-03 -3.54991435e-04  1.01403762e-02 -1.10058184e-04\n",
            "   4.23972087e-03  3.88098115e-03 -1.91062331e-02 -2.25241673e-03\n",
            "   8.47912680e-04  3.93539225e-03]\n",
            " [-7.75250157e-03 -1.66249468e-02 -3.72278557e-03  7.33202683e-04\n",
            "   8.69059960e-03 -9.68118050e-05 -3.69722874e-03 -1.44114761e-02\n",
            "   8.79399533e-04  1.91145046e-02 -3.10713257e-03 -5.53601069e-03\n",
            "  -9.91238184e-03 -1.52017670e-02  1.27083992e-02 -1.50837950e-02\n",
            "  -5.06884379e-03 -9.39649091e-03 -4.37726569e-03  3.96768043e-03\n",
            "   9.38102902e-03  1.22178622e-02  4.84647027e-03 -1.65588013e-02\n",
            "  -4.39694309e-03  1.05104929e-03  1.35256865e-03  8.30090191e-03\n",
            "   1.44380382e-02 -1.18827727e-02 -1.66168697e-02  1.85207841e-02\n",
            "   2.46943029e-03 -3.85267129e-03  5.04356860e-03 -9.48839457e-04\n",
            "  -1.32147989e-02 -7.08076897e-03  1.46787392e-02  5.11003666e-03\n",
            "  -1.56775277e-03  8.31741808e-03 -3.40379746e-03 -3.61224335e-03\n",
            "  -6.03201693e-03 -5.42462239e-03  1.66371637e-02  4.60559984e-03\n",
            "   3.22537684e-03  1.20072625e-02]\n",
            " [-7.99076767e-03 -5.13873319e-03 -4.99676568e-03  1.18763896e-02\n",
            "   5.26856455e-03 -6.50372592e-03  4.44919274e-04  3.36107621e-03\n",
            "  -7.54257659e-04 -9.13982643e-03 -2.54008686e-03 -2.77134080e-03\n",
            "   1.52857179e-04 -1.13322510e-02  4.26698270e-03 -4.29108618e-03\n",
            "  -4.18991085e-03 -3.77910389e-03 -2.17992007e-02  2.13795906e-03\n",
            "   9.10037856e-03  3.42236956e-04 -6.23284671e-04  4.14500468e-03\n",
            "   2.83807475e-03 -3.92396962e-03  1.34375915e-02  1.15283540e-02\n",
            "  -1.33331842e-02  7.39519404e-03  6.87294386e-03 -1.12249536e-02\n",
            "   1.26628782e-02 -3.22936472e-03 -1.44135002e-02 -5.17694762e-03\n",
            "   8.78661826e-03  2.03326148e-02 -1.20087160e-02  1.43860797e-02\n",
            "  -9.41194671e-03  8.60461868e-03 -5.69255751e-03  2.92633808e-03\n",
            "  -6.03638249e-03 -1.01544318e-02 -4.02520227e-03  2.10974666e-02\n",
            "   9.38982804e-03 -8.54114867e-03]\n",
            " [-2.25440170e-03 -1.54439621e-02 -1.10394508e-03 -2.70265232e-03\n",
            "   2.37372582e-02 -2.24493205e-04 -1.04664009e-03 -7.42595237e-03\n",
            "   1.33775027e-02 -1.20964858e-03  1.08952578e-02  8.40696251e-04\n",
            "   7.18893579e-03  9.25116532e-04  2.52589049e-03 -2.17787566e-02\n",
            "  -2.11079784e-03  1.13987259e-02  6.32317031e-03  7.16015274e-03\n",
            "  -1.92735109e-02 -1.81555701e-02  1.26546920e-02  5.55622982e-03\n",
            "   1.47180294e-02 -1.68790627e-02  1.26092185e-02  1.08040564e-02\n",
            "  -2.68171789e-03  1.30650477e-02 -5.16848370e-03 -2.78945676e-03\n",
            "   1.35208248e-02  3.19624550e-03  3.32692611e-03  1.50370820e-03\n",
            "   1.03013136e-02 -5.06816796e-03 -1.84716839e-02 -1.67130748e-02\n",
            "  -3.62036181e-03  8.00786033e-03  2.56955318e-04  1.54946279e-03\n",
            "   4.20801118e-03  6.82261717e-03 -5.31626059e-03  8.85019460e-03\n",
            "   2.70840795e-03  1.49124671e-03]\n",
            " [-1.07221939e-02  9.05652599e-04  3.62343810e-03  2.37665106e-02\n",
            "  -4.08535171e-03 -8.17884566e-03  2.54081261e-02  3.35842140e-03\n",
            "   7.90007617e-03  4.84027844e-03  5.54966747e-03 -3.13005871e-03\n",
            "   9.62550435e-03 -1.00107066e-02  7.74022140e-03 -1.70806849e-04\n",
            "  -1.23079568e-02  6.72780404e-03  1.69971588e-03 -3.27449028e-03\n",
            "  -1.05020304e-02 -5.00437303e-03 -4.98434434e-03 -1.05335426e-02\n",
            "   3.79848384e-03 -9.95825339e-05 -3.05147074e-04 -4.59959925e-03\n",
            "  -3.43210358e-03  8.76678550e-03 -6.38277871e-03  3.41175409e-03\n",
            "  -1.49163835e-02 -8.78136532e-03 -1.59122578e-02 -5.77049406e-04\n",
            "  -1.64137594e-03  6.67548656e-03  1.31905121e-02 -2.06001789e-02\n",
            "   9.03878400e-04 -6.37998819e-03  1.15501689e-03 -6.58640545e-03\n",
            "  -3.11148178e-04 -8.91997956e-03 -4.13453037e-03  1.34098755e-02\n",
            "  -4.35104870e-04 -1.38229888e-02]\n",
            " [-9.28572328e-03 -3.09283368e-03 -3.13475039e-03  2.69087895e-03\n",
            "  -6.12640843e-03 -2.20195414e-02  2.19628601e-03 -1.01298132e-02\n",
            "   1.52358961e-02  6.01509947e-03 -4.20666008e-03 -5.69806854e-03\n",
            "   2.14092227e-03  4.65229771e-04  4.14953448e-03 -1.64884035e-03\n",
            "   1.75006198e-02  1.00470821e-02  1.29914323e-02  2.08756853e-02\n",
            "  -1.84610977e-03 -3.37236347e-03 -8.09830394e-03 -9.68064707e-04\n",
            "   1.69793452e-02 -3.18037054e-03 -3.62037476e-03  1.20805796e-02\n",
            "   2.86247873e-03 -1.36335190e-02  4.57668982e-03  2.16670400e-02\n",
            "  -1.10083462e-02 -2.06048168e-03  1.42246387e-02  4.20551676e-03\n",
            "  -1.02143774e-02  1.20259935e-02  1.05699496e-02 -6.73397049e-03\n",
            "   1.22111721e-02  3.76436938e-03 -1.41751923e-02  6.82708191e-03\n",
            "  -9.55279538e-03  7.79168075e-03 -1.10752498e-03  5.87337590e-03\n",
            "  -8.11962563e-03  1.10495395e-02]\n",
            " [-1.47589785e-02 -1.46705431e-03 -6.58073540e-03 -4.84400971e-03\n",
            "  -4.06069990e-03  8.29083902e-03  6.17569059e-03  9.14741455e-03\n",
            "  -5.61745434e-04  1.50080853e-02 -5.85561933e-03 -3.07114386e-03\n",
            "  -9.43794978e-04  5.99274978e-03  2.15678812e-03  7.74617677e-04\n",
            "  -1.64003412e-02 -1.68994603e-02 -1.42147596e-02  1.08203295e-02\n",
            "   8.99806144e-03  2.82763743e-03  6.87634019e-03  5.69690389e-03\n",
            "  -1.12645094e-02  6.77838498e-03 -3.77668273e-03  6.79485351e-04\n",
            "   1.66144228e-02  5.90533411e-03  1.18821023e-04  1.47474116e-02\n",
            "   1.61605855e-02 -7.50714211e-03 -3.44107272e-03 -5.07119298e-03\n",
            "  -8.31385784e-03  5.97143885e-03  5.98596331e-04 -9.28321415e-03\n",
            "   1.23051585e-02  6.26802494e-03 -2.14849872e-04  8.27642476e-03\n",
            "  -7.51056076e-04  1.32392227e-02  8.17395025e-03  3.41819594e-03\n",
            "  -1.35816718e-02 -6.36899516e-03]\n",
            " [-8.58175434e-03 -9.97521385e-03  3.08717807e-03  8.83247629e-03\n",
            "  -8.41434057e-03  1.04781553e-02 -1.12107879e-02  8.28342667e-03\n",
            "   7.99340116e-04 -3.33761892e-03  1.92096589e-02  8.06991061e-03\n",
            "   6.33163690e-03  1.57609504e-02  4.73405590e-03  1.57690314e-04\n",
            "   2.06630947e-03  1.17708197e-02  1.18647623e-02 -1.36253829e-02\n",
            "  -1.77746949e-02 -3.11043236e-03  1.78858107e-02  1.69716861e-03\n",
            "   1.68164167e-02 -7.84737340e-03 -1.03237913e-02 -9.46109530e-03\n",
            "   5.32674326e-03  4.75441273e-03 -1.59457557e-02 -3.69434107e-04\n",
            "   1.90788542e-02  1.27994630e-02 -2.54150229e-02 -3.67466065e-03\n",
            "  -9.61995099e-03 -1.05164428e-02 -1.32480512e-02 -9.69538018e-03\n",
            "  -1.48224756e-03  9.36711568e-03 -1.34111125e-02  5.84818578e-03\n",
            "   6.45375209e-03 -3.58300073e-03 -1.40850088e-02  1.47781556e-03\n",
            "   9.71848236e-04 -1.13356474e-02]\n",
            " [-3.78151546e-03 -1.54440084e-02 -2.91932165e-02 -1.32194335e-02\n",
            "   6.98664023e-03 -9.55265235e-03 -7.16483333e-03  1.55930232e-02\n",
            "   3.94425823e-03 -1.15522656e-02 -8.22414157e-03  2.77650948e-03\n",
            "   3.22290060e-04  1.45752880e-02 -3.20879707e-03 -1.56159137e-02\n",
            "   1.56430555e-02 -1.22044218e-02  2.29118707e-03  8.65742110e-03\n",
            "  -4.09462493e-03 -2.02498062e-02  8.18440329e-03  1.30696322e-04\n",
            "  -8.68730542e-03  1.50782864e-02  3.77600867e-03  1.12414110e-02\n",
            "  -1.27752717e-03  8.60983985e-03  3.74398347e-03 -4.66842102e-03\n",
            "   6.38195076e-03 -1.12506389e-03  7.75218487e-03  1.00015439e-02\n",
            "  -7.67123619e-03 -5.99891053e-03 -6.82043805e-05  3.83900931e-03\n",
            "   3.69204814e-03  4.84627583e-03 -6.39577198e-04 -2.00522836e-02\n",
            "  -1.98229990e-02  3.94804048e-03  1.18417754e-02  2.31157151e-03\n",
            "   4.03606684e-03 -1.16361737e-02]\n",
            " [ 7.10091229e-03  7.48729437e-03 -4.85184254e-03 -5.54061799e-03\n",
            "   2.09020039e-03  3.81651627e-03  1.64757774e-02  4.32193859e-03\n",
            "  -1.45146690e-02  6.68609432e-03 -6.81532336e-03  1.99414028e-03\n",
            "   2.53231523e-04  7.27745426e-03  2.40498850e-02 -1.54880532e-02\n",
            "  -2.63674286e-03 -1.35570143e-02 -4.00767338e-03  1.19131589e-02\n",
            "  -9.24900029e-03  2.48108982e-02  1.63669799e-02 -1.51320158e-02\n",
            "   4.77508394e-03 -1.92107869e-04  6.16994717e-03  9.42398447e-03\n",
            "  -3.67283365e-05 -1.25571490e-02  1.33868171e-02 -2.25216891e-02\n",
            "  -7.92152057e-03  4.34942053e-03 -4.50108660e-03 -7.80857305e-03\n",
            "  -1.36740794e-02 -1.40937313e-02  1.54155483e-04  5.05013589e-04\n",
            "  -1.96730249e-02  4.44348726e-03  1.75247140e-02 -1.08066788e-02\n",
            "  -1.21239762e-02 -1.00738118e-02 -6.06633025e-03 -1.18377531e-03\n",
            "   2.74525429e-03 -5.24365725e-03]]\n",
            "[[ 0.0028042  -0.0031989  -0.00248557 ...  0.01097386  0.012947\n",
            "  -0.00267128]\n",
            " [ 0.0104168  -0.01341365 -0.00839174 ...  0.01315643 -0.00192165\n",
            "   0.01625833]\n",
            " [-0.01737246 -0.01186155 -0.0031332  ...  0.0121007   0.002809\n",
            "   0.00680265]\n",
            " ...\n",
            " [-0.00811717  0.01817403 -0.00199659 ...  0.00719621  0.00716317\n",
            "   0.00265142]\n",
            " [ 0.01405336  0.02098366  0.01065937 ...  0.00011356 -0.01137863\n",
            "  -0.01078298]\n",
            " [ 0.002707   -0.00727129  0.0050028  ...  0.01406168 -0.00982908\n",
            "   0.00470925]]\n",
            "[[-3.45597299e-03 -1.56609369e-02 -2.19124056e-02  1.66277608e-02\n",
            "   5.44010587e-03 -1.10453770e-02 -6.71513246e-04 -1.38263075e-02\n",
            "   4.61634907e-04  3.50004963e-03 -3.08209966e-03 -1.51204218e-03]\n",
            " [-6.68162832e-03  6.61928179e-03  3.82762419e-03 -7.19941405e-03\n",
            "   1.53046711e-02  5.38247917e-03  1.28667993e-02  1.54953972e-02\n",
            "  -4.19242328e-03  1.88603977e-04  9.94209755e-03  9.85783083e-03]\n",
            " [-8.19793118e-04  3.05915513e-03 -2.72226780e-03  1.01022989e-02\n",
            "   1.36045371e-02 -2.75529074e-03 -1.44530404e-03 -1.38780465e-02\n",
            "   7.01397236e-03 -3.08108550e-03  1.63887826e-04  5.05008492e-03]\n",
            " [-1.90994222e-02 -7.57482026e-03  1.32813523e-03 -1.62370485e-03\n",
            "  -9.71919109e-03  7.51452485e-03 -1.75612119e-03  9.11911691e-03\n",
            "  -1.07395792e-02 -1.16840080e-03 -1.82803551e-02 -1.92447226e-03]\n",
            " [ 4.92243525e-03 -8.50620135e-03  1.69554668e-03  2.88570662e-03\n",
            "  -4.77375235e-03  1.53105037e-02  4.13038071e-04 -2.70572244e-04\n",
            "  -3.45727626e-03 -1.15979671e-04  9.45623389e-03 -9.55353659e-05]\n",
            " [ 1.25950092e-02 -4.52551589e-03 -1.79415714e-02 -5.60757795e-03\n",
            "   2.01050709e-02 -8.76288496e-03  7.93945570e-03 -2.64557481e-02\n",
            "  -4.65226831e-04  3.61944081e-03 -1.21750413e-02  1.59905455e-04]\n",
            " [ 1.19283898e-02  8.80726232e-03 -2.87812294e-03 -8.46799175e-03\n",
            "   1.90768262e-02 -6.98018998e-04 -6.16854248e-03 -4.79752564e-04\n",
            "  -8.32925657e-03 -3.91167875e-03  2.59851660e-03  1.18674986e-02]\n",
            " [ 4.80859423e-03 -2.52113582e-03  3.23055887e-03 -3.70614291e-03\n",
            "   2.06921504e-02 -3.43326832e-03  9.87252318e-03  7.07881822e-03\n",
            "   5.87650309e-03 -2.05328324e-02 -1.38003883e-02 -2.05280317e-02]\n",
            " [-2.42258516e-02 -1.00237746e-03  7.32459863e-03  1.62821494e-02\n",
            "   4.60766064e-03 -6.46837556e-03 -1.29633129e-02  2.00591020e-02\n",
            "  -1.36571009e-02  2.75163570e-04  9.60674443e-03  4.36453683e-03]\n",
            " [-1.37400543e-02 -7.39458105e-04 -5.69509863e-03  1.09817511e-02\n",
            "   6.76032312e-03 -2.27366673e-02  6.76925196e-03  6.70923119e-05\n",
            "   1.00529568e-02  1.37570293e-02 -8.12003247e-03  1.07294450e-02]\n",
            " [-5.45089546e-03 -4.78862115e-03  6.99448370e-03 -1.64520591e-03\n",
            "   2.09475193e-03 -3.74773998e-03  8.55674025e-03  6.86098837e-03\n",
            "  -4.80963348e-03 -1.17320724e-02  1.19144432e-02  1.19973905e-02]\n",
            " [-2.34748923e-02  9.65120850e-03  1.63896191e-02  1.55227092e-02\n",
            "   9.23576985e-03 -1.24472182e-02  8.91046997e-03  2.78904990e-03\n",
            "   6.80830639e-03  1.58329937e-02  1.34570060e-02 -2.02795756e-02]\n",
            " [ 3.42973542e-03 -9.76422139e-03  1.63128374e-02 -1.75113618e-02\n",
            "  -3.94716726e-03  5.93231098e-03 -2.25111873e-03  6.69787431e-03\n",
            "  -2.39893784e-04 -1.57868579e-02  7.19621071e-03  1.57830619e-02]\n",
            " [-1.90395426e-03 -1.31970038e-02  4.89502707e-03 -6.03851837e-03\n",
            "   2.15370086e-03 -1.72721011e-02  5.64293351e-03 -7.62665374e-03\n",
            "  -1.34160455e-02  7.41438690e-03  1.41314935e-03 -7.39549184e-03]\n",
            " [ 7.22425339e-03  1.15929826e-02 -8.37964266e-03  2.34529956e-03\n",
            "  -2.29549956e-02 -6.94404022e-03  1.94493437e-03  2.35397008e-03\n",
            "  -1.07285666e-04  1.16348462e-03  5.20677067e-03 -1.10986553e-02]\n",
            " [-2.00738124e-02 -4.09106823e-03 -2.48672215e-03  8.60656270e-03\n",
            "  -1.20700493e-02 -1.16647747e-02 -5.09728378e-03 -2.32085001e-03\n",
            "  -7.43020878e-03  3.47814022e-03 -2.01839777e-03 -7.09961253e-03]\n",
            " [ 1.85747977e-02  4.94902396e-04 -1.71444582e-03 -3.27011517e-03\n",
            "   4.58513135e-03 -1.09011385e-02 -2.82609272e-03  8.91264589e-03\n",
            "   1.18155720e-02  4.89743113e-03  3.47465947e-03 -1.33124361e-02]\n",
            " [ 8.12373029e-03  1.38524968e-02  6.83719476e-03 -2.04709490e-02\n",
            "   9.10642539e-03  1.04403319e-02 -1.31033614e-03 -1.13538525e-02\n",
            "  -6.40038769e-03 -1.44310568e-02 -9.12083668e-03 -4.83036094e-03]\n",
            " [-5.34413875e-03 -8.49671860e-03  2.37249491e-03  8.67229136e-03\n",
            "  -2.02296553e-03 -2.05311528e-02 -1.54826881e-03 -2.97270801e-03\n",
            "  -1.07168545e-02  9.14282576e-04  2.97991863e-03  9.99900792e-03]\n",
            " [-3.76439627e-03 -3.57136631e-03 -1.08768303e-02 -8.21811338e-03\n",
            "   8.64178793e-03  1.95889724e-04 -2.48879714e-02 -1.48371481e-02\n",
            "  -3.63716792e-05 -5.58291020e-03  1.15161527e-03 -1.02216798e-02]\n",
            " [ 1.42219587e-03 -1.09164579e-02 -5.89493380e-03  6.41879406e-03\n",
            "   6.28939433e-04 -2.26471623e-03 -6.61535385e-03 -1.23163279e-03\n",
            "   1.20122423e-02 -1.62141725e-03 -2.39570032e-02 -9.33097312e-03]\n",
            " [-1.86930417e-02  1.58106270e-03 -7.37544667e-03  8.66213328e-03\n",
            "  -3.99948556e-03 -9.21487737e-03  1.07206146e-02  1.38310576e-02\n",
            "   7.57813167e-03  1.49053317e-03 -3.57563479e-03  2.01252539e-02]\n",
            " [ 5.44614686e-03 -9.79550093e-03  1.11759497e-02 -2.07982054e-03\n",
            "  -9.39729779e-04 -9.92368095e-03 -2.81830500e-03  3.31610706e-03\n",
            "  -1.79406709e-02  2.09317803e-02  9.58528084e-03 -1.85172030e-02]\n",
            " [-8.12718530e-03 -2.52669612e-03 -1.61033283e-02 -3.68769983e-03\n",
            "  -1.11681038e-02  5.32511072e-03 -1.26643370e-02 -4.90447973e-03\n",
            "   7.14151563e-03 -1.36738656e-02 -9.76498987e-03 -5.91896234e-03]\n",
            " [-5.32306356e-03 -2.82451286e-03  1.63642859e-03  1.93089616e-02\n",
            "  -7.61785710e-03 -7.55663599e-03  1.48554229e-04 -4.32215867e-03\n",
            "   1.86526246e-03 -1.05547950e-02 -4.72789077e-03  8.27700751e-03]]\n",
            "[[-1.34613032e-02 -1.07480673e-03 -1.85522578e-02  1.12111070e-02\n",
            "  -1.31045556e-02]\n",
            " [ 5.04829215e-04 -4.77645192e-03 -9.12583092e-03 -1.70116642e-02\n",
            "   1.55002963e-02]\n",
            " [-2.43558754e-03  7.19392582e-03  8.63075074e-04 -9.42388211e-03\n",
            "   1.07620201e-02]\n",
            " [ 6.25358894e-03 -1.22084945e-03 -8.61658244e-03  1.03820767e-03\n",
            "   3.86696962e-03]\n",
            " [ 6.46117021e-03  2.58819683e-02  7.17651556e-03  7.13206919e-03\n",
            "   7.87998941e-03]\n",
            " [-1.37777324e-02  1.29543262e-02  4.92670124e-03  2.88219260e-03\n",
            "   2.12338803e-02]\n",
            " [-2.57528638e-02  1.40177839e-02 -9.15569948e-03 -1.64815841e-02\n",
            "  -1.59235455e-02]\n",
            " [ 4.25827239e-03 -1.80950994e-03 -3.41923946e-03 -4.55091510e-03\n",
            "   9.99003303e-03]\n",
            " [ 6.08321592e-04  2.58382360e-02  1.36572141e-02 -3.00279542e-03\n",
            "   2.89453723e-03]\n",
            " [ 3.19808640e-03  8.75771333e-03  1.54241222e-02 -1.18528338e-02\n",
            "  -6.59425123e-03]\n",
            " [ 1.43744429e-02 -4.30392121e-04 -2.15037192e-02  2.02196948e-02\n",
            "  -5.79413364e-05]\n",
            " [-1.33933732e-02 -1.12125656e-02  1.12933244e-02  4.47052630e-04\n",
            "   8.71762068e-03]]\n",
            "\n",
            "Obtained bias terms = [[-3.76661481e-06 -2.32853281e-05  8.76379629e-06 -5.06936411e-07\n",
            "  -1.08185331e-05 -3.88767523e-05 -4.74110067e-05  9.45604458e-06\n",
            "   4.07101532e-06  2.71436945e-05 -2.00311710e-05 -1.79163371e-05\n",
            "  -2.52254286e-05  8.46818658e-06  3.49181242e-06 -2.40434522e-05\n",
            "   1.23234856e-05 -4.47181174e-06  1.57388872e-06  3.03044291e-05\n",
            "   2.96493200e-05 -5.61664254e-06  4.44459435e-06  9.81127437e-06\n",
            "   1.51651765e-05 -1.93998677e-05  1.75680936e-05  3.49397034e-05\n",
            "   2.19268001e-05  2.22744103e-05  7.23280076e-05 -2.12837544e-06\n",
            "   9.98016816e-06  2.31707223e-05  2.72197864e-05  8.99146788e-05\n",
            "  -6.55706546e-06 -3.15442810e-05  1.55148717e-05  2.47129040e-06\n",
            "  -2.92134680e-05  7.59143426e-06  5.04925059e-06 -3.52040258e-05\n",
            "   8.09600557e-05  5.04985208e-06 -7.53469838e-06 -2.74886830e-05\n",
            "  -1.23629274e-05 -8.70061246e-06]]\n",
            "[[ 1.73705398e-04 -6.29113505e-05 -2.85683438e-04 -7.02749314e-05\n",
            "   2.36882732e-04  8.06936768e-04 -8.32764282e-05  6.36948238e-04\n",
            "  -5.44493787e-04  1.28074344e-03  2.45372579e-04 -1.02383728e-03\n",
            "  -2.24605131e-04  3.05843161e-04  4.48944392e-04  3.45335591e-05\n",
            "   6.00894440e-04 -5.84859491e-04  4.29124060e-04  2.22668326e-04\n",
            "   4.30125306e-05  4.24434062e-04  4.06305609e-04  5.23592990e-05\n",
            "   2.03182794e-04]]\n",
            "[[-2.28607804e-04  3.99847721e-05  2.68896126e-04  3.26200523e-05\n",
            "   7.89624484e-03  1.70433315e-04  1.27117723e-02 -1.74788482e-04\n",
            "   1.30025192e-02  1.35113756e-02 -2.18835002e-04 -1.83844726e-04]]\n",
            "[[ 0.28975608  0.66599414  0.15624117 -0.37136484 -0.74062655]]\n"
          ]
        }
      ],
      "source": [
        "print(f'Obtained weights = {w1_fin}' )\n",
        "print(f'{w2_fin}' )\n",
        "print(f'{w3_fin}' )\n",
        "print(f'{w4_fin}' )\n",
        "print()\n",
        "print(f'Obtained bias terms = {b1_fin}')\n",
        "print(f'{b2_fin}')\n",
        "print(f'{b3_fin}')\n",
        "print(f'{b4_fin}')"
      ]
    },
    {
      "cell_type": "markdown",
      "metadata": {
        "id": "qZvZgzD5UbqE"
      },
      "source": [
        "##**8. Estimating Cross Validation Cost**"
      ]
    },
    {
      "cell_type": "markdown",
      "metadata": {
        "id": "ncxBL8dBW8lG"
      },
      "source": [
        "`CV Set`\n",
        "\n",
        "\n"
      ]
    },
    {
      "cell_type": "code",
      "execution_count": null,
      "metadata": {
        "id": "n3ZywCdNUk_e"
      },
      "outputs": [],
      "source": [
        "features_cv = df_cv.loc[:, 'Feature_1':'Feature_20']\n",
        "\n",
        "x_cv = features_cv.to_numpy()\n",
        "y_cv = df_cv['Class'].to_numpy()"
      ]
    },
    {
      "cell_type": "markdown",
      "metadata": {
        "id": "bmlJ3a-lPSnT"
      },
      "source": [
        "\n",
        "`Same Normalization`\n",
        "\n",
        "\n"
      ]
    },
    {
      "cell_type": "code",
      "execution_count": null,
      "metadata": {
        "collapsed": true,
        "id": "PwlZkpigPJfU",
        "colab": {
          "base_uri": "https://localhost:8080/"
        },
        "outputId": "a0550191-d988-4438-e85f-a88590c43129"
      },
      "outputs": [
        {
          "output_type": "stream",
          "name": "stdout",
          "text": [
            "x_cv = [[-1.13263993  1.23941198 -1.76222748 ...  0.2001453  -1.90688151\n",
            "   1.75815523]\n",
            " [-1.90969546  0.62818622 -0.85769514 ... -0.15501583  0.29594054\n",
            "  -1.3649632 ]\n",
            " [ 1.64059367  0.52485991  1.24011541 ...  1.30044233 -0.68464583\n",
            "  -0.43207938]\n",
            " ...\n",
            " [ 1.1388733  -0.5401856   0.69905754 ... -1.54336691 -0.58575394\n",
            "  -0.35818865]\n",
            " [ 0.69265917  0.56080492 -0.19534578 ...  0.24285602  0.39064773\n",
            "   0.62929332]\n",
            " [ 0.58260271  0.60650702  0.60208354 ...  0.86180169 -0.12718634\n",
            "  -0.15497566]]\n",
            "y_cv = [1 3 3 ... 2 2 3]\n"
          ]
        }
      ],
      "source": [
        "x_cv = (x_cv - mean) / std\n",
        "\n",
        "print(f\"x_cv = {x_cv}\")\n",
        "print(f\"y_cv = {y_cv}\")"
      ]
    },
    {
      "cell_type": "code",
      "execution_count": null,
      "metadata": {
        "id": "1SUNyJnoU4VB",
        "colab": {
          "base_uri": "https://localhost:8080/"
        },
        "outputId": "d05678e2-6ef7-4006-91f4-9bc6869d0c6c"
      },
      "outputs": [
        {
          "output_type": "stream",
          "name": "stdout",
          "text": [
            "4800\n"
          ]
        }
      ],
      "source": [
        "m_cv = x_cv.shape[0]\n",
        "print(m_cv)"
      ]
    },
    {
      "cell_type": "markdown",
      "metadata": {
        "id": "IVqvvVlTXBHr"
      },
      "source": [
        "`Computing Cross Validation Cost`"
      ]
    },
    {
      "cell_type": "code",
      "execution_count": null,
      "metadata": {
        "id": "PXi_DnrAxbLy",
        "colab": {
          "base_uri": "https://localhost:8080/"
        },
        "outputId": "67af62f4-eba3-43e2-d772-0bb4a19981d2"
      },
      "outputs": [
        {
          "output_type": "stream",
          "name": "stdout",
          "text": [
            "Cross Validation Cost =   1.4968\n"
          ]
        }
      ],
      "source": [
        "a1, a2, a3, a4 = forward_prop(x_cv, w1_fin, b1_fin, w2_fin, b2_fin, w3_fin, b3_fin, w4_fin, b4_fin)\n",
        "\n",
        "y_cv_encoded = np.eye(5)[y_cv - 1]\n",
        "\n",
        "cv_cost = cost(a4, y_cv_encoded,w1_fin, w2_fin, w3_fin, w4_fin)\n",
        "\n",
        "print(f\"Cross Validation Cost = {cv_cost : 8.4f}\")"
      ]
    },
    {
      "cell_type": "markdown",
      "metadata": {
        "id": "KOldzZkpWbfL"
      },
      "source": [
        "##**9. Estimating Test Cost**"
      ]
    },
    {
      "cell_type": "markdown",
      "metadata": {
        "id": "Dww3nk9xWl70"
      },
      "source": [
        "`Test Set`"
      ]
    },
    {
      "cell_type": "code",
      "execution_count": null,
      "metadata": {
        "id": "xMfFJsyZWjP7"
      },
      "outputs": [],
      "source": [
        "features_test = df_test.loc[:, 'Feature_1':'Feature_20']\n",
        "\n",
        "x_test = features_test.to_numpy()\n",
        "y_test = df_test['Class'].to_numpy()"
      ]
    },
    {
      "cell_type": "markdown",
      "metadata": {
        "id": "UmNoHsykWqZJ"
      },
      "source": [
        "`Same Normalization`"
      ]
    },
    {
      "cell_type": "code",
      "execution_count": null,
      "metadata": {
        "id": "BKPYZCCeWtrz",
        "colab": {
          "base_uri": "https://localhost:8080/"
        },
        "outputId": "9df86c50-c451-4c2b-de2a-8aa50d851bb2"
      },
      "outputs": [
        {
          "output_type": "stream",
          "name": "stdout",
          "text": [
            "x_test = [[ 0.03392202  0.8462795  -1.53048323 ... -2.43329103 -0.82464194\n",
            "  -0.14299904]\n",
            " [ 0.22663722 -0.03703402 -1.75063371 ...  0.59298566  0.95599202\n",
            "  -0.12554983]\n",
            " [-0.14766545  1.81512679 -0.55454843 ... -1.61672713 -0.06655681\n",
            "   0.84632475]\n",
            " ...\n",
            " [ 0.93459266  0.45827354  0.28383188 ... -0.20114574  0.76834823\n",
            "   0.75760745]\n",
            " [-0.29979046  1.15635131  0.53750939 ...  0.463272    1.06014289\n",
            "  -0.59125528]\n",
            " [ 0.08977743 -0.13393632  0.87435727 ...  0.89019977 -0.91948049\n",
            "  -0.11049559]]\n",
            "y_test = [2 4 2 ... 1 3 2]\n"
          ]
        }
      ],
      "source": [
        "x_test = (x_test - mean) / std\n",
        "\n",
        "print(f\"x_test = {x_test}\")\n",
        "print(f\"y_test = {y_test}\")"
      ]
    },
    {
      "cell_type": "code",
      "execution_count": null,
      "metadata": {
        "id": "un1uiNeOWyzL",
        "colab": {
          "base_uri": "https://localhost:8080/"
        },
        "outputId": "dce25ebf-a492-4c7f-dcb6-9228492ab0e2"
      },
      "outputs": [
        {
          "output_type": "stream",
          "name": "stdout",
          "text": [
            "4800\n"
          ]
        }
      ],
      "source": [
        "m_test = x_test.shape[0]\n",
        "print(m_test)"
      ]
    },
    {
      "cell_type": "markdown",
      "metadata": {
        "id": "VYdA8IBJW2ez"
      },
      "source": [
        "`Computing Test Cost`"
      ]
    },
    {
      "cell_type": "code",
      "execution_count": null,
      "metadata": {
        "id": "4ru3_s3GW4Ep",
        "colab": {
          "base_uri": "https://localhost:8080/"
        },
        "outputId": "b788cd2a-dda4-4de5-8d80-e6b5dea8a9b7"
      },
      "outputs": [
        {
          "output_type": "stream",
          "name": "stdout",
          "text": [
            "Test Cost =   1.5046\n"
          ]
        }
      ],
      "source": [
        "a1, a2, a3, a4 = forward_prop(x_test, w1_fin, b1_fin, w2_fin, b2_fin, w3_fin, b3_fin, w4_fin, b4_fin)\n",
        "\n",
        "y_test_encoded = np.eye(5)[y_test - 1]\n",
        "test_cost = cost(a4, y_test_encoded, w1_fin, w2_fin, w3_fin, w4_fin)\n",
        "\n",
        "print(f\"Test Cost = {test_cost: 8.4f}\")"
      ]
    },
    {
      "cell_type": "markdown",
      "metadata": {
        "id": "T2eJb7lco4zL"
      },
      "source": [
        "##**10. Estimating Accuracy**"
      ]
    },
    {
      "cell_type": "markdown",
      "metadata": {
        "id": "Nc9ddj_CaSDh"
      },
      "source": [
        "`Accuracy of Test Set Predictions`"
      ]
    },
    {
      "cell_type": "code",
      "execution_count": null,
      "metadata": {
        "id": "GwrLQFI-yQ_I",
        "colab": {
          "base_uri": "https://localhost:8080/"
        },
        "outputId": "a0c8c0fb-c5b7-484a-bc7f-ea4d19d3322d"
      },
      "outputs": [
        {
          "output_type": "stream",
          "name": "stdout",
          "text": [
            "Test Accuracy = 34.208333333333336%\n"
          ]
        }
      ],
      "source": [
        "_, _, _, a4_test = forward_prop(x_test, w1_fin, b1_fin, w2_fin, b2_fin, w3_fin, b3_fin, w4_fin, b4_fin)\n",
        "y_pred_test = np.argmax(a4_test, axis=1) + 1\n",
        "\n",
        "accuracy_test = np.mean(y_pred_test == y_test)\n",
        "print(f\"Test Accuracy = {accuracy_test * 100}%\")"
      ]
    },
    {
      "cell_type": "markdown",
      "metadata": {
        "id": "Qw1T-T5OYkwe"
      },
      "source": [
        "`Accuracy of CV set Predictions`"
      ]
    },
    {
      "cell_type": "code",
      "execution_count": null,
      "metadata": {
        "id": "kex8tg7zyGhZ",
        "colab": {
          "base_uri": "https://localhost:8080/"
        },
        "outputId": "4529ad43-ee91-4f50-c3a5-96b7cbe6a68f"
      },
      "outputs": [
        {
          "output_type": "stream",
          "name": "stdout",
          "text": [
            "Cross Validation Accuracy = 34.625%\n"
          ]
        }
      ],
      "source": [
        "_, _, _, a4_cv = forward_prop(x_cv, w1_fin, b1_fin, w2_fin, b2_fin, w3_fin, b3_fin, w4_fin, b4_fin)\n",
        "y_pred_cv = np.argmax(a4_cv, axis=1) + 1\n",
        "\n",
        "\n",
        "accuracy_cv = np.mean(y_pred_cv == y_cv)\n",
        "print(f\"Cross Validation Accuracy = {accuracy_cv * 100}%\")"
      ]
    },
    {
      "cell_type": "markdown",
      "metadata": {
        "id": "IPS2s8obapqg"
      },
      "source": [
        "`Accuracy of Train Set Predictions`"
      ]
    },
    {
      "cell_type": "code",
      "execution_count": null,
      "metadata": {
        "id": "oxJiPuMMycHb",
        "colab": {
          "base_uri": "https://localhost:8080/"
        },
        "outputId": "551d2c28-5302-4d58-e5be-1dc5584509b3"
      },
      "outputs": [
        {
          "output_type": "stream",
          "name": "stdout",
          "text": [
            "Train Accuracy = 34.671875%\n"
          ]
        }
      ],
      "source": [
        "_, _, _, a4_train = forward_prop(x_train, w1_fin, b1_fin, w2_fin, b2_fin, w3_fin, b3_fin, w4_fin, b4_fin)\n",
        "y_pred_train = np.argmax(a4_train, axis=1) + 1\n",
        "\n",
        "accuracy_train = np.mean(y_pred_train == y_train)\n",
        "print(f\"Train Accuracy = {accuracy_train * 100}%\")"
      ]
    },
    {
      "cell_type": "markdown",
      "metadata": {
        "id": "xvO5twf9KNwF"
      },
      "source": [
        "##**11. Final Model**"
      ]
    },
    {
      "cell_type": "code",
      "execution_count": null,
      "metadata": {
        "id": "phIXHudpu2F1"
      },
      "outputs": [],
      "source": [
        "def nn_multi(input, w1_fin, b1_fin, w2_fin, b2_fin, w3_fin, b3_fin, w4_fin, b4_fin):\n",
        "\n",
        "  a1, a2, a3, a4 = forward_prop(input, w1_fin, b1_fin, w2_fin, b2_fin, w3_fin, b3_fin, w4_fin, b4_fin)\n",
        "\n",
        "  return a4"
      ]
    },
    {
      "cell_type": "markdown",
      "source": [
        "##**12. Confirming with array full of 2**\n",
        "\n"
      ],
      "metadata": {
        "id": "lHMW-jcgZ97i"
      }
    },
    {
      "cell_type": "code",
      "source": [
        "chk = np.full((38400,), 2)\n",
        "chk"
      ],
      "metadata": {
        "colab": {
          "base_uri": "https://localhost:8080/"
        },
        "id": "pBekUE9_aDIC",
        "outputId": "9eb118a1-70d7-46b5-addb-15040c9b7576"
      },
      "execution_count": null,
      "outputs": [
        {
          "output_type": "execute_result",
          "data": {
            "text/plain": [
              "array([2, 2, 2, ..., 2, 2, 2])"
            ]
          },
          "metadata": {},
          "execution_count": 39
        }
      ]
    },
    {
      "cell_type": "code",
      "source": [
        "count = 0\n",
        "\n",
        "for i in range(len(chk)):\n",
        "  if chk[i] == y_train[i]:\n",
        "    count += 1"
      ],
      "metadata": {
        "id": "9jbIS8BDaPVj"
      },
      "execution_count": null,
      "outputs": []
    },
    {
      "cell_type": "markdown",
      "source": [
        "`Accuracy`"
      ],
      "metadata": {
        "id": "3NObtD5OfBzq"
      }
    },
    {
      "cell_type": "code",
      "source": [
        "accuracy = count / len(chk)\n",
        "print(f\"Accuracy = {accuracy * 100}%\")"
      ],
      "metadata": {
        "colab": {
          "base_uri": "https://localhost:8080/"
        },
        "id": "FXCdftF9abZL",
        "outputId": "aa5028ee-f056-49c6-9387-d376f9c1b026"
      },
      "execution_count": null,
      "outputs": [
        {
          "output_type": "stream",
          "name": "stdout",
          "text": [
            "Accuracy = 34.671875%\n"
          ]
        }
      ]
    }
  ],
  "metadata": {
    "colab": {
      "provenance": [],
      "mount_file_id": "1vrpie0UOGTv9lONjqJz5zabsFt6KmBkj",
      "authorship_tag": "ABX9TyOSxNPtP0xCYxmKMYoNZrKA",
      "include_colab_link": true
    },
    "kernelspec": {
      "display_name": "Python 3",
      "name": "python3"
    },
    "language_info": {
      "name": "python"
    }
  },
  "nbformat": 4,
  "nbformat_minor": 0
}