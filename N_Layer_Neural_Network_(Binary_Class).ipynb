{
  "cells": [
    {
      "cell_type": "markdown",
      "metadata": {
        "id": "view-in-github",
        "colab_type": "text"
      },
      "source": [
        "<a href=\"https://colab.research.google.com/github/ArnavTripathi1/WOC-7.0-PROJECT/blob/main/N_Layer_Neural_Network_(Binary_Class).ipynb\" target=\"_parent\"><img src=\"https://colab.research.google.com/assets/colab-badge.svg\" alt=\"Open In Colab\"/></a>"
      ]
    },
    {
      "cell_type": "markdown",
      "metadata": {
        "id": "yO29p-Hfumi1"
      },
      "source": [
        "#**Neural Network**"
      ]
    },
    {
      "cell_type": "markdown",
      "metadata": {
        "id": "BMdu0vuCuspY"
      },
      "source": [
        "\n",
        "\n",
        "## **1. Loading Modules**\n",
        "\n",
        "\n",
        "\n",
        "\n",
        "\n"
      ]
    },
    {
      "cell_type": "code",
      "execution_count": null,
      "metadata": {
        "id": "wyi46zvRux-s"
      },
      "outputs": [],
      "source": [
        "import numpy as np\n",
        "import pandas as pd\n",
        "import matplotlib.pyplot as plt"
      ]
    },
    {
      "cell_type": "markdown",
      "metadata": {
        "id": "8qTQLnwtu7Tg"
      },
      "source": [
        "## **2. Importing and Handling Data**\n",
        "\n"
      ]
    },
    {
      "cell_type": "code",
      "execution_count": null,
      "metadata": {
        "colab": {
          "base_uri": "https://localhost:8080/"
        },
        "id": "p0t6RcYOwVCX",
        "outputId": "d1332c02-045a-4b3f-ad52-9521edc53a26"
      },
      "outputs": [
        {
          "output_type": "stream",
          "name": "stdout",
          "text": [
            "Drive already mounted at /content/drive; to attempt to forcibly remount, call drive.mount(\"/content/drive\", force_remount=True).\n"
          ]
        }
      ],
      "source": [
        "from google.colab import drive\n",
        "drive.mount('/content/drive')            # mounting google drive"
      ]
    },
    {
      "cell_type": "code",
      "execution_count": null,
      "metadata": {
        "id": "vGVcRBwX1X9a",
        "colab": {
          "base_uri": "https://localhost:8080/"
        },
        "outputId": "bae8cd84-8490-403e-fa1c-c2338aeeecc4"
      },
      "outputs": [
        {
          "output_type": "stream",
          "name": "stdout",
          "text": [
            "(40000, 1026)\n"
          ]
        }
      ],
      "source": [
        "df = pd.read_csv('/content/drive/MyDrive/nn_train.csv', delimiter = ',', nrows = 40000)       # reading train set\n",
        "df1 = df.drop(columns = ['ID'])\n",
        "print(df1.shape)"
      ]
    },
    {
      "cell_type": "markdown",
      "metadata": {
        "id": "KAJ4Fn3p1JLV"
      },
      "source": [
        "\n",
        "\n",
        "`Dividing Data into Train, CV and Test Set`\n",
        "\n",
        "\n",
        "\n",
        "\n",
        "\n",
        "\n",
        "\n",
        "\n",
        "\n",
        "\n",
        "\n"
      ]
    },
    {
      "cell_type": "code",
      "execution_count": null,
      "metadata": {
        "colab": {
          "base_uri": "https://localhost:8080/"
        },
        "id": "gKSdmWmdvAHt",
        "outputId": "ea0e78f4-2004-44ed-e46e-2b1307371ff1"
      },
      "outputs": [
        {
          "output_type": "stream",
          "name": "stdout",
          "text": [
            "TRAIN SET\n",
            "       Feature_1  Feature_2  Feature_3  Feature_4  Feature_5  Feature_6  \\\n",
            "0             81        109         91         96        107         97   \n",
            "1            168        168        169        169        170        171   \n",
            "2             14         20         32          6         27          6   \n",
            "3             60        109        157        126         82         80   \n",
            "4             63         72         86         75         93         77   \n",
            "...          ...        ...        ...        ...        ...        ...   \n",
            "31995        227        247        241        128         53         95   \n",
            "31996         80         81         84         87         89         92   \n",
            "31997          1          0          3          5          0         28   \n",
            "31998        166        166        166        167        167        167   \n",
            "31999         25         19         51         43         48         22   \n",
            "\n",
            "       Feature_7  Feature_8  Feature_9  Feature_10  ...  Feature_1017  \\\n",
            "0            103         95        100          99  ...           114   \n",
            "1            172        172        175         175  ...            44   \n",
            "2              5         34         15          28  ...            63   \n",
            "3             70         58         37          61  ...           105   \n",
            "4             75         67         62          65  ...           108   \n",
            "...          ...        ...        ...         ...  ...           ...   \n",
            "31995        113        130        144         103  ...           214   \n",
            "31996         93         93         88          88  ...           120   \n",
            "31997         20         39         32          33  ...           101   \n",
            "31998        168        168        169         169  ...           173   \n",
            "31999         15         21         14          37  ...            97   \n",
            "\n",
            "       Feature_1018  Feature_1019  Feature_1020  Feature_1021  Feature_1022  \\\n",
            "0                93            91            98            72            92   \n",
            "1                44            44            44            44            44   \n",
            "2                64            63            60            54            48   \n",
            "3               102            99            98           100           105   \n",
            "4               109           102           106            96            91   \n",
            "...             ...           ...           ...           ...           ...   \n",
            "31995           205           166           131           107           144   \n",
            "31996           119           119           120           120           119   \n",
            "31997            75            44            27            12             0   \n",
            "31998           173           173           172           172           171   \n",
            "31999            98            98            95            92            89   \n",
            "\n",
            "       Feature_1023  Feature_1024  binary_label  class_label  \n",
            "0                78            78             0            5  \n",
            "1                44            44             0            9  \n",
            "2                43            41             0            5  \n",
            "3               111           114             1            8  \n",
            "4               102            89             0            5  \n",
            "...             ...           ...           ...          ...  \n",
            "31995           157           151             0            4  \n",
            "31996           116           114             0            5  \n",
            "31997             0             0             0            4  \n",
            "31998           171           171             0            1  \n",
            "31999            89            89             1            5  \n",
            "\n",
            "[32000 rows x 1026 columns]\n",
            "\n",
            "\n",
            "CROSS VALIDATION SET\n",
            "       Feature_1  Feature_2  Feature_3  Feature_4  Feature_5  Feature_6  \\\n",
            "32000        255        255        254        254        253        251   \n",
            "32001         71         69         66         64         64         63   \n",
            "32002         66         64         66         70         71         67   \n",
            "32003         23         17         19         25         26         25   \n",
            "32004        159        160        163        166        170        175   \n",
            "...          ...        ...        ...        ...        ...        ...   \n",
            "35995        128        110        107         55         35         30   \n",
            "35996         51         41         55         93         86         74   \n",
            "35997        138        141        146        149        149        148   \n",
            "35998        154        128        111        121        143        152   \n",
            "35999        134        141        150        154        168        156   \n",
            "\n",
            "       Feature_7  Feature_8  Feature_9  Feature_10  ...  Feature_1017  \\\n",
            "32000        252        254        254         254  ...           252   \n",
            "32001         61         60         62          57  ...            92   \n",
            "32002         66         69         70          69  ...            34   \n",
            "32003         37         54         68          68  ...           138   \n",
            "32004        178        180        186         187  ...            85   \n",
            "...          ...        ...        ...         ...  ...           ...   \n",
            "35995         32         24         39         143  ...            59   \n",
            "35996        103        115        118         120  ...           150   \n",
            "35997        148        148        141         151  ...           156   \n",
            "35998        144        133        136         137  ...            84   \n",
            "35999        138        172        188         167  ...           100   \n",
            "\n",
            "       Feature_1018  Feature_1019  Feature_1020  Feature_1021  Feature_1022  \\\n",
            "32000           255           255           255           253           255   \n",
            "32001            91            82            80            90            99   \n",
            "32002            32            47            61            54            47   \n",
            "32003           136           134           132           131           128   \n",
            "32004            79            75            75            74            70   \n",
            "...             ...           ...           ...           ...           ...   \n",
            "35995            67            91            96            79            77   \n",
            "35996           146           142           140           140           138   \n",
            "35997           151           143           133           118           102   \n",
            "35998            82            80            79            80            80   \n",
            "35999           139           135           113           123           125   \n",
            "\n",
            "       Feature_1023  Feature_1024  binary_label  class_label  \n",
            "32000           255           253             1            2  \n",
            "32001           131           177             0            4  \n",
            "32002            52            54             1            9  \n",
            "32003           124           121             0            2  \n",
            "32004            67            68             0            9  \n",
            "...             ...           ...           ...          ...  \n",
            "35995            75            52             1            5  \n",
            "35996           133           129             0            5  \n",
            "35997            90            84             1            8  \n",
            "35998            79            78             1            1  \n",
            "35999           111           113             1            7  \n",
            "\n",
            "[4000 rows x 1026 columns]\n",
            "\n",
            "\n",
            "TEST SET\n",
            "       Feature_1  Feature_2  Feature_3  Feature_4  Feature_5  Feature_6  \\\n",
            "36000         61         62         63         67         73         80   \n",
            "36001        224        225        226        227        227        227   \n",
            "36002         88         66         74         91         85         87   \n",
            "36003        115        115        114        113        115        117   \n",
            "36004        103         93         89         96         50         46   \n",
            "...          ...        ...        ...        ...        ...        ...   \n",
            "39995        238        231        197        211        239        243   \n",
            "39996         44         45         41         37         39         44   \n",
            "39997         34         32         33         37         37         50   \n",
            "39998         55         36         33         50         56         39   \n",
            "39999         60         80         97        103        114        130   \n",
            "\n",
            "       Feature_7  Feature_8  Feature_9  Feature_10  ...  Feature_1017  \\\n",
            "36000         87         91         98          97  ...           163   \n",
            "36001        226        226        227         222  ...           149   \n",
            "36002        102        104         92          86  ...            73   \n",
            "36003        120        123        129         121  ...           150   \n",
            "36004         50         61         65          76  ...            89   \n",
            "...          ...        ...        ...         ...  ...           ...   \n",
            "39995        197        230        229         224  ...            56   \n",
            "39996         40         32         37          46  ...            72   \n",
            "39997        120        209        224         225  ...            99   \n",
            "39998         23         19         24          24  ...           188   \n",
            "39999        129        144        142         124  ...           137   \n",
            "\n",
            "       Feature_1018  Feature_1019  Feature_1020  Feature_1021  Feature_1022  \\\n",
            "36000           160           156           155           155           153   \n",
            "36001           140           139           149           152           144   \n",
            "36002           101           103            92            97           100   \n",
            "36003           148           145           144           144           144   \n",
            "36004            71            41            87           113            86   \n",
            "...             ...           ...           ...           ...           ...   \n",
            "39995            61            70            78            84            85   \n",
            "39996            66            60            53            39            22   \n",
            "39997           104           109           109           105           102   \n",
            "39998           180           166           147           130           123   \n",
            "39999            89            45            34            32            18   \n",
            "\n",
            "       Feature_1023  Feature_1024  binary_label  class_label  \n",
            "36000           149           146             0            6  \n",
            "36001           142           147             1            3  \n",
            "36002           104           120             0            3  \n",
            "36003           143           141             1           10  \n",
            "36004            71            59             1            7  \n",
            "...             ...           ...           ...          ...  \n",
            "39995            82            78             1            8  \n",
            "39996            15            17             0            2  \n",
            "39997           103           106             0            9  \n",
            "39998           123           127             1            3  \n",
            "39999             4             0             1            4  \n",
            "\n",
            "[4000 rows x 1026 columns]\n"
          ]
        }
      ],
      "source": [
        "print('TRAIN SET')\n",
        "print(df1.iloc[:32000])\n",
        "\n",
        "print()\n",
        "print()\n",
        "\n",
        "print('CROSS VALIDATION SET')\n",
        "print(df1.iloc[32000:36000])\n",
        "\n",
        "print()\n",
        "print()\n",
        "\n",
        "print('TEST SET')\n",
        "print(df1.iloc[36000:])"
      ]
    },
    {
      "cell_type": "code",
      "execution_count": null,
      "metadata": {
        "id": "cIbtM5AmJYY4"
      },
      "outputs": [],
      "source": [
        "df_train = df.iloc[:32000]\n",
        "df_cv = df.iloc[32000:36000]\n",
        "df_test = df.iloc[36000:]"
      ]
    },
    {
      "cell_type": "markdown",
      "metadata": {
        "id": "CwHy8Kn_2XkN"
      },
      "source": [
        "\n",
        "\n",
        "\n",
        "`Arranging Train Set as an array`\n",
        "\n",
        "\n"
      ]
    },
    {
      "cell_type": "code",
      "execution_count": null,
      "metadata": {
        "colab": {
          "base_uri": "https://localhost:8080/"
        },
        "collapsed": true,
        "id": "i8h87qtZykgV",
        "outputId": "fd9e86e5-4ed6-432d-cb3d-96762e04cffe"
      },
      "outputs": [
        {
          "output_type": "stream",
          "name": "stdout",
          "text": [
            "x_train = [[ 81 109  91 ...  78  78   0]\n",
            " [168 168 169 ...  44  44   0]\n",
            " [ 14  20  32 ...  43  41   0]\n",
            " ...\n",
            " [  1   0   3 ...   0   0   0]\n",
            " [166 166 166 ... 171 171   0]\n",
            " [ 25  19  51 ...  89  89   1]]\n",
            "\n",
            "y_train = [5 9 5 ... 4 1 5]\n"
          ]
        }
      ],
      "source": [
        "features_train = df_train.loc[:, 'Feature_1':'binary_label']\n",
        "\n",
        "x_train = features_train.to_numpy()\n",
        "y_train = df_train['class_label'].to_numpy()\n",
        "\n",
        "print(f\"x_train = {x_train}\")\n",
        "print()\n",
        "print(f\"y_train = {y_train}\")"
      ]
    },
    {
      "cell_type": "markdown",
      "metadata": {
        "id": "vPBGTPaFUzq1"
      },
      "source": [
        "`x_train Normalization`"
      ]
    },
    {
      "cell_type": "code",
      "execution_count": null,
      "metadata": {
        "colab": {
          "base_uri": "https://localhost:8080/"
        },
        "id": "qVyFeMZIU4aU",
        "outputId": "2bee29ff-af50-407a-e774-f3f60cd6cd1a"
      },
      "outputs": [
        {
          "output_type": "stream",
          "name": "stdout",
          "text": [
            "Normalized x_train = [[-0.50496428 -0.10820463 -0.39266929 ... -0.5586081  -0.54296581\n",
            "  -1.00231518]\n",
            " [ 0.75055437  0.75525912  0.75549863 ... -1.14496919 -1.12056304\n",
            "  -1.00231518]\n",
            " [-1.47185795 -1.41071774 -1.26115527 ... -1.16221511 -1.1715275\n",
            "  -1.00231518]\n",
            " ...\n",
            " [-1.65946419 -1.70341731 -1.68803822 ... -1.90378942 -1.8680418\n",
            "  -1.00231518]\n",
            " [ 0.72169187  0.72598916  0.71133832 ...  1.04526194  1.03693248\n",
            "  -1.00231518]\n",
            " [-1.31311421 -1.42535272 -0.98147335 ... -0.36890304 -0.35609612\n",
            "   0.99769017]]\n"
          ]
        }
      ],
      "source": [
        "mean = np.mean(x_train, axis = 0)\n",
        "std = np.std(x_train, axis = 0)\n",
        "\n",
        "x_train = (x_train - mean) / std\n",
        "\n",
        "print(f\"Normalized x_train = {x_train}\")"
      ]
    },
    {
      "cell_type": "markdown",
      "metadata": {
        "id": "b_Ef2Xgq4jj0"
      },
      "source": [
        "## **3. Visualising the Data**"
      ]
    },
    {
      "cell_type": "code",
      "execution_count": null,
      "metadata": {
        "id": "puk9T-Xi47ZN"
      },
      "outputs": [],
      "source": [
        "Class_1 = np.sum(y_train == 1)\n",
        "Class_2 = np.sum(y_train == 2)\n",
        "Class_3 = np.sum(y_train == 3)\n",
        "Class_4 = np.sum(y_train == 4)\n",
        "Class_5 = np.sum(y_train == 5)\n",
        "Class_6 = np.sum(y_train == 6)\n",
        "Class_7 = np.sum(y_train == 7)\n",
        "Class_8 = np.sum(y_train == 8)\n",
        "Class_9 = np.sum(y_train == 9)\n",
        "Class_10 = np.sum(y_train == 10)"
      ]
    },
    {
      "cell_type": "code",
      "source": [
        "Category = ['Class 1', 'Class 2', 'Class 3', 'Class 4', 'Class 5', 'Class 6', 'Class 7', 'Class 8', 'Class 9', 'Class 10']\n",
        "Value = [Class_1, Class_2, Class_3, Class_4, Class_5, Class_6, Class_7, Class_8, Class_9, Class_10]\n",
        "\n",
        "plt.bar(Category, Value, color = 'red')\n",
        "plt.title('Strength of Individual Class', fontdict = {'fontsize' : 20})\n",
        "plt.xlabel('Class')\n",
        "plt.ylabel('Strength')\n",
        "\n",
        "plt.xticks(rotation=45)\n",
        "plt.show()"
      ],
      "metadata": {
        "colab": {
          "base_uri": "https://localhost:8080/",
          "height": 517
        },
        "id": "BUQ7vVYsTP5K",
        "outputId": "b9b1faa1-5ca6-4527-82b5-9ba7021c2c99"
      },
      "execution_count": null,
      "outputs": [
        {
          "output_type": "display_data",
          "data": {
            "text/plain": [
              "<Figure size 640x480 with 1 Axes>"
            ],
            "image/png": "[encoded data removed]"
          },
          "metadata": {}
        }
      ]
    },
    {
      "cell_type": "markdown",
      "metadata": {
        "id": "_diHJCNS-2V-"
      },
      "source": [
        "##**4. Model Initialization**"
      ]
    },
    {
      "cell_type": "code",
      "execution_count": null,
      "metadata": {
        "id": "7tViegZz70yb"
      },
      "outputs": [],
      "source": [
        "m = x_train.shape[0]\n",
        "n = x_train.shape[1]"
      ]
    },
    {
      "cell_type": "markdown",
      "metadata": {
        "id": "VH0EIVUk6txI"
      },
      "source": [
        "## **Defining Softmax Function**"
      ]
    },
    {
      "cell_type": "code",
      "execution_count": null,
      "metadata": {
        "id": "6kIBXEHcMqLu"
      },
      "outputs": [],
      "source": [
        "def softmax(z):\n",
        "  e_z = np.exp(z - np.max(z, axis=1, keepdims=True))\n",
        "  return e_z / e_z.sum(axis=1, keepdims=True)"
      ]
    },
    {
      "cell_type": "markdown",
      "metadata": {
        "id": "r3MCkrVY5bw4"
      },
      "source": [
        "## **Defining ReLU Function**"
      ]
    },
    {
      "cell_type": "code",
      "execution_count": null,
      "metadata": {
        "id": "Md8oyRIs5gV6"
      },
      "outputs": [],
      "source": [
        "def relu(z):\n",
        "  return np.maximum(0, z)"
      ]
    },
    {
      "cell_type": "markdown",
      "metadata": {
        "id": "mQVbytUaP8uH"
      },
      "source": [
        "## **Forward Propogation**"
      ]
    },
    {
      "cell_type": "code",
      "execution_count": null,
      "metadata": {
        "id": "DdtHA47WQEmx"
      },
      "outputs": [],
      "source": [
        "def forward_prop(x, w1, b1, w2, b2, w3, b3, w4, b4):\n",
        "\n",
        "  z1 = np.matmul(x, w1) + b1\n",
        "  a1 = relu(z1)\n",
        "\n",
        "  z2 = np.matmul(a1, w2) + b2\n",
        "  a2 = relu(z2)\n",
        "\n",
        "  z3 = np.matmul(a2, w3) + b3\n",
        "  a3 = relu(z3)\n",
        "\n",
        "  z4 = np.matmul(a3, w4) + b4\n",
        "  a4 = softmax(z4)\n",
        "\n",
        "  return a1, a2, a3, a4, z1, z2, z3, z4"
      ]
    },
    {
      "cell_type": "markdown",
      "metadata": {
        "id": "eAAq1hhMTBY-"
      },
      "source": [
        "## **Defining Cost Function**"
      ]
    },
    {
      "cell_type": "code",
      "execution_count": null,
      "metadata": {
        "id": "2fUWlB0P_Lxj"
      },
      "outputs": [],
      "source": [
        "def cost(y_true, y_pred, w1, w2, w3, w4, lambd):\n",
        "    m = y_true.shape[0]\n",
        "    y_pred = np.clip(y_pred, 1e-10, 1 - 1e-10)\n",
        "    cross_entropy_loss = -np.sum(y_true * np.log(y_pred)) / m\n",
        "\n",
        "    regularization = (lambd / (2 * m)) * (np.sum(np.square(w1)) + np.sum(np.square(w2)) + np.sum(np.square(w3)) + np.sum(np.square(w4)))\n",
        "\n",
        "    return cross_entropy_loss + regularization"
      ]
    },
    {
      "cell_type": "markdown",
      "metadata": {
        "id": "n-eN-_7lT3kA"
      },
      "source": [
        "## **5. Backward Propogation**"
      ]
    },
    {
      "cell_type": "markdown",
      "metadata": {
        "id": "CgmOwyqgp62j"
      },
      "source": [
        "`Backward Propogation`"
      ]
    },
    {
      "cell_type": "code",
      "execution_count": null,
      "metadata": {
        "id": "Z5g2r8tPqExX"
      },
      "outputs": [],
      "source": [
        "def backprop(x, y_true, w1, b1, w2, b2, w3, b3, w4, b4, a1, a2, a3, a4, z1, z2, z3, z4, learning_rate, lambd):\n",
        "    m = x.shape[0]\n",
        "\n",
        "    dz4 = a4 - y_true\n",
        "    dw4 = (np.matmul(a3.T, dz4) / m) + (lambd / m) * w4\n",
        "    db4 = np.sum(dz4, axis=0, keepdims=True) / m\n",
        "\n",
        "    dz3 = np.matmul(dz4, w4.T) * (z3 > 0).astype(float)\n",
        "    dw3 = (np.matmul(a2.T, dz3) / m) + (lambd / m) * w3\n",
        "    db3 = np.sum(dz3, axis=0, keepdims=True) / m\n",
        "\n",
        "    dz2 = np.matmul(dz3, w3.T) * (z2 > 0).astype(float)\n",
        "    dw2 = (np.matmul(a1.T, dz2) / m) + (lambd / m) * w2\n",
        "    db2 = np.sum(dz2, axis=0, keepdims=True) / m\n",
        "\n",
        "    dz1 = np.matmul(dz2, w2.T) * (z1 > 0).astype(float)\n",
        "    dw1 = (np.matmul(x.T, dz1) / m) + (lambd / m) * w1\n",
        "    db1 = np.sum(dz1, axis=0, keepdims=True) / m\n",
        "\n",
        "    return dw1, db1, dw2, db2, dw3, db3, dw4, db4"
      ]
    },
    {
      "cell_type": "markdown",
      "metadata": {
        "id": "FCAGtLwNlEh_"
      },
      "source": [
        "## **6. Defining Gradient Descent**"
      ]
    },
    {
      "cell_type": "markdown",
      "source": [
        "`One - Hot Encoding Labels`"
      ],
      "metadata": {
        "id": "3KX7Kd8bV-JD"
      }
    },
    {
      "cell_type": "code",
      "source": [
        "y_train_encoded = np.eye(10)[y_train - 1]"
      ],
      "metadata": {
        "id": "jf74Mb7EXFn6"
      },
      "execution_count": null,
      "outputs": []
    },
    {
      "cell_type": "markdown",
      "metadata": {
        "id": "Mnj8jitYaRkQ"
      },
      "source": [
        "`Gradient Descent`"
      ]
    },
    {
      "cell_type": "code",
      "execution_count": null,
      "metadata": {
        "id": "MrXtjnRZadrw"
      },
      "outputs": [],
      "source": [
        "def gradient_descent(x_train, y_train, w1, b1, w2, b2, w3, b3, w4, b4, alpha, lambd, num_iters):\n",
        "    J_history = []\n",
        "\n",
        "    for i in range(num_iters):\n",
        "\n",
        "        a1, a2, a3, a4, z1, z2, z3, z4 = forward_prop(x_train, w1, b1, w2, b2, w3, b3, w4, b4)\n",
        "\n",
        "\n",
        "        dw1, db1, dw2, db2, dw3, db3, dw4, db4 = backprop(x_train, y_train_encoded, w1, b1, w2, b2, w3, b3, w4, b4,\n",
        "                                                           a1, a2, a3, a4, z1, z2, z3, z4, alpha, lambd)\n",
        "\n",
        "        w1 -= alpha * dw1\n",
        "        b1 -= alpha * db1\n",
        "        w2 -= alpha * dw2\n",
        "        b2 -= alpha * db2\n",
        "        w3 -= alpha * dw3\n",
        "        b3 -= alpha * db3\n",
        "        w4 -= alpha * dw4\n",
        "        b4 -= alpha * db4\n",
        "\n",
        "        if i < 100000:\n",
        "            J_history.append(cost(y_train_encoded, a4, w1, w2, w3, w4, lambd))\n",
        "\n",
        "        if i % (num_iters // 10) == 0:\n",
        "            print(f\"Epoch {i:6}/{num_iters} : Cost {J_history[-1]:8.4f}\")\n",
        "\n",
        "    return w1, b1, w2, b2, w3, b3, w4, b4, J_history"
      ]
    },
    {
      "cell_type": "code",
      "execution_count": null,
      "metadata": {
        "id": "_wJNRVE4_77E"
      },
      "outputs": [],
      "source": [
        "w1_int = np.random.randn(1025, 50) * 0.01\n",
        "b1_int = np.zeros((1, 50))\n",
        "w2_int = np.random.randn(50, 25) * 0.01\n",
        "b2_int = np.zeros((1, 25))\n",
        "w3_int = np.random.randn(25, 12) * 0.01\n",
        "b3_int = np.zeros((1, 12))\n",
        "w4_int = np.random.randn(12, 10) * 0.01\n",
        "b4_int = np.zeros((1, 10))"
      ]
    },
    {
      "cell_type": "code",
      "execution_count": null,
      "metadata": {
        "id": "SbrUDQOUAFL_"
      },
      "outputs": [],
      "source": [
        "epochs = 2000\n",
        "tmp_alpha = 0.1                                 # learning rate"
      ]
    },
    {
      "cell_type": "code",
      "execution_count": null,
      "metadata": {
        "colab": {
          "base_uri": "https://localhost:8080/"
        },
        "id": "NYJk98qPrN5x",
        "outputId": "f98faac2-b92f-45e2-8bad-e79b7c5512a6"
      },
      "outputs": [
        {
          "output_type": "stream",
          "name": "stdout",
          "text": [
            "CPU times: user 2 µs, sys: 1e+03 ns, total: 3 µs\n",
            "Wall time: 10.3 µs\n",
            "Epochs      0/2000 : Cost   2.3026 \n",
            "Epochs    200/2000 : Cost   2.3025 \n",
            "Epochs    400/2000 : Cost   2.3025 \n",
            "Epochs    600/2000 : Cost   2.3025 \n",
            "Epochs    800/2000 : Cost   2.3025 \n",
            "Epochs   1000/2000 : Cost   2.3025 \n",
            "Epochs   1200/2000 : Cost   2.3025 \n",
            "Epochs   1400/2000 : Cost   2.3025 \n",
            "Epochs   1600/2000 : Cost   2.3025 \n",
            "Epochs   1800/2000 : Cost   2.3025 \n",
            "TRAIN COST estimated is =  2.3025\n"
          ]
        }
      ],
      "source": [
        "%time\n",
        "\n",
        "w1_fin, b1_fin, w2_fin, b2_fin, w3_fin, b3_fin, w4_fin, b4_fin, J_hist = gradient_descent(x_train ,y_train, w1_int, b1_int, w2_int, b2_int, w3_int, b3_int, w4_int, b4_int,\n",
        "                                                                                        tmp_alpha, epochs)\n",
        "\n",
        "\n",
        "print(f\"TRAIN COST estimated is ={J_hist[-1] : 8.4f}\")"
      ]
    },
    {
      "cell_type": "markdown",
      "metadata": {
        "id": "n1pamIKWq17y"
      },
      "source": [
        "`Learning Curve`"
      ]
    },
    {
      "cell_type": "code",
      "execution_count": null,
      "metadata": {
        "colab": {
          "base_uri": "https://localhost:8080/",
          "height": 480
        },
        "id": "iDg3aosY8EaY",
        "outputId": "fee068db-559a-433b-b0dc-470d01116764"
      },
      "outputs": [
        {
          "output_type": "display_data",
          "data": {
            "text/plain": [
              "<Figure size 640x480 with 1 Axes>"
            ],
            "image/png": "[encoded data removed]"
          },
          "metadata": {}
        }
      ],
      "source": [
        "plt.plot(np.arange(len(J_hist)), J_hist, 'b', label = 'Cost')\n",
        "plt.title('Learning Curve', fontdict = {'fontsize' : 20})\n",
        "plt.xlabel('Iterations')\n",
        "plt.ylabel('Cost J')\n",
        "\n",
        "plt.legend()\n",
        "\n",
        "plt.show()"
      ]
    },
    {
      "cell_type": "markdown",
      "metadata": {
        "id": "_vvuRCKmurTk"
      },
      "source": [
        "`Gradient Descent Continued`"
      ]
    },
    {
      "cell_type": "code",
      "execution_count": null,
      "metadata": {
        "colab": {
          "base_uri": "https://localhost:8080/"
        },
        "id": "6PBiiS65uvmm",
        "outputId": "f5b89d64-55e2-4886-a0e2-37a9967fcc9f"
      },
      "outputs": [
        {
          "output_type": "stream",
          "name": "stdout",
          "text": [
            "CPU times: user 4 µs, sys: 1e+03 ns, total: 5 µs\n",
            "Wall time: 9.3 µs\n",
            "Epochs      0/8000 : Cost   2.3025 \n",
            "Epochs    800/8000 : Cost   2.3025 \n",
            "Epochs   1600/8000 : Cost   2.3025 \n",
            "Epochs   2400/8000 : Cost   2.3025 \n",
            "Epochs   3200/8000 : Cost   2.3023 \n",
            "Epochs   4000/8000 : Cost   2.2351 \n",
            "Epochs   4800/8000 : Cost   2.0003 \n",
            "Epochs   5600/8000 : Cost   1.7804 \n",
            "Epochs   6400/8000 : Cost   1.5840 \n",
            "Epochs   7200/8000 : Cost   1.4623 \n",
            "TRAIN COST estimated is =  1.3279\n"
          ]
        }
      ],
      "source": [
        "%time\n",
        "epochs = 8000\n",
        "tmp_alpha = 0.06\n",
        "w1_fin, b1_fin, w2_fin, b2_fin, w3_fin, b3_fin, w4_fin, b4_fin, J_hist_1 = gradient_descent(x_train, y_train, w1_fin, b1_fin, w2_fin, b2_fin, w3_fin, b3_fin, w4_fin, b4_fin,\n",
        "                                                                                                     tmp_alpha, epochs)\n",
        "\n",
        "print(f\"TRAIN COST estimated is ={J_hist_1[-1] : 8.4f}\")"
      ]
    },
    {
      "cell_type": "code",
      "execution_count": null,
      "metadata": {
        "colab": {
          "base_uri": "https://localhost:8080/",
          "height": 480
        },
        "id": "InstSt6dvJR1",
        "outputId": "da57fca7-eafe-4dcd-a680-40611d30a15b"
      },
      "outputs": [
        {
          "output_type": "display_data",
          "data": {
            "text/plain": [
              "<Figure size 640x480 with 1 Axes>"
            ],
            "image/png": "[encoded data removed]"
          },
          "metadata": {}
        }
      ],
      "source": [
        "plt.plot(np.arange(len(J_hist_1)), J_hist_1, 'b', label='Cost')\n",
        "plt.title('Learning Curve', fontdict={'fontsize': 20})\n",
        "plt.xlabel('Iterations')\n",
        "plt.ylabel('Cost J')\n",
        "plt.legend()\n",
        "plt.show()"
      ]
    },
    {
      "cell_type": "markdown",
      "metadata": {
        "id": "-SGm6tlVnWBR"
      },
      "source": [
        "`Gradient Descent Continued`"
      ]
    },
    {
      "cell_type": "code",
      "execution_count": null,
      "metadata": {
        "id": "iP11iNeDKhYK"
      },
      "outputs": [],
      "source": [
        "epochs = 5000\n",
        "tmp_alpha = 0.006                                 # learning rate"
      ]
    },
    {
      "cell_type": "code",
      "execution_count": null,
      "metadata": {
        "colab": {
          "base_uri": "https://localhost:8080/"
        },
        "id": "L1uVIDvyno-R",
        "outputId": "dcd8dbca-5b1f-4d3b-8f28-c8fc22347174"
      },
      "outputs": [
        {
          "output_type": "stream",
          "name": "stdout",
          "text": [
            "CPU times: user 4 µs, sys: 0 ns, total: 4 µs\n",
            "Wall time: 12.4 µs\n",
            "Epochs      0/5000 : Cost   1.3219 \n",
            "Epochs    500/5000 : Cost   1.2842 \n",
            "Epochs   1000/5000 : Cost   1.2718 \n",
            "Epochs   1500/5000 : Cost   1.2605 \n",
            "Epochs   2000/5000 : Cost   1.2495 \n",
            "Epochs   2500/5000 : Cost   1.2387 \n",
            "Epochs   3000/5000 : Cost   1.2281 \n",
            "Epochs   3500/5000 : Cost   1.2176 \n",
            "Epochs   4000/5000 : Cost   1.2072 \n",
            "Epochs   4500/5000 : Cost   1.1967 \n",
            "TRAIN COST estimated is =  1.1864\n"
          ]
        }
      ],
      "source": [
        "%time\n",
        "w1_fin, b1_fin, w2_fin, b2_fin, w3_fin, b3_fin, w4_fin, b4_fin, J_hist_2 = gradient_descent(x_train, y_train, w1_fin, b1_fin, w2_fin, b2_fin, w3_fin, b3_fin, w4_fin, b4_fin,\n",
        "                                                                                                  tmp_alpha, epochs)\n",
        "\n",
        "\n",
        "\n",
        "print(f\"TRAIN COST estimated is ={J_hist_2[-1] : 8.4f}\")"
      ]
    },
    {
      "cell_type": "markdown",
      "metadata": {
        "id": "ZHOre2RgobLq"
      },
      "source": [
        "`Learning Curve`"
      ]
    },
    {
      "cell_type": "code",
      "execution_count": null,
      "metadata": {
        "colab": {
          "base_uri": "https://localhost:8080/",
          "height": 480
        },
        "id": "viVI0uFRoZ7e",
        "outputId": "2b7edb8c-92eb-4c5c-d277-c769377eb76e"
      },
      "outputs": [
        {
          "output_type": "display_data",
          "data": {
            "text/plain": [
              "<Figure size 640x480 with 1 Axes>"
            ],
            "image/png": "[encoded data removed]"
          },
          "metadata": {}
        }
      ],
      "source": [
        "plt.plot(np.arange(len(J_hist_2)), J_hist_2, 'b', label='Cost')\n",
        "plt.title('Learning Curve', fontdict={'fontsize': 20})\n",
        "plt.xlabel('Iterations')\n",
        "plt.ylabel('Cost J')\n",
        "plt.legend()\n",
        "plt.show()"
      ]
    },
    {
      "cell_type": "markdown",
      "source": [
        "`Gradient Descent Continued`"
      ],
      "metadata": {
        "id": "ECfYlw50A35V"
      }
    },
    {
      "cell_type": "code",
      "source": [
        "%time\n",
        "epochs = 5000\n",
        "tmp_alpha = 0.008\n",
        "tmp_lambda = 0.01\n",
        "w1_fin, b1_fin, w2_fin, b2_fin, w3_fin, b3_fin, w4_fin, b4_fin, J_hist_3 = gradient_descent(x_train, y_train, w1_fin, b1_fin, w2_fin, b2_fin, w3_fin, b3_fin, w4_fin, b4_fin,\n",
        "                                                                                                     tmp_alpha, tmp_lambda, epochs)\n",
        "\n",
        "print(f\"TRAIN COST estimated is ={J_hist_3[-1] : 8.4f}\")"
      ],
      "metadata": {
        "colab": {
          "base_uri": "https://localhost:8080/"
        },
        "id": "plrvaCsVBfPj",
        "outputId": "def73b93-89a2-467e-a06a-2740a5f8d475"
      },
      "execution_count": null,
      "outputs": [
        {
          "output_type": "stream",
          "name": "stdout",
          "text": [
            "CPU times: user 3 µs, sys: 0 ns, total: 3 µs\n",
            "Wall time: 8.34 µs\n",
            "Epoch      0/5000 : Cost   1.1277\n",
            "Epoch    500/5000 : Cost   1.0552\n",
            "Epoch   1000/5000 : Cost   1.0409\n",
            "Epoch   1500/5000 : Cost   1.0273\n",
            "Epoch   2000/5000 : Cost   1.0140\n",
            "Epoch   2500/5000 : Cost   1.0010\n",
            "Epoch   3000/5000 : Cost   0.9885\n",
            "Epoch   3500/5000 : Cost   0.9761\n",
            "Epoch   4000/5000 : Cost   0.9710\n",
            "Epoch   4500/5000 : Cost   0.9569\n",
            "TRAIN COST estimated is =  0.9643\n"
          ]
        }
      ]
    },
    {
      "cell_type": "markdown",
      "source": [
        "`Learning Curve`"
      ],
      "metadata": {
        "id": "VGee5sGdolfy"
      }
    },
    {
      "cell_type": "code",
      "source": [
        "plt.plot(np.arange(len(J_hist_3)), J_hist_3, 'b', label='Cost')\n",
        "plt.title('Learning Curve', fontdict={'fontsize': 20})\n",
        "plt.xlabel('Iterations')\n",
        "plt.ylabel('Cost J')\n",
        "plt.legend()\n",
        "plt.show()"
      ],
      "metadata": {
        "colab": {
          "base_uri": "https://localhost:8080/",
          "height": 480
        },
        "id": "7RUYVeeQCAF5",
        "outputId": "32d70d8d-299f-4f39-f9c6-3ee4ff4d1be2"
      },
      "execution_count": null,
      "outputs": [
        {
          "output_type": "display_data",
          "data": {
            "text/plain": [
              "<Figure size 640x480 with 1 Axes>"
            ],
            "image/png": "[encoded data removed]"
          },
          "metadata": {}
        }
      ]
    },
    {
      "cell_type": "markdown",
      "metadata": {
        "id": "8Z1dRmM5h9O6"
      },
      "source": [
        "`Testing Different Values of lambda`"
      ]
    },
    {
      "cell_type": "code",
      "execution_count": null,
      "metadata": {
        "id": "f3uP4p4zh97_"
      },
      "outputs": [],
      "source": [
        "epochs = 1000\n",
        "tmp_alpha = 0.008                                 # learning rate\n",
        "tmp_lambda = 10"
      ]
    },
    {
      "cell_type": "code",
      "execution_count": null,
      "metadata": {
        "id": "2dbF3RUKiBKe",
        "colab": {
          "base_uri": "https://localhost:8080/"
        },
        "outputId": "d79bcb0c-e38b-4fcf-aff2-bca66a58250f"
      },
      "outputs": [
        {
          "output_type": "stream",
          "name": "stdout",
          "text": [
            "CPU times: user 0 ns, sys: 18 µs, total: 18 µs\n",
            "Wall time: 23.1 µs\n",
            "Epoch      0/1000 : Cost   0.9702\n",
            "Epoch    100/1000 : Cost   0.9891\n",
            "Epoch    200/1000 : Cost   0.9701\n",
            "Epoch    300/1000 : Cost   0.9706\n",
            "Epoch    400/1000 : Cost   0.9872\n",
            "Epoch    500/1000 : Cost   0.9599\n",
            "Epoch    600/1000 : Cost   0.9747\n",
            "Epoch    700/1000 : Cost   0.9788\n",
            "Epoch    800/1000 : Cost   0.9558\n",
            "Epoch    900/1000 : Cost   0.9631\n",
            "TRAIN COST estimated is =  0.9863\n"
          ]
        }
      ],
      "source": [
        "%time\n",
        "w1_fin, b1_fin, w2_fin, b2_fin, w3_fin, b3_fin, w4_fin, b4_fin, J_test = gradient_descent(x_train, y_train, w1_fin, b1_fin, w2_fin, b2_fin, w3_fin, b3_fin, w4_fin, b4_fin,\n",
        "                                                                                                  tmp_alpha, tmp_lambda, epochs)\n",
        "\n",
        "\n",
        "\n",
        "print(f\"TRAIN COST estimated is ={J_test[-1] : 8.4f}\")"
      ]
    },
    {
      "cell_type": "code",
      "execution_count": null,
      "metadata": {
        "id": "GydqKS6lKa21"
      },
      "outputs": [],
      "source": [
        "epochs = 1000\n",
        "tmp_alpha = 0.002                                 # learning rate\n",
        "tmp_lambda = 20"
      ]
    },
    {
      "cell_type": "code",
      "execution_count": null,
      "metadata": {
        "colab": {
          "base_uri": "https://localhost:8080/"
        },
        "outputId": "67a71dc6-edcd-4840-db9a-cd61529d2b85",
        "id": "xBulm4qUKa23"
      },
      "outputs": [
        {
          "output_type": "stream",
          "name": "stdout",
          "text": [
            "CPU times: user 7 µs, sys: 0 ns, total: 7 µs\n",
            "Wall time: 26.5 µs\n",
            "Epoch      0/1000 : Cost   1.0114\n",
            "Epoch    100/1000 : Cost   0.9586\n",
            "Epoch    200/1000 : Cost   0.9578\n",
            "Epoch    300/1000 : Cost   0.9571\n",
            "Epoch    400/1000 : Cost   0.9564\n",
            "Epoch    500/1000 : Cost   0.9557\n",
            "Epoch    600/1000 : Cost   0.9551\n",
            "Epoch    700/1000 : Cost   0.9544\n",
            "Epoch    800/1000 : Cost   0.9538\n",
            "Epoch    900/1000 : Cost   0.9531\n",
            "TRAIN COST estimated is =  0.9525\n"
          ]
        }
      ],
      "source": [
        "%time\n",
        "w1_fin, b1_fin, w2_fin, b2_fin, w3_fin, b3_fin, w4_fin, b4_fin, J_test1 = gradient_descent(x_train, y_train, w1_fin, b1_fin, w2_fin, b2_fin, w3_fin, b3_fin, w4_fin, b4_fin,\n",
        "                                                                                                  tmp_alpha, tmp_lambda, epochs)\n",
        "\n",
        "\n",
        "\n",
        "print(f\"TRAIN COST estimated is ={J_test1[-1] : 8.4f}\")"
      ]
    },
    {
      "cell_type": "code",
      "execution_count": null,
      "metadata": {
        "id": "48rKQ348NBOE"
      },
      "outputs": [],
      "source": [
        "epochs = 1000\n",
        "tmp_alpha = 0.002                                 # learning rate\n",
        "tmp_lambda = 80"
      ]
    },
    {
      "cell_type": "code",
      "execution_count": null,
      "metadata": {
        "colab": {
          "base_uri": "https://localhost:8080/"
        },
        "outputId": "2d01e7a3-9b86-4627-ce36-448e6df403dc",
        "id": "x33oiVOONBOG"
      },
      "outputs": [
        {
          "output_type": "stream",
          "name": "stdout",
          "text": [
            "CPU times: user 3 µs, sys: 0 ns, total: 3 µs\n",
            "Wall time: 8.34 µs\n",
            "Epoch      0/1000 : Cost   1.0827\n",
            "Epoch    100/1000 : Cost   1.0822\n",
            "Epoch    200/1000 : Cost   1.0817\n",
            "Epoch    300/1000 : Cost   1.0812\n",
            "Epoch    400/1000 : Cost   1.0807\n",
            "Epoch    500/1000 : Cost   1.0802\n",
            "Epoch    600/1000 : Cost   1.0798\n",
            "Epoch    700/1000 : Cost   1.0793\n",
            "Epoch    800/1000 : Cost   1.0788\n",
            "Epoch    900/1000 : Cost   1.0783\n",
            "TRAIN COST estimated is =  1.0779\n"
          ]
        }
      ],
      "source": [
        "%time\n",
        "w1_fin, b1_fin, w2_fin, b2_fin, w3_fin, b3_fin, w4_fin, b4_fin, J_test2 = gradient_descent(x_train, y_train, w1_fin, b1_fin, w2_fin, b2_fin, w3_fin, b3_fin, w4_fin, b4_fin,\n",
        "                                                                                                  tmp_alpha, tmp_lambda, epochs)\n",
        "\n",
        "\n",
        "\n",
        "print(f\"TRAIN COST estimated is ={J_test2[-1] : 8.4f}\")"
      ]
    },
    {
      "cell_type": "code",
      "execution_count": null,
      "metadata": {
        "id": "SZQCQ5-5Ptmh"
      },
      "outputs": [],
      "source": [
        "epochs = 1000\n",
        "tmp_alpha = 0.002                                 # learning rate\n",
        "tmp_lambda = 160"
      ]
    },
    {
      "cell_type": "code",
      "execution_count": null,
      "metadata": {
        "colab": {
          "base_uri": "https://localhost:8080/"
        },
        "outputId": "0f5c9e4f-e5e7-4af8-d3cf-073bafe5a2e8",
        "id": "tLQo0Wl7Ptmi"
      },
      "outputs": [
        {
          "output_type": "stream",
          "name": "stdout",
          "text": [
            "CPU times: user 4 µs, sys: 0 ns, total: 4 µs\n",
            "Wall time: 19.8 µs\n",
            "Epoch      0/1000 : Cost   1.2519\n",
            "Epoch    100/1000 : Cost   1.2513\n",
            "Epoch    200/1000 : Cost   1.2508\n",
            "Epoch    300/1000 : Cost   1.2502\n",
            "Epoch    400/1000 : Cost   1.2496\n",
            "Epoch    500/1000 : Cost   1.2491\n",
            "Epoch    600/1000 : Cost   1.2486\n",
            "Epoch    700/1000 : Cost   1.2480\n",
            "Epoch    800/1000 : Cost   1.2475\n",
            "Epoch    900/1000 : Cost   1.2470\n",
            "TRAIN COST estimated is =  1.2465\n"
          ]
        }
      ],
      "source": [
        "%time\n",
        "w1_fin, b1_fin, w2_fin, b2_fin, w3_fin, b3_fin, w4_fin, b4_fin, J_test3 = gradient_descent(x_train, y_train, w1_fin, b1_fin, w2_fin, b2_fin, w3_fin, b3_fin, w4_fin, b4_fin,\n",
        "                                                                                                  tmp_alpha, tmp_lambda, epochs)\n",
        "\n",
        "\n",
        "\n",
        "print(f\"TRAIN COST estimated is ={J_test3[-1] : 8.4f}\")"
      ]
    },
    {
      "cell_type": "code",
      "execution_count": null,
      "metadata": {
        "id": "ZTvM1ODjSWQ5"
      },
      "outputs": [],
      "source": [
        "epochs = 1000\n",
        "tmp_alpha = 0.002                                 # learning rate\n",
        "tmp_lambda = 320"
      ]
    },
    {
      "cell_type": "code",
      "execution_count": null,
      "metadata": {
        "colab": {
          "base_uri": "https://localhost:8080/"
        },
        "outputId": "10533390-1b6b-4a4e-81a6-2b807775fc21",
        "id": "TaZlXdSqSWQ5"
      },
      "outputs": [
        {
          "output_type": "stream",
          "name": "stdout",
          "text": [
            "CPU times: user 3 µs, sys: 0 ns, total: 3 µs\n",
            "Wall time: 8.34 µs\n",
            "Epoch      0/1000 : Cost   1.5919\n",
            "Epoch    100/1000 : Cost   1.5903\n",
            "Epoch    200/1000 : Cost   1.5886\n",
            "Epoch    300/1000 : Cost   1.5871\n",
            "Epoch    400/1000 : Cost   1.5855\n",
            "Epoch    500/1000 : Cost   1.5840\n",
            "Epoch    600/1000 : Cost   1.5825\n",
            "Epoch    700/1000 : Cost   1.5810\n",
            "Epoch    800/1000 : Cost   1.5796\n",
            "Epoch    900/1000 : Cost   1.5781\n",
            "TRAIN COST estimated is =  1.5768\n"
          ]
        }
      ],
      "source": [
        "%time\n",
        "w1_fin, b1_fin, w2_fin, b2_fin, w3_fin, b3_fin, w4_fin, b4_fin, J_test4 = gradient_descent(x_train, y_train, w1_fin, b1_fin, w2_fin, b2_fin, w3_fin, b3_fin, w4_fin, b4_fin,\n",
        "                                                                                                  tmp_alpha, tmp_lambda, epochs)\n",
        "\n",
        "\n",
        "\n",
        "print(f\"TRAIN COST estimated is ={J_test4[-1] : 8.4f}\")"
      ]
    },
    {
      "cell_type": "code",
      "execution_count": null,
      "metadata": {
        "id": "i2Iyz-56Uxfc"
      },
      "outputs": [],
      "source": [
        "epochs = 1000\n",
        "tmp_alpha = 0.002                                 # learning rate\n",
        "tmp_lambda = 640"
      ]
    },
    {
      "cell_type": "code",
      "execution_count": null,
      "metadata": {
        "colab": {
          "base_uri": "https://localhost:8080/"
        },
        "outputId": "e5bb90b1-2743-432e-c570-c82b07913698",
        "id": "M9Xd3wUlUxfe"
      },
      "outputs": [
        {
          "output_type": "stream",
          "name": "stdout",
          "text": [
            "CPU times: user 3 µs, sys: 1 µs, total: 4 µs\n",
            "Wall time: 7.15 µs\n",
            "Epoch      0/1000 : Cost   2.2506\n",
            "Epoch    100/1000 : Cost   2.2434\n",
            "Epoch    200/1000 : Cost   2.2365\n",
            "Epoch    300/1000 : Cost   2.2297\n",
            "Epoch    400/1000 : Cost   2.2231\n",
            "Epoch    500/1000 : Cost   2.2166\n",
            "Epoch    600/1000 : Cost   2.2102\n",
            "Epoch    700/1000 : Cost   2.2040\n",
            "Epoch    800/1000 : Cost   2.1979\n",
            "Epoch    900/1000 : Cost   2.1919\n",
            "TRAIN COST estimated is =  2.1861\n"
          ]
        }
      ],
      "source": [
        "%time\n",
        "w1_fin, b1_fin, w2_fin, b2_fin, w3_fin, b3_fin, w4_fin, b4_fin, J_test5 = gradient_descent(x_train, y_train, w1_fin, b1_fin, w2_fin, b2_fin, w3_fin, b3_fin, w4_fin, b4_fin,\n",
        "                                                                                                  tmp_alpha, tmp_lambda, epochs)\n",
        "\n",
        "\n",
        "\n",
        "print(f\"TRAIN COST estimated is ={J_test5[-1] : 8.4f}\")"
      ]
    },
    {
      "cell_type": "markdown",
      "source": [
        "`Gradient Descent`"
      ],
      "metadata": {
        "id": "8ia56g--0kXK"
      }
    },
    {
      "cell_type": "code",
      "source": [
        "epochs = 10000\n",
        "tmp_alpha = 0.002\n",
        "tmp_lambda = 640"
      ],
      "metadata": {
        "id": "6wzivRr51DWq"
      },
      "execution_count": null,
      "outputs": []
    },
    {
      "cell_type": "code",
      "source": [
        "%time\n",
        "w1_fin, b1_fin, w2_fin, b2_fin, w3_fin, b3_fin, w4_fin, b4_fin, J_hist_4 = gradient_descent(x_train, y_train, w1_fin, b1_fin, w2_fin, b2_fin, w3_fin, b3_fin, w4_fin, b4_fin,\n",
        "                                                                                                  tmp_alpha, tmp_lambda, epochs)\n",
        "\n",
        "\n",
        "\n",
        "print(f\"TRAIN COST estimated is ={J_hist_4[-1] : 8.4f}\")"
      ],
      "metadata": {
        "colab": {
          "base_uri": "https://localhost:8080/"
        },
        "id": "5Tun8kHy1I8u",
        "outputId": "e2bdbac8-452c-48d8-ad65-1eb319d59a16"
      },
      "execution_count": null,
      "outputs": [
        {
          "output_type": "stream",
          "name": "stdout",
          "text": [
            "CPU times: user 2 µs, sys: 0 ns, total: 2 µs\n",
            "Wall time: 6.2 µs\n",
            "Epoch      0/10000 : Cost   2.1861\n",
            "Epoch   1000/10000 : Cost   2.1330\n",
            "Epoch   2000/10000 : Cost   2.0884\n",
            "Epoch   3000/10000 : Cost   2.0502\n",
            "Epoch   4000/10000 : Cost   2.0172\n",
            "Epoch   5000/10000 : Cost   1.9885\n",
            "Epoch   6000/10000 : Cost   1.9633\n",
            "Epoch   7000/10000 : Cost   1.9412\n",
            "Epoch   8000/10000 : Cost   1.9217\n",
            "Epoch   9000/10000 : Cost   1.9043\n",
            "TRAIN COST estimated is =  1.8888\n"
          ]
        }
      ]
    },
    {
      "cell_type": "markdown",
      "source": [
        "`Learning Curve`"
      ],
      "metadata": {
        "id": "unALTzBm0uQI"
      }
    },
    {
      "cell_type": "code",
      "source": [
        "plt.plot(np.arange(len(J_hist_4)), J_hist_4, 'b', label='Cost')\n",
        "plt.title('Learning Curve', fontdict={'fontsize': 20})\n",
        "plt.xlabel('Iterations')\n",
        "plt.ylabel('Cost J')\n",
        "plt.legend()\n",
        "plt.show()"
      ],
      "metadata": {
        "colab": {
          "base_uri": "https://localhost:8080/",
          "height": 480
        },
        "id": "kmKjpWS42jEI",
        "outputId": "963b2c81-61d2-4987-ce0e-1909e035064d"
      },
      "execution_count": null,
      "outputs": [
        {
          "output_type": "display_data",
          "data": {
            "text/plain": [
              "<Figure size 640x480 with 1 Axes>"
            ],
            "image/png": "[encoded data removed]"
          },
          "metadata": {}
        }
      ]
    },
    {
      "cell_type": "markdown",
      "source": [
        "`Gradient Descent Continued`"
      ],
      "metadata": {
        "id": "oEyjJRQF3F9E"
      }
    },
    {
      "cell_type": "code",
      "source": [
        "epochs = 1000\n",
        "tmp_alpha = 0.002\n",
        "tmp_lambda = 580"
      ],
      "metadata": {
        "id": "XYzK-J18tcqj"
      },
      "execution_count": null,
      "outputs": []
    },
    {
      "cell_type": "code",
      "source": [
        "%time\n",
        "w1_fin, b1_fin, w2_fin, b2_fin, w3_fin, b3_fin, w4_fin, b4_fin, J_hist_5 = gradient_descent(x_train, y_train, w1_fin, b1_fin, w2_fin, b2_fin, w3_fin, b3_fin, w4_fin, b4_fin,\n",
        "                                                                                                  tmp_alpha, tmp_lambda, epochs)\n",
        "\n",
        "\n",
        "\n",
        "print(f\"TRAIN COST estimated is ={J_hist_5[-1] : 8.4f}\")"
      ],
      "metadata": {
        "colab": {
          "base_uri": "https://localhost:8080/"
        },
        "outputId": "a1e97982-5353-4bea-b8df-9f21775dfe1a",
        "id": "6I6fUR6wtcqk"
      },
      "execution_count": null,
      "outputs": [
        {
          "output_type": "stream",
          "name": "stdout",
          "text": [
            "CPU times: user 4 µs, sys: 0 ns, total: 4 µs\n",
            "Wall time: 8.11 µs\n",
            "Epoch      0/1000 : Cost   1.6946\n",
            "Epoch    100/1000 : Cost   1.6945\n",
            "Epoch    200/1000 : Cost   1.6943\n",
            "Epoch    300/1000 : Cost   1.6941\n",
            "Epoch    400/1000 : Cost   1.6939\n",
            "Epoch    500/1000 : Cost   1.6937\n",
            "Epoch    600/1000 : Cost   1.6935\n",
            "Epoch    700/1000 : Cost   1.6933\n",
            "Epoch    800/1000 : Cost   1.6932\n",
            "Epoch    900/1000 : Cost   1.6930\n",
            "TRAIN COST estimated is =  1.6928\n"
          ]
        }
      ]
    },
    {
      "cell_type": "markdown",
      "source": [
        "`Learning Curve`"
      ],
      "metadata": {
        "id": "LmF-zKYk3Nhj"
      }
    },
    {
      "cell_type": "code",
      "source": [
        "plt.plot(np.arange(len(J_hist_5)), J_hist_5, 'b', label='Cost')\n",
        "plt.title('Learning Curve', fontdict={'fontsize': 20})\n",
        "plt.xlabel('Iterations')\n",
        "plt.ylabel('Cost J')\n",
        "plt.legend()\n",
        "plt.show()"
      ],
      "metadata": {
        "colab": {
          "base_uri": "https://localhost:8080/",
          "height": 480
        },
        "outputId": "e6e9ecf4-d586-498c-daa2-c049bef9b654",
        "id": "JtCW0jTR3Nhj"
      },
      "execution_count": null,
      "outputs": [
        {
          "output_type": "display_data",
          "data": {
            "text/plain": [
              "<Figure size 640x480 with 1 Axes>"
            ],
            "image/png": "[encoded data removed]"
          },
          "metadata": {}
        }
      ]
    },
    {
      "cell_type": "markdown",
      "source": [
        "`Saved Progress`"
      ],
      "metadata": {
        "id": "_quy6uxZp0w1"
      }
    },
    {
      "cell_type": "code",
      "source": [
        "# df = pd.DataFrame(w1_fin)\n",
        "# df.to_csv('/content/drive/MyDrive/w1.csv', index=False)\n",
        "# df = pd.DataFrame(b1_fin)\n",
        "# df.to_csv('/content/drive/MyDrive/b1.csv', index=False)\n",
        "# df = pd.DataFrame(w2_fin)\n",
        "# df.to_csv('/content/drive/MyDrive/w2.csv', index=False)\n",
        "# df = pd.DataFrame(b2_fin)\n",
        "# df.to_csv('/content/drive/MyDrive/b2.csv', index=False)\n",
        "# df = pd.DataFrame(w3_fin)\n",
        "# df.to_csv('/content/drive/MyDrive/w3.csv', index=False)\n",
        "# df = pd.DataFrame(b3_fin)\n",
        "# df.to_csv('/content/drive/MyDrive/b3.csv', index=False)\n",
        "# df = pd.DataFrame(w4_fin)\n",
        "# df.to_csv('/content/drive/MyDrive/w4.csv', index=False)\n",
        "# df = pd.DataFrame(b4_fin)\n",
        "# df.to_csv('/content/drive/MyDrive/b4.csv', index=False)"
      ],
      "metadata": {
        "id": "YQLxMGCyV9Vr"
      },
      "execution_count": null,
      "outputs": []
    },
    {
      "cell_type": "markdown",
      "source": [
        "##**7. Gradient Descent of Second Batch**"
      ],
      "metadata": {
        "id": "3anb8OTG7PjB"
      }
    },
    {
      "cell_type": "markdown",
      "source": [
        "`Reading Batch 2`"
      ],
      "metadata": {
        "id": "nGkP4xMA7aIm"
      }
    },
    {
      "cell_type": "code",
      "source": [
        "df_batch2 = pd.read_csv('/content/drive/MyDrive/nn_train.csv', delimiter=',', skiprows=40000, nrows=40000)\n",
        "\n",
        "df_train = df_batch2.iloc[:32000]\n",
        "df_cv = df_batch2.iloc[32000:36000]\n",
        "df_test = df_batch2.iloc[36000:]\n",
        "\n",
        "features_batch2 = df_train.iloc[:, 1:1026]\n",
        "\n",
        "x_train = features_batch2.to_numpy()\n",
        "y_train = df_train.iloc[:, 1026].to_numpy()\n",
        "\n",
        "\n",
        "x_train = (x_train - mean) / std                                 # same normalization\n",
        "\n",
        "print(f\"x_next_batch = {x_train}\")\n",
        "print(f\"y_next_batch = {y_train}\")"
      ],
      "metadata": {
        "colab": {
          "base_uri": "https://localhost:8080/"
        },
        "id": "rjwE1vsG7cs7",
        "outputId": "ee57e293-017b-425a-b3ce-2958106d9911"
      },
      "execution_count": null,
      "outputs": [
        {
          "output_type": "stream",
          "name": "stdout",
          "text": [
            "x_next_batch = [[-1.12550798 -1.23509799 -1.15811456 ... -0.40339487 -0.50898951\n",
            "  -1.00231518]\n",
            " [ 1.44325431  1.45773809  1.41790319 ... -1.66234662 -1.54526688\n",
            "  -1.00231518]\n",
            " [ 0.63510438  0.15522499  0.12253426 ...  0.20021213  0.47632341\n",
            "   0.99769017]\n",
            " ...\n",
            " [ 0.05785443  0.2137649   0.4610966  ...  1.07975377  1.25777848\n",
            "   0.99769017]\n",
            " [ 0.54851689  0.33084473  0.29917548 ...  1.01077011  1.00295618\n",
            "  -1.00231518]\n",
            " [-0.63484552 -0.64969884 -0.67235121 ...  1.25221291  1.22380217\n",
            "  -1.00231518]]\n",
            "y_next_batch = [5 9 7 ... 5 1 3]\n"
          ]
        }
      ]
    },
    {
      "cell_type": "markdown",
      "source": [
        "`Gradient Descent`"
      ],
      "metadata": {
        "id": "6WEzt_0-8Vrj"
      }
    },
    {
      "cell_type": "code",
      "source": [
        "y_train_encoded = np.eye(10)[y_train - 1]"
      ],
      "metadata": {
        "id": "ZJ_bIepZjOBg"
      },
      "execution_count": null,
      "outputs": []
    },
    {
      "cell_type": "code",
      "source": [
        "epochs = 2000\n",
        "tmp_alpha = 0.01\n",
        "tmp_lambda = 540"
      ],
      "metadata": {
        "id": "MqAF-V3x8YdY"
      },
      "execution_count": null,
      "outputs": []
    },
    {
      "cell_type": "code",
      "source": [
        "%time\n",
        "w1_fin, b1_fin, w2_fin, b2_fin, w3_fin, b3_fin, w4_fin, b4_fin, J_hist2 = gradient_descent(x_train, y_train, w1_fin, b1_fin, w2_fin, b2_fin, w3_fin, b3_fin, w4_fin, b4_fin,\n",
        "                                                                                                  tmp_alpha, tmp_lambda, epochs)\n",
        "\n",
        "\n",
        "\n",
        "print(f\"TRAIN COST estimated is ={J_hist2[-1] : 8.4f}\")"
      ],
      "metadata": {
        "colab": {
          "base_uri": "https://localhost:8080/"
        },
        "id": "NiwymIqO8hNz",
        "outputId": "3c24c6dc-dbcb-4737-d211-da6cf9861e99"
      },
      "execution_count": null,
      "outputs": [
        {
          "output_type": "stream",
          "name": "stdout",
          "text": [
            "CPU times: user 3 µs, sys: 0 ns, total: 3 µs\n",
            "Wall time: 5.48 µs\n",
            "Epoch      0/2000 : Cost   2.0826\n",
            "Epoch    200/2000 : Cost   1.9354\n",
            "Epoch    400/2000 : Cost   1.8810\n",
            "Epoch    600/2000 : Cost   1.8465\n",
            "Epoch    800/2000 : Cost   1.8214\n",
            "Epoch   1000/2000 : Cost   1.8018\n",
            "Epoch   1200/2000 : Cost   1.7858\n",
            "Epoch   1400/2000 : Cost   1.7723\n",
            "Epoch   1600/2000 : Cost   1.7606\n",
            "Epoch   1800/2000 : Cost   1.7503\n",
            "TRAIN COST estimated is =  1.7412\n"
          ]
        }
      ]
    },
    {
      "cell_type": "markdown",
      "source": [
        "`Learning Curve`"
      ],
      "metadata": {
        "id": "knDlQW8G8wHd"
      }
    },
    {
      "cell_type": "code",
      "source": [
        "plt.plot(np.arange(len(J_hist2)), J_hist2, 'b', label='Cost')\n",
        "plt.title('Learning Curve', fontdict={'fontsize': 20})\n",
        "plt.xlabel('Iterations')\n",
        "plt.ylabel('Cost J')\n",
        "plt.legend()\n",
        "plt.show()"
      ],
      "metadata": {
        "colab": {
          "base_uri": "https://localhost:8080/",
          "height": 480
        },
        "id": "M-Dth6I681nA",
        "outputId": "44b062ad-e93e-400b-a5fb-586dc42669cf"
      },
      "execution_count": null,
      "outputs": [
        {
          "output_type": "display_data",
          "data": {
            "text/plain": [
              "<Figure size 640x480 with 1 Axes>"
            ],
            "image/png": "[encoded data removed]"
          },
          "metadata": {}
        }
      ]
    },
    {
      "cell_type": "markdown",
      "source": [
        "`Gradient Descent`"
      ],
      "metadata": {
        "id": "IEYC9sJwEGSL"
      }
    },
    {
      "cell_type": "code",
      "source": [
        "epochs = 2000\n",
        "tmp_alpha = 0.005\n",
        "tmp_lambda = 580"
      ],
      "metadata": {
        "id": "jD7QJM-TEL0V"
      },
      "execution_count": null,
      "outputs": []
    },
    {
      "cell_type": "code",
      "source": [
        "%time\n",
        "w1_fin, b1_fin, w2_fin, b2_fin, w3_fin, b3_fin, w4_fin, b4_fin, J_hist2_1 = gradient_descent(x_train, y_train, w1_fin, b1_fin, w2_fin, b2_fin, w3_fin, b3_fin, w4_fin, b4_fin,\n",
        "                                                                                                  tmp_alpha, tmp_lambda, epochs)\n",
        "\n",
        "\n",
        "\n",
        "print(f\"TRAIN COST estimated is ={J_hist2_1[-1] : 8.4f}\")"
      ],
      "metadata": {
        "colab": {
          "base_uri": "https://localhost:8080/"
        },
        "id": "Ejy5XoL7EMXg",
        "outputId": "b8902bae-69c9-43cd-8cfc-77f0ec4e82c9"
      },
      "execution_count": null,
      "outputs": [
        {
          "output_type": "stream",
          "name": "stdout",
          "text": [
            "CPU times: user 3 µs, sys: 1e+03 ns, total: 4 µs\n",
            "Wall time: 6.91 µs\n",
            "Epoch      0/2000 : Cost   1.7695\n",
            "Epoch    200/2000 : Cost   1.7651\n",
            "Epoch    400/2000 : Cost   1.7610\n",
            "Epoch    600/2000 : Cost   1.7570\n",
            "Epoch    800/2000 : Cost   1.7533\n",
            "Epoch   1000/2000 : Cost   1.7498\n",
            "Epoch   1200/2000 : Cost   1.7464\n",
            "Epoch   1400/2000 : Cost   1.7431\n",
            "Epoch   1600/2000 : Cost   1.7400\n",
            "Epoch   1800/2000 : Cost   1.7371\n",
            "TRAIN COST estimated is =  1.7342\n"
          ]
        }
      ]
    },
    {
      "cell_type": "markdown",
      "source": [
        "`Learning Curve`"
      ],
      "metadata": {
        "id": "KDYOhBwUEJsM"
      }
    },
    {
      "cell_type": "code",
      "source": [
        "plt.plot(np.arange(len(J_hist2_1)), J_hist2_1, 'b', label='Cost')\n",
        "plt.title('Learning Curve', fontdict={'fontsize': 20})\n",
        "plt.xlabel('Iterations')\n",
        "plt.ylabel('Cost J')\n",
        "plt.legend()\n",
        "plt.show()"
      ],
      "metadata": {
        "colab": {
          "base_uri": "https://localhost:8080/",
          "height": 480
        },
        "id": "ec6wFoFKEjkH",
        "outputId": "a5c6af80-8bae-4420-ed83-5bad0298c420"
      },
      "execution_count": null,
      "outputs": [
        {
          "output_type": "display_data",
          "data": {
            "text/plain": [
              "<Figure size 640x480 with 1 Axes>"
            ],
            "image/png": "[encoded data removed]"
          },
          "metadata": {}
        }
      ]
    },
    {
      "cell_type": "markdown",
      "source": [
        "`Gradient Descent`"
      ],
      "metadata": {
        "id": "2QPTJpVmP3CO"
      }
    },
    {
      "cell_type": "code",
      "source": [
        "epochs = 5000\n",
        "tmp_alpha = 0.008\n",
        "tmp_lambda = 640"
      ],
      "metadata": {
        "id": "hqMAiqpCP7_J"
      },
      "execution_count": null,
      "outputs": []
    },
    {
      "cell_type": "code",
      "source": [
        "%time\n",
        "w1_fin, b1_fin, w2_fin, b2_fin, w3_fin, b3_fin, w4_fin, b4_fin, J_hist2_2 = gradient_descent(x_train, y_train, w1_fin, b1_fin, w2_fin, b2_fin, w3_fin, b3_fin, w4_fin, b4_fin,\n",
        "                                                                                                  tmp_alpha, tmp_lambda, epochs)\n",
        "\n",
        "\n",
        "\n",
        "print(f\"TRAIN COST estimated is ={J_hist2_2[-1] : 8.4f}\")"
      ],
      "metadata": {
        "colab": {
          "base_uri": "https://localhost:8080/"
        },
        "id": "3Urv8yYeP71P",
        "outputId": "30d8524f-f514-40e5-e3fd-7eaf3e27907f"
      },
      "execution_count": null,
      "outputs": [
        {
          "output_type": "stream",
          "name": "stdout",
          "text": [
            "CPU times: user 3 µs, sys: 0 ns, total: 3 µs\n",
            "Wall time: 6.44 µs\n",
            "Epoch      0/5000 : Cost   1.7110\n",
            "Epoch    500/5000 : Cost   1.7049\n",
            "Epoch   1000/5000 : Cost   1.7025\n",
            "Epoch   1500/5000 : Cost   1.7004\n",
            "Epoch   2000/5000 : Cost   1.6984\n",
            "Epoch   2500/5000 : Cost   1.6968\n",
            "Epoch   3000/5000 : Cost   1.6953\n",
            "Epoch   3500/5000 : Cost   1.6938\n",
            "Epoch   4000/5000 : Cost   1.6953\n",
            "Epoch   4500/5000 : Cost   1.6919\n",
            "TRAIN COST estimated is =  1.6894\n"
          ]
        }
      ]
    },
    {
      "cell_type": "markdown",
      "source": [
        "`Learning Curve`"
      ],
      "metadata": {
        "id": "BedQ0EPfP55R"
      }
    },
    {
      "cell_type": "code",
      "source": [
        "plt.plot(np.arange(len(J_hist2_2)), J_hist2_2, 'b', label='Cost')\n",
        "plt.title('Learning Curve', fontdict={'fontsize': 20})\n",
        "plt.xlabel('Iterations')\n",
        "plt.ylabel('Cost J')\n",
        "plt.legend()\n",
        "plt.show()"
      ],
      "metadata": {
        "colab": {
          "base_uri": "https://localhost:8080/",
          "height": 480
        },
        "id": "1av991XeQUz7",
        "outputId": "c16bcde9-3777-4eba-8b90-e9ca13000e54"
      },
      "execution_count": null,
      "outputs": [
        {
          "output_type": "display_data",
          "data": {
            "text/plain": [
              "<Figure size 640x480 with 1 Axes>"
            ],
            "image/png": "[encoded data removed]"
          },
          "metadata": {}
        }
      ]
    },
    {
      "cell_type": "markdown",
      "source": [
        "`Gradient Descent`"
      ],
      "metadata": {
        "id": "9b9Es5o_tc-u"
      }
    },
    {
      "cell_type": "code",
      "source": [
        "epochs = 1000\n",
        "tmp_alpha = 0.001\n",
        "tmp_lambda = 640"
      ],
      "metadata": {
        "id": "ZDjLJ46Xtc-u"
      },
      "execution_count": null,
      "outputs": []
    },
    {
      "cell_type": "code",
      "source": [
        "%time\n",
        "w1_fin, b1_fin, w2_fin, b2_fin, w3_fin, b3_fin, w4_fin, b4_fin, J_hist2_3 = gradient_descent(x_train, y_train, w1_fin, b1_fin, w2_fin, b2_fin, w3_fin, b3_fin, w4_fin, b4_fin,\n",
        "                                                                                                  tmp_alpha, tmp_lambda, epochs)\n",
        "\n",
        "\n",
        "\n",
        "print(f\"TRAIN COST estimated is ={J_hist2_3[-1] : 8.4f}\")"
      ],
      "metadata": {
        "colab": {
          "base_uri": "https://localhost:8080/"
        },
        "outputId": "bd3512d2-876a-400e-ea24-e1fc07ae6d2d",
        "id": "lO_lLRdMtc-u"
      },
      "execution_count": null,
      "outputs": [
        {
          "output_type": "stream",
          "name": "stdout",
          "text": [
            "CPU times: user 4 µs, sys: 0 ns, total: 4 µs\n",
            "Wall time: 12.4 µs\n",
            "Epoch      0/1000 : Cost   1.6894\n",
            "Epoch    100/1000 : Cost   1.6893\n",
            "Epoch    200/1000 : Cost   1.6892\n",
            "Epoch    300/1000 : Cost   1.6892\n",
            "Epoch    400/1000 : Cost   1.6892\n",
            "Epoch    500/1000 : Cost   1.6891\n",
            "Epoch    600/1000 : Cost   1.6891\n",
            "Epoch    700/1000 : Cost   1.6891\n",
            "Epoch    800/1000 : Cost   1.6890\n",
            "Epoch    900/1000 : Cost   1.6890\n",
            "TRAIN COST estimated is =  1.6890\n"
          ]
        }
      ]
    },
    {
      "cell_type": "markdown",
      "source": [
        "`Learning Curve`"
      ],
      "metadata": {
        "id": "8NNDvSRRtc-v"
      }
    },
    {
      "cell_type": "code",
      "source": [
        "plt.plot(np.arange(len(J_hist2_3)), J_hist2_3, 'b', label='Cost')\n",
        "plt.title('Learning Curve', fontdict={'fontsize': 20})\n",
        "plt.xlabel('Iterations')\n",
        "plt.ylabel('Cost J')\n",
        "plt.legend()\n",
        "plt.show()"
      ],
      "metadata": {
        "colab": {
          "base_uri": "https://localhost:8080/",
          "height": 480
        },
        "id": "PeOxHvcltc-v",
        "outputId": "80eeba1d-fed9-4703-fdfb-0ae58ee021a8"
      },
      "execution_count": null,
      "outputs": [
        {
          "output_type": "display_data",
          "data": {
            "text/plain": [
              "<Figure size 640x480 with 1 Axes>"
            ],
            "image/png": "[encoded data removed]"
          },
          "metadata": {}
        }
      ]
    },
    {
      "cell_type": "markdown",
      "metadata": {
        "id": "pREA9kZ5O9pb"
      },
      "source": [
        "##**8. Learned Parameters**"
      ]
    },
    {
      "cell_type": "code",
      "execution_count": null,
      "metadata": {
        "colab": {
          "base_uri": "https://localhost:8080/"
        },
        "id": "U3M9tfzaPAux",
        "outputId": "af56bfd6-83ee-44c3-d39e-a77a88bf35bc"
      },
      "outputs": [
        {
          "output_type": "stream",
          "name": "stdout",
          "text": [
            "Obtained weights = [[ 0.00209699  0.01297499 -0.00857375 ... -0.03152327 -0.00408675\n",
            "   0.01326717]\n",
            " [ 0.00798481  0.01180252 -0.00642909 ... -0.01742261 -0.01326078\n",
            "   0.01641808]\n",
            " [ 0.00710443  0.01453489 -0.00944511 ... -0.00855727 -0.00257325\n",
            "   0.00359067]\n",
            " ...\n",
            " [ 0.00413851 -0.00638673 -0.00271727 ...  0.01377859 -0.00591986\n",
            "   0.00212224]\n",
            " [-0.00013718 -0.00572622 -0.00061382 ... -0.00554189 -0.00954419\n",
            "   0.00602892]\n",
            " [-0.01503575  0.00067946 -0.01246153 ... -0.06382319  0.02584041\n",
            "   0.04359092]]\n",
            "[[-0.05560078  0.21711338  0.11256667 ...  0.10912945  0.16153157\n",
            "   0.00648252]\n",
            " [ 0.0618623   0.02228822 -0.03239762 ... -0.12109069 -0.03977543\n",
            "  -0.00190695]\n",
            " [-0.06401697  0.18249834  0.13983108 ...  0.04498767  0.19756034\n",
            "  -0.04088441]\n",
            " ...\n",
            " [ 0.0799771  -0.12701252 -0.10033733 ... -0.11648762 -0.13896466\n",
            "   0.0171738 ]\n",
            " [ 0.06500996 -0.17847633 -0.07808769 ... -0.08829271 -0.11416355\n",
            "   0.05163573]\n",
            " [-0.07175507  0.2231794   0.13041768 ...  0.12594196  0.15724257\n",
            "   0.02407685]]\n",
            "[[ 1.80769039e-02 -2.99853844e-02 -1.74511338e-02  4.47448032e-02\n",
            "   7.91631004e-02  2.38348941e-02  3.13034512e-01  2.06766768e-01\n",
            "   5.12817988e-02 -1.38598894e-03  3.81724784e-02 -1.80467113e-01]\n",
            " [-2.63827400e-01 -3.82837036e-01  3.96223949e-01  2.27908472e-01\n",
            "  -9.51700939e-02 -1.23120203e-01  1.09120297e-01  4.61617032e-02\n",
            "   3.20758783e-01  9.13319072e-02 -8.63136258e-02  8.96974216e-01]\n",
            " [ 7.04472451e-02  1.79631041e-01  1.20244442e-01 -6.69797645e-04\n",
            "  -5.47353028e-02  6.47077960e-03 -1.63059408e-01 -1.83587235e-01\n",
            "   6.11414110e-02  6.59244178e-02 -2.85486176e-02  4.96256973e-01]\n",
            " [-1.41439304e-01  2.01694698e-02  2.66781185e-01  2.56622425e-01\n",
            "  -2.08437045e-02 -7.14134564e-02  6.98499137e-01 -5.19140882e-02\n",
            "  -2.00503742e-02 -4.17337968e-02 -3.98917808e-02  3.47644830e-02]\n",
            " [ 6.04960339e-02  2.18056943e-01  2.88658638e-02 -8.28688146e-03\n",
            "  -6.74483361e-03  2.17936999e-02  3.17987758e-02 -8.74049859e-02\n",
            "  -4.95064828e-02  1.91891431e-02  1.43347292e-03  8.13868901e-02]\n",
            " [-1.67103967e-01 -1.32278069e-01  1.44164173e-01  1.15897903e-03\n",
            "  -4.84955491e-02 -3.04104644e-02 -2.06854474e-01  2.15161339e-01\n",
            "   1.44118657e-01  1.24933399e-01 -1.68815128e-02  5.68339151e-01]\n",
            " [-6.09271331e-02 -3.59080740e-02  6.63966600e-02 -6.36790100e-03\n",
            "  -2.51329660e-02 -8.31923860e-03 -1.13224253e-01  7.52290838e-02\n",
            "   6.12627949e-02  6.27313800e-02 -7.08639460e-03  2.83393662e-01]\n",
            " [ 1.90618895e-02  5.18000387e-01  3.63985760e-03  4.27747046e-02\n",
            "   1.23033126e-01  7.28474027e-02  7.19175286e-01  3.28423306e-01\n",
            "  -1.75607370e-01  2.43652937e-02  8.02542098e-02 -3.99487998e-01]\n",
            " [-4.55003330e-02  3.07840436e-01  2.01207099e-01  2.05974532e-01\n",
            "   9.95059284e-03 -2.76451409e-02  7.53909477e-01 -5.42784529e-02\n",
            "  -1.27063247e-01 -4.89110290e-02 -1.44194125e-02 -1.35766550e-01]\n",
            " [-4.15115137e-02 -1.34901520e-02  1.83386705e-01  1.83709101e-01\n",
            "  -1.93498204e-02 -4.91277716e-02  4.29379019e-01 -1.26100945e-01\n",
            "   2.10782447e-02 -4.08854696e-02 -3.55910475e-02  6.90813662e-02]\n",
            " [ 3.95078013e-02 -1.41235103e-01 -5.14624009e-02  2.69544228e-02\n",
            "   9.23641260e-02  3.12869338e-02  2.35495141e-01  2.48939009e-01\n",
            "   1.14648802e-01  4.63450403e-03  4.55607510e-02 -1.61028445e-01]\n",
            " [ 4.24842791e-03  1.21776695e-02  9.29667107e-02  9.72143066e-02\n",
            "  -6.09334435e-03 -2.03792333e-02  2.32467907e-01 -9.38167953e-02\n",
            "   1.46004373e-02 -2.38247004e-02 -1.78619512e-02  3.85991497e-02]\n",
            " [-1.82889920e-02 -1.31395705e-01 -9.25548529e-03 -5.79185291e-02\n",
            "   3.20057180e-02  2.38000092e-02 -1.95300254e-01  2.76878570e-01\n",
            "   1.71027804e-01  9.40740934e-02  2.76273926e-02  2.78637061e-01]\n",
            " [ 2.55260165e-02  1.31150779e-01  1.88146252e-02 -2.54456357e-03\n",
            "  -2.39570033e-03  9.60053605e-03  2.80123985e-02 -4.39857346e-02\n",
            "  -3.14880941e-02  9.83718507e-03  5.63949468e-04  3.82751892e-02]\n",
            " [-1.22717605e-02  2.61147335e-01  2.73506724e-01  3.45483348e-02\n",
            "  -1.29395098e-01 -7.28850080e-03 -1.27337936e-01 -2.58328238e-01\n",
            "  -6.94220970e-03  1.27388495e-01 -5.33239502e-02  7.74101724e-01]\n",
            " [ 4.44488699e-01  2.36143353e-01 -1.77355948e-01 -5.84659628e-02\n",
            "   1.43919101e-01  1.15082493e-01  4.50232276e-02 -1.52692492e-01\n",
            "   1.48726041e-01 -2.72515192e-02  5.98931353e-02 -1.11632239e-01]\n",
            " [ 2.93176760e-01  8.62632919e-01  2.69862003e-02 -8.84615352e-02\n",
            "   6.02311661e-03  1.07159845e-01  1.15670356e-02 -2.93224922e-01\n",
            "  -1.62442457e-01  7.29471671e-02  2.30882506e-02  2.55147983e-01]\n",
            " [-1.32257928e-02 -4.56910469e-03  1.54069505e-02  1.13616974e-02\n",
            "  -2.19851277e-03 -4.87886574e-03  2.39079610e-02  7.64708161e-04\n",
            "   1.95084899e-03  9.19162283e-04 -2.57789999e-03  1.35205235e-02]\n",
            " [-1.72532782e-01  2.11592959e-01  2.07725029e-01  4.74243471e-02\n",
            "  -7.84306970e-02 -3.52832986e-02  5.07059991e-02 -1.53679089e-02\n",
            "  -9.53996106e-02  8.60815851e-02 -2.90463417e-02  3.49339598e-01]\n",
            " [ 4.67034139e-01  2.11515239e-01 -2.27258285e-01 -7.95193633e-02\n",
            "   1.74410935e-01  1.33324393e-01  6.11517506e-02 -7.71521775e-02\n",
            "   1.61458607e-01 -2.50539182e-02  7.98588637e-02 -2.03643516e-01]\n",
            " [ 3.74302192e-01  2.81047086e-01 -6.68755353e-02  6.98323282e-03\n",
            "   8.62619052e-02  7.56411881e-02  1.26490341e-01 -2.79945923e-01\n",
            "   9.57683029e-02 -3.80723877e-02  2.39670915e-02 -2.14363700e-03]\n",
            " [ 5.02584199e-02  3.39493730e-01 -8.85051291e-03  1.79505593e-02\n",
            "   6.55439639e-02  4.43535667e-02  3.78826741e-01  1.04834042e-01\n",
            "  -1.12724932e-01  2.73736990e-03  4.11790262e-02 -2.28581466e-01]\n",
            " [-4.98661848e-02 -1.44115695e-01  1.33724985e-02 -6.93805573e-02\n",
            "   1.87170120e-02  1.76493292e-02 -2.78166722e-01  3.07917579e-01\n",
            "   1.98781424e-01  1.21770446e-01  2.26482828e-02  4.16119223e-01]\n",
            " [-5.61136573e-02  2.18509763e-01  2.58640352e-01  3.95266616e-02\n",
            "  -1.18668918e-01 -1.79874728e-02 -1.04148317e-01 -1.99033717e-01\n",
            "  -1.04575184e-02  1.18099272e-01 -5.02940440e-02  6.94644841e-01]\n",
            " [ 2.24169362e-01 -1.90119080e-01 -1.36471829e-01 -3.14760783e-02\n",
            "   1.40110878e-01  6.79175947e-02 -1.12356019e-02  1.71562354e-01\n",
            "   2.91848801e-01  1.68115679e-02  5.91495076e-02 -4.98268559e-03]]\n",
            "[[ 0.17106368 -0.40563363  0.06376079  0.09079574 -0.05202123  0.20087437\n",
            "  -0.67275466  0.36841738  0.23832069 -0.00309399]\n",
            " [-0.34173598  0.30554657 -0.36038011 -0.1726253  -0.18116232  0.07162683\n",
            "  -0.69822247  0.724503   -0.05523084  0.70752939]\n",
            " [-0.12000489  0.42149517 -0.15142598  0.01474646 -0.28460605 -0.14226158\n",
            "   0.35503258 -0.36528822  0.00648265  0.26513217]\n",
            " [-0.14921184  0.09968837 -0.04965913  0.22036316 -0.22780733  0.05361804\n",
            "   0.23999498 -0.16212785 -0.10410686  0.07976387]\n",
            " [-0.00402079 -0.11558896  0.01113245  0.11367985  0.09955337  0.15584511\n",
            "  -0.20152183  0.16031629 -0.02113373 -0.19866049]\n",
            " [ 0.01148931 -0.08070557 -0.00781951 -0.02671412  0.07694162  0.06537049\n",
            "  -0.21332143  0.15318118  0.05047738 -0.02891837]\n",
            " [-0.92010787  0.02936386 -0.22803901  0.71651678 -0.28865221  0.58600422\n",
            "   0.23245845  0.29638064 -0.59919905  0.1753892 ]\n",
            " [ 0.03403332 -0.12814251  0.14412909 -0.13621115  0.63266487  0.09278369\n",
            "   0.36850492 -0.10045844 -0.41359202 -0.49400362]\n",
            " [ 0.32978849 -0.08550821 -0.03130589  0.15677717  0.08024274  0.04967009\n",
            "  -0.00210659 -0.32344179  0.22526408 -0.40013403]\n",
            " [ 0.03723384  0.2073845  -0.1325506  -0.13296672  0.08491265 -0.07199229\n",
            "  -0.0039089  -0.07916149  0.10964033 -0.02027105]\n",
            " [-0.01051047 -0.04690829  0.01227082 -0.00228943  0.09220772  0.06348467\n",
            "  -0.11007802  0.10451587 -0.01520216 -0.08658659]\n",
            " [ 0.52526374  0.89868395 -0.56032483 -0.3721931  -0.23966709 -0.52822987\n",
            "   0.24467589 -0.89506925  0.75434186  0.17274516]]\n",
            "\n",
            "Obtained bias terms = [[-0.0552632   0.02323635 -0.03931823 -0.11440216 -0.06848336  0.00642983\n",
            "  -0.04385248 -0.01416324 -0.20792725  0.00221169 -0.030679   -0.01442546\n",
            "   0.10956511  0.02858523 -0.07060575  0.16762821 -0.03918461  0.02682746\n",
            "  -0.15326874  0.1690086  -0.08755957  0.0024269   0.07912734  0.20365385\n",
            "  -0.06242798 -0.04763333 -0.02194817 -0.06716411  0.01187289 -0.01320921\n",
            "  -0.04686376 -0.01667074  0.11853605 -0.1481518  -0.07776955 -0.04591235\n",
            "  -0.12052414 -0.03805265  0.07739262  0.00540673 -0.09295619 -0.15116881\n",
            "  -0.07010306 -0.07836511 -0.11785097  0.04084624 -0.04750702 -0.08540317\n",
            "  -0.02125779 -0.05664511]]\n",
            "[[ 0.30176742  0.32768423  0.01852978  0.13353488 -0.03414457  0.39225203\n",
            "   0.16972896  0.48854512  0.1551514   0.05159717  0.36268192  0.01790625\n",
            "   0.42094236 -0.02783783  0.07185015  0.02788743 -0.14769363  0.00675734\n",
            "   0.06314063  0.09456261 -0.10465353  0.17340144  0.46336663  0.06702603\n",
            "   0.30263301]]\n",
            "[[ 0.50962243 -0.53479525 -0.03539079 -0.06455878  0.01113357  0.08756256\n",
            "  -0.28517014  1.517094    0.22946889 -0.13107321  0.07012819 -0.0389184 ]]\n",
            "[[ 1.13720258 -2.88839672  2.95791129 -0.57577653  1.00891111 -0.82811356\n",
            "   0.37496277  0.0575029  -0.22743941 -1.01676443]]\n"
          ]
        }
      ],
      "source": [
        "print(f'Obtained weights = {w1_fin}' )\n",
        "print(f'{w2_fin}' )\n",
        "print(f'{w3_fin}' )\n",
        "print(f'{w4_fin}' )\n",
        "print()\n",
        "print(f'Obtained bias terms = {b1_fin}')\n",
        "print(f'{b2_fin}')\n",
        "print(f'{b3_fin}')\n",
        "print(f'{b4_fin}')"
      ]
    },
    {
      "cell_type": "markdown",
      "metadata": {
        "id": "qZvZgzD5UbqE"
      },
      "source": [
        "##**9. Estimating Cross Validation Cost**"
      ]
    },
    {
      "cell_type": "markdown",
      "metadata": {
        "id": "ncxBL8dBW8lG"
      },
      "source": [
        "`CV Set`\n",
        "\n",
        "\n"
      ]
    },
    {
      "cell_type": "code",
      "execution_count": null,
      "metadata": {
        "id": "n3ZywCdNUk_e"
      },
      "outputs": [],
      "source": [
        "features_cv = df_cv.iloc[:, 1:1026]\n",
        "\n",
        "x_cv = features_cv.to_numpy()\n",
        "y_cv = df_cv.iloc[:, 1026].to_numpy()"
      ]
    },
    {
      "cell_type": "markdown",
      "metadata": {
        "id": "bmlJ3a-lPSnT"
      },
      "source": [
        "\n",
        "`Same Normalization`\n",
        "\n",
        "\n"
      ]
    },
    {
      "cell_type": "code",
      "execution_count": null,
      "metadata": {
        "collapsed": true,
        "id": "PwlZkpigPJfU",
        "colab": {
          "base_uri": "https://localhost:8080/"
        },
        "outputId": "5c21c411-c6d2-4e5a-f568-3e38a2a48c7e"
      },
      "outputs": [
        {
          "output_type": "stream",
          "name": "stdout",
          "text": [
            "x_cv = [[ 0.69282937  0.71135418  0.72605843 ...  0.64860591  0.54427603\n",
            "   0.99769017]\n",
            " [ 0.50522314  0.60890933  0.65245792 ...  1.42467205  1.22380217\n",
            "   0.99769017]\n",
            " [-0.43280803 -0.41553918 -0.08354716 ... -0.45513262 -0.42404874\n",
            "   0.99769017]\n",
            " ...\n",
            " [ 1.80403554  1.7943426   1.69758512 ... -1.14496919 -1.22249196\n",
            "  -1.00231518]\n",
            " [ 1.48654806  1.51627801  1.57982431 ...  1.45916388  1.29175479\n",
            "   0.99769017]\n",
            " [-1.26982047 -1.29363791 -1.32003568 ...  1.21772108  1.03693248\n",
            "  -1.00231518]]\n",
            "y_cv = [ 6  8  6 ... 10  8  6]\n"
          ]
        }
      ],
      "source": [
        "x_cv = (x_cv - mean) / std\n",
        "\n",
        "print(f\"x_cv = {x_cv}\")\n",
        "print(f\"y_cv = {y_cv}\")"
      ]
    },
    {
      "cell_type": "code",
      "execution_count": null,
      "metadata": {
        "id": "1SUNyJnoU4VB",
        "colab": {
          "base_uri": "https://localhost:8080/"
        },
        "outputId": "b154bedd-7137-4051-d5c5-fd830445dcd0"
      },
      "outputs": [
        {
          "output_type": "stream",
          "name": "stdout",
          "text": [
            "4000\n"
          ]
        }
      ],
      "source": [
        "m_cv = x_cv.shape[0]\n",
        "print(m_cv)"
      ]
    },
    {
      "cell_type": "markdown",
      "metadata": {
        "id": "IVqvvVlTXBHr"
      },
      "source": [
        "`Computing Cross Validation Cost`"
      ]
    },
    {
      "cell_type": "code",
      "source": [
        "cv_lambda = 0\n",
        "\n",
        "y_cv_encoded = np.eye(10)[y_cv - 1]\n",
        "\n",
        "a1_cv, a2_cv, a3_cv, a4_cv, z1, z2, z3, z4 = forward_prop(x_cv, w1_fin, b1_fin, w2_fin, b2_fin, w3_fin, b3_fin, w4_fin, b4_fin)\n",
        "cv_cost = cost(y_cv_encoded, a4_cv, w1_fin, w2_fin, w3_fin, w4_fin, cv_lambda)\n",
        "\n",
        "print(f\"CROSS VALIDATION COST estimated is ={cv_cost : 8.4f}\")"
      ],
      "metadata": {
        "colab": {
          "base_uri": "https://localhost:8080/"
        },
        "id": "QW8d_EYDlVMP",
        "outputId": "b5973d4c-fb17-4a86-8376-7ba9f3423839"
      },
      "execution_count": null,
      "outputs": [
        {
          "output_type": "stream",
          "name": "stdout",
          "text": [
            "CROSS VALIDATION COST estimated is =  1.5192\n"
          ]
        }
      ]
    },
    {
      "cell_type": "markdown",
      "metadata": {
        "id": "KOldzZkpWbfL"
      },
      "source": [
        "##**10. Estimating Test Cost**"
      ]
    },
    {
      "cell_type": "markdown",
      "metadata": {
        "id": "Dww3nk9xWl70"
      },
      "source": [
        "`Test Set`"
      ]
    },
    {
      "cell_type": "code",
      "execution_count": null,
      "metadata": {
        "id": "xMfFJsyZWjP7"
      },
      "outputs": [],
      "source": [
        "features_test = df_test.iloc[:, 1:1026]\n",
        "\n",
        "x_test = features_test.to_numpy()\n",
        "y_test = df_test.iloc[:, 1026].to_numpy()"
      ]
    },
    {
      "cell_type": "markdown",
      "metadata": {
        "id": "UmNoHsykWqZJ"
      },
      "source": [
        "`Same Normalization`"
      ]
    },
    {
      "cell_type": "code",
      "execution_count": null,
      "metadata": {
        "id": "BKPYZCCeWtrz",
        "colab": {
          "base_uri": "https://localhost:8080/"
        },
        "outputId": "12c0bda1-2f9c-4a7d-afc9-d15ede544f86"
      },
      "outputs": [
        {
          "output_type": "stream",
          "name": "stdout",
          "text": [
            "x_test = [[-8.08020505e-01 -9.42398417e-01 -6.57631113e-01 ... -1.85205168e+00\n",
            "  -1.68117211e+00  9.97690168e-01]\n",
            " [ 5.62948135e-01  6.08909328e-01  6.52457918e-01 ...  2.86441704e-01\n",
            "   2.55477412e-01  9.97690168e-01]\n",
            " [ 6.92829375e-01  5.21099455e-01 -3.93868515e-02 ...  4.49989021e-02\n",
            "   3.46314131e-02 -1.00231518e+00]\n",
            " ...\n",
            " [-1.54401420e+00 -1.13265314e+00 -1.02563365e+00 ... -1.74857619e+00\n",
            "  -1.46032612e+00 -1.00231518e+00]\n",
            " [ 1.29430263e-04  9.30878860e-01  1.41790319e+00 ... -9.72510047e-01\n",
            "  -5.59953967e-01 -1.00231518e+00]\n",
            " [-4.31643163e-02 -6.42996937e-02 -5.41069530e-02 ...  1.82966217e-01\n",
            "   6.12228640e-01  9.97690168e-01]]\n",
            "y_test = [ 2  9  4 ...  2 10  1]\n"
          ]
        }
      ],
      "source": [
        "x_test = (x_test - mean) / std\n",
        "\n",
        "print(f\"x_test = {x_test}\")\n",
        "print(f\"y_test = {y_test}\")"
      ]
    },
    {
      "cell_type": "code",
      "execution_count": null,
      "metadata": {
        "id": "un1uiNeOWyzL",
        "colab": {
          "base_uri": "https://localhost:8080/"
        },
        "outputId": "0dae3c27-0452-4da4-ec9b-c722c1b5e7c0"
      },
      "outputs": [
        {
          "output_type": "stream",
          "name": "stdout",
          "text": [
            "4000\n"
          ]
        }
      ],
      "source": [
        "m_test = x_test.shape[0]\n",
        "print(m_test)"
      ]
    },
    {
      "cell_type": "markdown",
      "metadata": {
        "id": "VYdA8IBJW2ez"
      },
      "source": [
        "`Computing Test Cost`"
      ]
    },
    {
      "cell_type": "code",
      "source": [
        "test_lambda = 0\n",
        "\n",
        "y_test_encoded = np.eye(10)[y_test - 1]\n",
        "\n",
        "a1_test, a2_test, a3_test, a4_test, z1, z2, z3, z4 = forward_prop(x_test, w1_fin, b1_fin, w2_fin, b2_fin, w3_fin, b3_fin, w4_fin, b4_fin)\n",
        "test_cost = cost(y_test_encoded, a4_test, w1_fin, w2_fin, w3_fin, w4_fin, test_lambda)\n",
        "\n",
        "print(f\"TEST COST estimated is ={test_cost : 8.4f}\")"
      ],
      "metadata": {
        "colab": {
          "base_uri": "https://localhost:8080/"
        },
        "id": "e0CbPAIjljrm",
        "outputId": "39cfd108-1d1f-4490-e96e-db92b6d313cd"
      },
      "execution_count": null,
      "outputs": [
        {
          "output_type": "stream",
          "name": "stdout",
          "text": [
            "TEST COST estimated is =  1.4889\n"
          ]
        }
      ]
    },
    {
      "cell_type": "markdown",
      "metadata": {
        "id": "T2eJb7lco4zL"
      },
      "source": [
        "##**11. Estimating Accuracy**"
      ]
    },
    {
      "cell_type": "markdown",
      "metadata": {
        "id": "Qw1T-T5OYkwe"
      },
      "source": [
        "`Defining Threshold using CV set`"
      ]
    },
    {
      "cell_type": "code",
      "source": [
        "y_cv_pred = np.argmax(a4_cv, axis=1) + 1\n",
        "\n",
        "accuracy = np.mean(y_cv_pred == y_cv)\n",
        "print(f\"Cross-validation accuracy: {accuracy * 100}%\")"
      ],
      "metadata": {
        "id": "nLO2iubOlp9L",
        "colab": {
          "base_uri": "https://localhost:8080/"
        },
        "outputId": "2cf2a924-7b20-43b9-9b35-92b35aceff07"
      },
      "execution_count": null,
      "outputs": [
        {
          "output_type": "stream",
          "name": "stdout",
          "text": [
            "Cross-validation accuracy: 46.800000000000004%\n"
          ]
        }
      ]
    },
    {
      "cell_type": "markdown",
      "metadata": {
        "id": "Nc9ddj_CaSDh"
      },
      "source": [
        "`Accuracy of Test Set Predictions`"
      ]
    },
    {
      "cell_type": "code",
      "source": [
        "y_test_pred = np.argmax(a4_test, axis=1) + 1\n",
        "\n",
        "accuracy = np.mean(y_test_pred == y_test)\n",
        "print(f\"Test accuracy: {accuracy * 100}%\")"
      ],
      "metadata": {
        "id": "uPOtSc36mDZg",
        "colab": {
          "base_uri": "https://localhost:8080/"
        },
        "outputId": "b78d2c0a-44e8-44fe-82a1-48a727368a9f"
      },
      "execution_count": null,
      "outputs": [
        {
          "output_type": "stream",
          "name": "stdout",
          "text": [
            "Test accuracy: 47.075%\n"
          ]
        }
      ]
    },
    {
      "cell_type": "markdown",
      "metadata": {
        "id": "IPS2s8obapqg"
      },
      "source": [
        "`Accuracy of Train Set Predictions`"
      ]
    },
    {
      "cell_type": "code",
      "source": [
        "a1, a2, a3, a4, z1, z2, z3, z4 = forward_prop(x_train, w1_fin, b1_fin, w2_fin, b2_fin, w3_fin, b3_fin, w4_fin, b4_fin)\n",
        "\n",
        "y_train_pred = np.argmax(a4, axis=1) + 1\n",
        "\n",
        "accuracy = np.mean(y_train_pred == y_train)\n",
        "print(f\"Train accuracy: {accuracy * 100}%\")"
      ],
      "metadata": {
        "id": "vTYlJ_NRmIxh",
        "colab": {
          "base_uri": "https://localhost:8080/"
        },
        "outputId": "ee763ed5-3c26-4a5c-92fc-6a2de1ce9e7b"
      },
      "execution_count": null,
      "outputs": [
        {
          "output_type": "stream",
          "name": "stdout",
          "text": [
            "Train accuracy: 57.10625%\n"
          ]
        }
      ]
    },
    {
      "cell_type": "markdown",
      "source": [
        "##**12. F1 Score**"
      ],
      "metadata": {
        "id": "0Za41K1V1mGz"
      }
    },
    {
      "cell_type": "markdown",
      "source": [
        "`Defining Precision - Recall`"
      ],
      "metadata": {
        "id": "WVNmHCsi1qcd"
      }
    },
    {
      "cell_type": "code",
      "source": [
        "def precision_recall_multiclass(y_true, y_pred, num_classes):\n",
        "    precision_per_class = []\n",
        "    recall_per_class = []\n",
        "    for i in range(num_classes):\n",
        "        TP = np.sum((y_true == i + 1) & (y_pred == i + 1))\n",
        "        FP = np.sum((y_true != i + 1) & (y_pred == i + 1))\n",
        "        FN = np.sum((y_true == i + 1) & (y_pred != i + 1))\n",
        "        precision = TP / (TP + FP) if (TP + FP) != 0 else 0.0\n",
        "        recall = TP / (TP + FN) if (TP + FN) != 0 else 0.0\n",
        "        precision_per_class.append(precision)\n",
        "        recall_per_class.append(recall)\n",
        "    return precision_per_class, recall_per_class"
      ],
      "metadata": {
        "id": "S6BSrA7Y1vAD"
      },
      "execution_count": null,
      "outputs": []
    },
    {
      "cell_type": "markdown",
      "source": [
        "`Precision Recall for CV Set`"
      ],
      "metadata": {
        "id": "qzcxaAvl16S-"
      }
    },
    {
      "cell_type": "code",
      "source": [
        "precision_cv, recall_cv = precision_recall_multiclass(y_cv, y_cv_pred, 10)\n",
        "\n",
        "print(\"Precision for each class (CV):\", precision_cv)\n",
        "print(\"Recall for each class (CV):\", recall_cv)\n",
        "\n",
        "macro_precision_cv = np.mean(precision_cv)\n",
        "macro_recall_cv = np.mean(recall_cv)\n",
        "\n",
        "print(f\"Macro-average Precision (CV): {macro_precision_cv}\")\n",
        "print(f\"Macro-average Recall (CV): {macro_recall_cv}\")"
      ],
      "metadata": {
        "colab": {
          "base_uri": "https://localhost:8080/"
        },
        "id": "ILpmBTsX4cLd",
        "outputId": "5ec4bb02-0ab5-46ef-f79c-6dac61a42251"
      },
      "execution_count": null,
      "outputs": [
        {
          "output_type": "stream",
          "name": "stdout",
          "text": [
            "Precision for each class (CV): [0.4888888888888889, 0.5763688760806917, 0.38444924406047515, 0.4005524861878453, 0.4854368932038835, 0.4141791044776119, 0.47093023255813954, 0.46766169154228854, 0.4973544973544973, 0.49440715883668906]\n",
            "Recall for each class (CV): [0.4841075794621027, 0.5405405405405406, 0.4405940594059406, 0.337995337995338, 0.49261083743842365, 0.2674698795180723, 0.597051597051597, 0.5108695652173914, 0.48578811369509045, 0.5456790123456791]\n",
            "Macro-average Precision (CV): 0.4680229073191011\n",
            "Macro-average Recall (CV): 0.4702706522670176\n"
          ]
        }
      ]
    },
    {
      "cell_type": "markdown",
      "source": [
        "`F1 Score`"
      ],
      "metadata": {
        "id": "Px-Wvl5p2EU5"
      }
    },
    {
      "cell_type": "code",
      "source": [
        "F1 = 2 * (macro_precision_cv * macro_recall_cv) / (macro_precision_cv + macro_recall_cv)\n",
        "\n",
        "print(f\"F1 Score = {F1 : 8.4f}\")"
      ],
      "metadata": {
        "colab": {
          "base_uri": "https://localhost:8080/"
        },
        "id": "A6uvqsKo2GYp",
        "outputId": "d0972dc5-6498-4395-f2b8-5727e0eabb3f"
      },
      "execution_count": null,
      "outputs": [
        {
          "output_type": "stream",
          "name": "stdout",
          "text": [
            "F1 Score =   0.4691\n"
          ]
        }
      ]
    },
    {
      "cell_type": "markdown",
      "metadata": {
        "id": "-AUOD4_wLhwy"
      },
      "source": [
        "## **13. Prediction For Test Set**"
      ]
    },
    {
      "cell_type": "code",
      "execution_count": null,
      "metadata": {
        "id": "e_DSiqVlMYM6",
        "colab": {
          "base_uri": "https://localhost:8080/"
        },
        "outputId": "e2f6294d-933c-4ab7-c315-6ae6eec78dda"
      },
      "outputs": [
        {
          "output_type": "stream",
          "name": "stdout",
          "text": [
            "(20000, 1024)\n"
          ]
        }
      ],
      "source": [
        "df_test = pd.read_csv('/content/drive/MyDrive/nn_test.csv', delimiter = ',')        # reading test set\n",
        "df_test = df_test.drop(columns = ['ID'])\n",
        "print(df_test.shape)"
      ]
    },
    {
      "cell_type": "code",
      "source": [
        "df_ = pd.read_csv('/content/drive/MyDrive/Predictions/nn_binary_test_prediction.csv', delimiter = ',')        # reading binary labels\n",
        "print(df_.shape)"
      ],
      "metadata": {
        "colab": {
          "base_uri": "https://localhost:8080/"
        },
        "id": "2vXojpqRJPE_",
        "outputId": "28c487a0-17f6-4638-8097-a2410bca2723"
      },
      "execution_count": null,
      "outputs": [
        {
          "output_type": "stream",
          "name": "stdout",
          "text": [
            "(20000, 1)\n"
          ]
        }
      ]
    },
    {
      "cell_type": "markdown",
      "metadata": {
        "id": "kqaSYHt-MXMD"
      },
      "source": [
        "`Test Set`"
      ]
    },
    {
      "cell_type": "code",
      "execution_count": null,
      "metadata": {
        "id": "jZVQWSvVMal1",
        "colab": {
          "base_uri": "https://localhost:8080/"
        },
        "outputId": "eb86009e-e21b-4179-8ea2-d7390e7c097e"
      },
      "outputs": [
        {
          "output_type": "stream",
          "name": "stdout",
          "text": [
            "x_test = [[ 52  36  23 ...  32  30   1]\n",
            " [118 119 120 ...  52  52   0]\n",
            " [162 166 171 ...  42  43   0]\n",
            " ...\n",
            " [255 255 254 ...  65  70   1]\n",
            " [ 81  95  95 ... 130 132   0]\n",
            " [172 212 160 ... 178 186   1]]\n"
          ]
        }
      ],
      "source": [
        "features_test = df_test.loc[:, 'Feature_1':'Feature_1024']\n",
        "x_ = features_test.to_numpy()\n",
        "x__ = df_.to_numpy()\n",
        "\n",
        "x_test = np.append(x_, x__, axis = 1)\n",
        "\n",
        "print(f\"x_test = {x_test}\")"
      ]
    },
    {
      "cell_type": "markdown",
      "metadata": {
        "id": "05j9KGn2jF7F"
      },
      "source": [
        "`Same Normalization`"
      ]
    },
    {
      "cell_type": "code",
      "execution_count": null,
      "metadata": {
        "id": "vq5oLG86jKQc",
        "colab": {
          "base_uri": "https://localhost:8080/"
        },
        "outputId": "2a660eb1-09e4-4836-a66d-cc6bb547f816"
      },
      "outputs": [
        {
          "output_type": "stream",
          "name": "stdout",
          "text": [
            "x_test = [[-0.9234705  -1.17655808 -1.39363619 ... -1.35192016 -1.35839719\n",
            "   0.99769017]\n",
            " [ 0.02899193  0.03814516  0.03421366 ... -1.00700188 -0.98465781\n",
            "  -1.00231518]\n",
            " [ 0.66396688  0.72598916  0.78493883 ... -1.17946102 -1.13755119\n",
            "  -1.00231518]\n",
            " ...\n",
            " [ 2.00607302  2.02850226  2.00670725 ... -0.78280499 -0.67887104\n",
            "   0.99769017]\n",
            " [-0.50496428 -0.31309433 -0.33378888 ...  0.33817945  0.37439449\n",
            "  -1.00231518]\n",
            " [ 0.80827937  1.39919818  0.62301771 ...  1.16598334  1.29175479\n",
            "   0.99769017]]\n"
          ]
        }
      ],
      "source": [
        "x_test = (x_test - mean) / std\n",
        "\n",
        "print(f'x_test = {x_test}')"
      ]
    },
    {
      "cell_type": "markdown",
      "metadata": {
        "id": "LlXa6QWWPqKX"
      },
      "source": [
        "`Prediction for Test Set`"
      ]
    },
    {
      "cell_type": "code",
      "source": [
        "a1_test, a2_test, a3_test, a4_test, z1, z2, z3, z4 = forward_prop(x_test, w1_fin, b1_fin, w2_fin, b2_fin, w3_fin, b3_fin, w4_fin, b4_fin)\n",
        "y_test_pred = np.argmax(a4_test, axis=1) + 1\n",
        "\n",
        "print(f\"y_test_pred = {y_test_pred}\")"
      ],
      "metadata": {
        "colab": {
          "base_uri": "https://localhost:8080/"
        },
        "id": "-6xCatkrgoSw",
        "outputId": "dc64176b-cda0-426f-e306-5a31a8605497"
      },
      "execution_count": null,
      "outputs": [
        {
          "output_type": "stream",
          "name": "stdout",
          "text": [
            "y_test_pred = [7 1 9 ... 9 3 7]\n"
          ]
        }
      ]
    },
    {
      "cell_type": "markdown",
      "metadata": {
        "id": "6--S5X5_ZL0-"
      },
      "source": [
        "`Saved the prediction in Google Drive`"
      ]
    },
    {
      "cell_type": "code",
      "execution_count": null,
      "metadata": {
        "id": "5JiW_AzCXdKG"
      },
      "outputs": [],
      "source": [
        "# df = pd.DataFrame(y_test_pred)\n",
        "# df.columns = ['Prediction_nn_multiclassification']\n",
        "# df.to_csv('/content/drive/MyDrive/nn_binary+class_test_prediction.csv', index=False)"
      ]
    }
  ],
  "metadata": {
    "colab": {
      "provenance": [],
      "mount_file_id": "1vrpie0UOGTv9lONjqJz5zabsFt6KmBkj",
      "authorship_tag": "ABX9TyNS0LqdN5htpBFjfVBSHire",
      "include_colab_link": true
    },
    "kernelspec": {
      "display_name": "Python 3",
      "name": "python3"
    },
    "language_info": {
      "name": "python"
    }
  },
  "nbformat": 4,
  "nbformat_minor": 0
}