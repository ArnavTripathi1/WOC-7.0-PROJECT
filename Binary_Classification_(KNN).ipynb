{
  "cells": [
    {
      "cell_type": "markdown",
      "metadata": {
        "id": "view-in-github",
        "colab_type": "text"
      },
      "source": [
        "<a href=\"https://colab.research.google.com/github/ArnavTripathi1/WOC-7.0-PROJECT/blob/main/Binary_Classification_(KNN).ipynb\" target=\"_parent\"><img src=\"https://colab.research.google.com/assets/colab-badge.svg\" alt=\"Open In Colab\"/></a>"
      ]
    },
    {
      "cell_type": "markdown",
      "metadata": {
        "id": "yO29p-Hfumi1"
      },
      "source": [
        "#**K Nearest Neighbor**"
      ]
    },
    {
      "cell_type": "markdown",
      "metadata": {
        "id": "BMdu0vuCuspY"
      },
      "source": [
        "\n",
        "\n",
        "## **1. Loading Modules**\n",
        "\n",
        "\n",
        "\n",
        "\n",
        "\n"
      ]
    },
    {
      "cell_type": "code",
      "execution_count": null,
      "metadata": {
        "id": "wyi46zvRux-s"
      },
      "outputs": [],
      "source": [
        "import numpy as np\n",
        "import pandas as pd\n",
        "import matplotlib.pyplot as plt"
      ]
    },
    {
      "cell_type": "markdown",
      "metadata": {
        "id": "8qTQLnwtu7Tg"
      },
      "source": [
        "## **2. Importing and Handling Data**\n",
        "\n"
      ]
    },
    {
      "cell_type": "code",
      "execution_count": null,
      "metadata": {
        "id": "p0t6RcYOwVCX",
        "colab": {
          "base_uri": "https://localhost:8080/"
        },
        "outputId": "7b3b5cbe-9be7-4087-c809-a0a4017246c5"
      },
      "outputs": [
        {
          "output_type": "stream",
          "name": "stdout",
          "text": [
            "Mounted at /content/drive\n"
          ]
        }
      ],
      "source": [
        "from google.colab import drive\n",
        "drive.mount('/content/drive')            # mounting google drive"
      ]
    },
    {
      "cell_type": "code",
      "execution_count": null,
      "metadata": {
        "colab": {
          "base_uri": "https://localhost:8080/"
        },
        "id": "vGVcRBwX1X9a",
        "outputId": "10fc2c8e-7aa4-4002-eb04-2d397e4a3e49"
      },
      "outputs": [
        {
          "output_type": "stream",
          "name": "stdout",
          "text": [
            "(48000, 21)\n"
          ]
        }
      ],
      "source": [
        "df = pd.read_csv('/content/drive/MyDrive/binary_classification_train.csv', delimiter = ',')       # reading train set\n",
        "df1 = df.drop(columns = ['ID'])\n",
        "print(df1.shape)"
      ]
    },
    {
      "cell_type": "markdown",
      "metadata": {
        "id": "KAJ4Fn3p1JLV"
      },
      "source": [
        "\n",
        "\n",
        "`Dividing Data into Train, CV and Test Set`\n",
        "\n",
        "\n",
        "\n",
        "\n",
        "\n",
        "\n",
        "\n",
        "\n",
        "\n",
        "\n",
        "\n"
      ]
    },
    {
      "cell_type": "code",
      "execution_count": null,
      "metadata": {
        "colab": {
          "base_uri": "https://localhost:8080/"
        },
        "id": "gKSdmWmdvAHt",
        "outputId": "b1b841ba-97ff-4cf5-873c-4da05ce27a42"
      },
      "outputs": [
        {
          "output_type": "stream",
          "name": "stdout",
          "text": [
            "TRAIN SET\n",
            "       Feature_1   Feature_2   Feature_3   Feature_4   Feature_5   Feature_6  \\\n",
            "0     -36.963099  -15.014703   87.100435  101.523360   82.106571  -10.956180   \n",
            "1     -43.715674   18.847116   89.543406  -71.319314   35.597052  126.358570   \n",
            "2     -30.737550  -63.729643  106.081332   81.773948  112.769976  -12.425351   \n",
            "3     -27.674757 -118.869495  135.605213   99.130189   50.947548  -63.704785   \n",
            "4     -28.654141  -77.746597   85.215365   50.374774   79.763207  -32.703048   \n",
            "...          ...         ...         ...         ...         ...         ...   \n",
            "38395 -29.171370 -152.034273  156.965320 -239.062422  134.848173    3.380466   \n",
            "38396 -35.695385  -44.936642  111.833090   51.983170  127.678914  196.218580   \n",
            "38397 -28.277331 -125.625392  120.194535  -37.492206   99.171636  265.658557   \n",
            "38398 -23.578333  -91.315717  125.826775   12.103965  141.809009   20.689070   \n",
            "38399 -25.094541 -102.212333   77.910757 -184.223625   76.150694   10.650616   \n",
            "\n",
            "       Feature_7  Feature_8   Feature_9  Feature_10  ...  Feature_12  \\\n",
            "0       0.592326 -51.919028  -90.650434   63.260218  ...  -81.183744   \n",
            "1     -29.837495 -40.473764  -94.079238   -2.623381  ...  -37.848260   \n",
            "2     -29.913286 -41.771200   16.424511  -65.105911  ... -106.610289   \n",
            "3      -7.353057 -58.140229  -80.209027   81.854979  ... -149.056417   \n",
            "4     -28.152031 -63.994794 -153.566789   45.851715  ... -102.731465   \n",
            "...          ...        ...         ...         ...  ...         ...   \n",
            "38395 -14.532494 -46.505571 -150.868446    1.635276  ...   -4.511467   \n",
            "38396 -25.230160 -38.366479  -53.062486  -98.731890  ...  -76.444047   \n",
            "38397 -14.310808 -32.864710 -201.545071   28.648390  ...  -29.575809   \n",
            "38398 -28.520197 -57.338945  -83.674895   59.218595  ...  -33.831982   \n",
            "38399 -15.805934 -32.597542 -208.375241   17.055106  ...  -30.819479   \n",
            "\n",
            "       Feature_13  Feature_14  Feature_15  Feature_16  Feature_17  Feature_18  \\\n",
            "0       13.101921   18.051450  -40.606288  -39.697053  -13.870802  173.722987   \n",
            "1        7.457352  -77.420742   53.773718 -100.124294    9.870650   11.592519   \n",
            "2        5.930143  -30.177083 -138.969234  -56.054914  -12.790661  164.832498   \n",
            "3        3.893419  -74.100869  -47.659832  -48.209817  -36.264323   59.001922   \n",
            "4       11.160205  -13.395073    9.416237    2.649524  -43.578704   52.261888   \n",
            "...           ...         ...         ...         ...         ...         ...   \n",
            "38395    8.540341  -51.432494  332.538140   85.491156 -133.164275   71.172194   \n",
            "38396   12.549592 -140.571911   83.279592 -102.662231   35.666979    6.144998   \n",
            "38397    4.911460   13.245123  252.619208  -11.541462   26.803160  226.640615   \n",
            "38398    5.918226    3.868131  -57.926277  -40.943192  -13.259103  129.477778   \n",
            "38399   16.147018  -74.947229  258.080106  -21.717104  -74.177797  268.695179   \n",
            "\n",
            "       Feature_19  Feature_20  Class  \n",
            "0      -17.349169  -82.550844      0  \n",
            "1     -106.123605  -92.796421      1  \n",
            "2      -37.412902  -85.441150      0  \n",
            "3      -59.064134  -78.538639      0  \n",
            "4      -66.081738  -80.325110      0  \n",
            "...           ...         ...    ...  \n",
            "38395  -43.783095  -83.923985      0  \n",
            "38396 -104.798565  -93.879141      1  \n",
            "38397  -36.200821  -84.137982      1  \n",
            "38398  -56.467869  -81.693647      0  \n",
            "38399  -15.222344  -88.786752      0  \n",
            "\n",
            "[38400 rows x 21 columns]\n",
            "\n",
            "\n",
            "CROSS VALIDATION SET\n",
            "       Feature_1   Feature_2   Feature_3   Feature_4   Feature_5   Feature_6  \\\n",
            "38400 -37.591117 -105.340208  132.956931  -73.114329  102.532961   55.954625   \n",
            "38401 -38.738071 -157.827889  124.982574 -114.530007   86.630602 -100.734945   \n",
            "38402 -32.171760  -70.039696   66.300228  -80.685659   63.905886   66.675900   \n",
            "38403 -36.848789  -80.029820   70.312561  -81.150501  120.591041   -7.532806   \n",
            "38404 -31.357164 -140.706114   70.628726  -51.487153   53.741260    9.876508   \n",
            "...          ...         ...         ...         ...         ...         ...   \n",
            "43195 -33.981653  -51.072109   79.543254   49.576912  127.105223  -13.086748   \n",
            "43196 -28.996626 -175.564683   27.438780  -10.349252  113.376132   29.123645   \n",
            "43197 -26.275026 -149.081817  100.310708 -139.567685  117.379984  -21.251785   \n",
            "43198 -35.178233   11.830759   86.478297   -0.846979  118.659801  254.787686   \n",
            "43199 -31.689726 -108.188936   71.198343 -313.947362   70.648963  -45.650795   \n",
            "\n",
            "       Feature_7  Feature_8   Feature_9  Feature_10  ...  Feature_12  \\\n",
            "38400  -9.206662 -59.997486 -112.855987   52.249749  ...  -48.955266   \n",
            "38401  -2.107641 -31.740792  -82.441489   14.980515  ...  -12.986809   \n",
            "38402 -29.393812 -41.557234 -159.998483  -26.839849  ...  -27.932959   \n",
            "38403   8.187851 -46.540543  -82.662286   74.235567  ...  -36.973626   \n",
            "38404  -4.931980 -48.290671 -157.103379  104.774183  ...  -75.102730   \n",
            "...          ...        ...         ...         ...  ...         ...   \n",
            "43195  -0.210950 -40.271082 -212.887108  106.683521  ...  -47.153685   \n",
            "43196 -38.870356 -43.573658  -74.722597  -10.961182  ...  -49.853397   \n",
            "43197  -3.928135 -38.271307 -157.760946    0.004371  ...  -63.627392   \n",
            "43198 -17.601788 -48.439034  -75.473243   71.735301  ... -121.247909   \n",
            "43199 -50.527816 -37.699845 -143.568582   87.644113  ... -120.571776   \n",
            "\n",
            "       Feature_13  Feature_14  Feature_15  Feature_16  Feature_17  Feature_18  \\\n",
            "38400    4.877704   61.186924   72.067247  -12.344442  -31.748241   63.906372   \n",
            "38401    7.930491 -173.792858  102.508147  -66.049084  -88.672047  219.895510   \n",
            "38402   13.649897 -213.256939  319.422188  -24.122012  -67.394006   93.102805   \n",
            "38403   11.827970 -212.115178  269.345906  -18.669271  -93.525053  163.419652   \n",
            "38404   14.250143 -260.526869  207.367098  -73.956369  -54.139606  195.847386   \n",
            "...           ...         ...         ...         ...         ...         ...   \n",
            "43195   15.787605   11.967155  -91.442870   71.098593  -36.745610   92.657478   \n",
            "43196   15.670542   68.976779   52.190555  -16.360906  -32.051247  125.706384   \n",
            "43197    5.377355 -130.958228  163.257319  -63.133661  -65.790184  125.470472   \n",
            "43198   16.930772 -225.671169  257.477524 -120.058765   29.919404   41.774934   \n",
            "43199   10.392939   24.451794  276.306595  107.353100 -155.466263  -34.795049   \n",
            "\n",
            "       Feature_19  Feature_20  Class  \n",
            "38400  -49.219958  -87.541511      0  \n",
            "38401  -28.792904  -79.493186      0  \n",
            "38402  -65.943508  -78.116352      0  \n",
            "38403  -28.931772  -93.351553      0  \n",
            "38404  -62.442334  -81.172893      0  \n",
            "...           ...         ...    ...  \n",
            "43195 -108.855406  -86.016687      1  \n",
            "43196  -12.339457  -84.647312      0  \n",
            "43197  -61.022386  -85.467328      0  \n",
            "43198  -94.970590  -89.971549      1  \n",
            "43199  -64.533011  -88.244327      0  \n",
            "\n",
            "[4800 rows x 21 columns]\n",
            "\n",
            "\n",
            "TEST SET\n",
            "       Feature_1   Feature_2   Feature_3   Feature_4   Feature_5   Feature_6  \\\n",
            "43200 -34.530724  -59.636372   42.622490  -75.236058   40.804419   26.325939   \n",
            "43201 -33.902030 -111.490296  101.292149   43.305533   87.787664  261.255285   \n",
            "43202 -35.965089 -155.948638   58.848594 -150.363744   34.598882  205.965564   \n",
            "43203 -33.199956  -92.456368   96.274180 -117.187479   73.507413   71.682045   \n",
            "43204 -37.552385 -149.232367   74.003868  -27.154283  110.577999   37.013692   \n",
            "...          ...         ...         ...         ...         ...         ...   \n",
            "47995 -36.628645 -165.120975  107.217867  122.925449   62.981807   19.830836   \n",
            "47996 -39.109204   -9.889646   -6.131819  -52.788080   80.955847   -1.706958   \n",
            "47997 -35.345541  -80.690360   94.402843    9.939977   70.557427  -24.686198   \n",
            "47998 -39.594067  -63.804277   52.270657 -140.771476   91.726459   48.515770   \n",
            "47999 -32.702465 -111.478496  109.341399  -78.184419   99.621404  191.655350   \n",
            "\n",
            "       Feature_7  Feature_8   Feature_9  Feature_10  ...  Feature_12  \\\n",
            "43200 -46.543159 -31.857536  -60.400258   56.491853  ...   26.978381   \n",
            "43201 -11.774108 -44.229483 -126.149299   -8.735876  ...  -88.321636   \n",
            "43202 -58.033065 -35.642305 -136.713031   19.813654  ...  -52.930974   \n",
            "43203   9.596189 -45.702730 -214.130401   31.956207  ...  -86.609076   \n",
            "43204 -24.462435 -39.814894 -110.771708  -22.499685  ...  -23.201507   \n",
            "...          ...        ...         ...         ...  ...         ...   \n",
            "47995  -3.643254 -45.443651 -149.839003  -46.570736  ...  -10.218916   \n",
            "47996  -3.413089 -29.704302  -36.493671   71.626377  ... -116.006445   \n",
            "47997 -10.011303 -30.297466 -117.836860  -24.681440  ...  -12.575333   \n",
            "47998   6.772685 -31.187427 -199.382895  -11.436290  ...    3.318065   \n",
            "47999  -2.203494 -37.183738 -243.647186  -20.132828  ... -135.189885   \n",
            "\n",
            "       Feature_13  Feature_14  Feature_15  Feature_16  Feature_17  Feature_18  \\\n",
            "43200   14.754810 -191.766488  361.593188   25.453665 -107.973829  178.271973   \n",
            "43201    6.994457 -239.359551  330.072011 -111.565755   28.638399   -4.154628   \n",
            "43202    8.368948   27.206219  259.490151   12.630784  -21.003149  146.720957   \n",
            "43203   17.601448 -137.302461  283.103506  -21.530945  -54.684914  170.648365   \n",
            "43204   10.133684   79.503013  103.567893  -26.673986  -30.035253  153.476510   \n",
            "...           ...         ...         ...         ...         ...         ...   \n",
            "47995   12.704617   25.496814 -102.901598  -45.433223   15.287095  194.369851   \n",
            "47996    0.868396 -146.734100  270.764036    6.377969  -97.921769  131.505353   \n",
            "47997   13.949337  -39.750319    0.710971  -44.584569  -33.617283  135.929230   \n",
            "47998   13.166798 -193.058900  354.841782  -11.650224  -81.109922  208.534353   \n",
            "47999    8.858501  -29.894259  374.627377   -1.480932  -20.722624  126.454469   \n",
            "\n",
            "       Feature_19  Feature_20  Class  \n",
            "43200   -0.849254  -80.563691      0  \n",
            "43201  -96.932276  -87.201124      1  \n",
            "43202  -40.934176  -87.813530      1  \n",
            "43203  -55.314031  -91.137989      0  \n",
            "43204    1.275322  -78.250122      0  \n",
            "...           ...         ...    ...  \n",
            "47995  -45.661009  -78.589630      0  \n",
            "47996   -6.202176  -94.503454      1  \n",
            "47997  -48.408353  -75.406154      0  \n",
            "47998  -38.514382  -85.694189      0  \n",
            "47999  -38.144875  -86.074396      1  \n",
            "\n",
            "[4800 rows x 21 columns]\n"
          ]
        }
      ],
      "source": [
        "print('TRAIN SET')\n",
        "print(df1.iloc[:38400])\n",
        "\n",
        "print()\n",
        "print()\n",
        "\n",
        "print('CROSS VALIDATION SET')\n",
        "print(df1.iloc[38400:43200])\n",
        "\n",
        "print()\n",
        "print()\n",
        "\n",
        "print('TEST SET')\n",
        "print(df1.iloc[43200:])"
      ]
    },
    {
      "cell_type": "code",
      "execution_count": null,
      "metadata": {
        "id": "cIbtM5AmJYY4"
      },
      "outputs": [],
      "source": [
        "df_train = df.iloc[:38400]\n",
        "df_cv = df.iloc[38400:43200]\n",
        "df_test = df.iloc[43200:]"
      ]
    },
    {
      "cell_type": "markdown",
      "metadata": {
        "id": "CwHy8Kn_2XkN"
      },
      "source": [
        "\n",
        "\n",
        "\n",
        "`Arranging Train Set as an array`\n",
        "\n",
        "\n"
      ]
    },
    {
      "cell_type": "code",
      "execution_count": null,
      "metadata": {
        "collapsed": true,
        "id": "i8h87qtZykgV",
        "colab": {
          "base_uri": "https://localhost:8080/"
        },
        "outputId": "54aa5d70-dc3d-4322-f547-8e8c872f7146"
      },
      "outputs": [
        {
          "output_type": "stream",
          "name": "stdout",
          "text": [
            "x_train = [[ -36.96309934  -15.01470294   87.10043472 ...  173.72298705\n",
            "   -17.34916949  -82.55084389]\n",
            " [ -43.71567402   18.8471157    89.54340644 ...   11.59251925\n",
            "  -106.12360525  -92.79642051]\n",
            " [ -30.73755019  -63.72964268  106.08133168 ...  164.83249783\n",
            "   -37.41290151  -85.44115039]\n",
            " ...\n",
            " [ -28.27733131 -125.62539233  120.19453472 ...  226.64061504\n",
            "   -36.20082092  -84.13798196]\n",
            " [ -23.57833262  -91.31571653  125.82677463 ...  129.47777815\n",
            "   -56.46786852  -81.69364735]\n",
            " [ -25.09454148 -102.21233266   77.9107575  ...  268.69517927\n",
            "   -15.22234372  -88.7867521 ]]\n",
            "\n",
            "y_train = [0 1 0 ... 1 0 0]\n"
          ]
        }
      ],
      "source": [
        "features_train = df_train.loc[:, 'Feature_1':'Feature_20']\n",
        "\n",
        "x_train = features_train.to_numpy()\n",
        "y_train = df_train['Class'].to_numpy()\n",
        "\n",
        "print(f\"x_train = {x_train}\")\n",
        "print()\n",
        "print(f\"y_train = {y_train}\")"
      ]
    },
    {
      "cell_type": "markdown",
      "metadata": {
        "id": "vPBGTPaFUzq1"
      },
      "source": [
        "`x_train Normalization`"
      ]
    },
    {
      "cell_type": "code",
      "execution_count": null,
      "metadata": {
        "id": "qVyFeMZIU4aU",
        "colab": {
          "base_uri": "https://localhost:8080/"
        },
        "outputId": "faf9c45e-f95e-4b0e-9b54-23be72885e7c"
      },
      "outputs": [
        {
          "output_type": "stream",
          "name": "stdout",
          "text": [
            "Normalized x_train = [[-0.9088893   1.58090918 -0.11765156 ...  0.8638893   1.20791272\n",
            "   0.2591385 ]\n",
            " [-2.34980147  2.32556147 -0.0548971  ... -1.40370105 -1.70470321\n",
            "  -2.01815131]\n",
            " [ 0.41956243  0.5096232   0.36992509 ...  0.73954507  0.54963824\n",
            "  -0.38329148]\n",
            " ...\n",
            " [ 0.94454135 -0.85152083  0.7324616  ...  1.60400622  0.5894056\n",
            "  -0.09363553]\n",
            " [ 1.94724694 -0.09701974  0.87714121 ...  0.24506663 -0.07553949\n",
            "   0.44966804]\n",
            " [ 1.62370757 -0.33664628 -0.35371374 ...  2.19219008  1.27769211\n",
            "  -1.12692016]]\n"
          ]
        }
      ],
      "source": [
        "mean = np.mean(x_train, axis = 0)\n",
        "std = np.std(x_train, axis = 0)\n",
        "\n",
        "x_train = (x_train - mean) / std\n",
        "\n",
        "print(f\"Normalized x_train = {x_train}\")"
      ]
    },
    {
      "cell_type": "markdown",
      "metadata": {
        "id": "b_Ef2Xgq4jj0"
      },
      "source": [
        "## **3. Visualising the Data**"
      ]
    },
    {
      "cell_type": "code",
      "execution_count": null,
      "metadata": {
        "id": "DlDdqLy1Hky-"
      },
      "outputs": [],
      "source": [
        "Class_0 = np.sum(y_train == 0)\n",
        "Class_1 = np.sum(y_train == 1)"
      ]
    },
    {
      "cell_type": "code",
      "execution_count": null,
      "metadata": {
        "id": "puk9T-Xi47ZN",
        "colab": {
          "base_uri": "https://localhost:8080/",
          "height": 511
        },
        "outputId": "6d926040-59c2-4eb8-99ce-7baa8d0ce0b5"
      },
      "outputs": [
        {
          "output_type": "display_data",
          "data": {
            "text/plain": [
              "<Figure size 640x480 with 1 Axes>"
            ],
            "image/png": "[encoded data removed]"
          },
          "metadata": {}
        }
      ],
      "source": [
        "Category = ['Class 0', 'Class 1']\n",
        "Value = [Class_0, Class_1]\n",
        "\n",
        "plt.bar(Category, Value, color = 'red')\n",
        "plt.title('Strength of Individual Class', fontdict = {'fontsize' : 20})\n",
        "plt.xlabel('Class')\n",
        "plt.ylabel('Strength')\n",
        "\n",
        "plt.xticks(rotation=45)\n",
        "plt.show()"
      ]
    },
    {
      "cell_type": "markdown",
      "metadata": {
        "id": "_diHJCNS-2V-"
      },
      "source": [
        "##**4. Model Initialization**"
      ]
    },
    {
      "cell_type": "code",
      "execution_count": null,
      "metadata": {
        "id": "7tViegZz70yb"
      },
      "outputs": [],
      "source": [
        "m = x_train.shape[0]\n",
        "n = x_train.shape[1]"
      ]
    },
    {
      "cell_type": "markdown",
      "metadata": {
        "id": "VH0EIVUk6txI"
      },
      "source": [
        "## **Defining Distance**"
      ]
    },
    {
      "cell_type": "code",
      "execution_count": null,
      "metadata": {
        "id": "6kIBXEHcMqLu"
      },
      "outputs": [],
      "source": [
        "def distance(x1, x2):\n",
        "  return np.sqrt(np.sum((x1 - x2)**2))"
      ]
    },
    {
      "cell_type": "markdown",
      "metadata": {
        "id": "FCAGtLwNlEh_"
      },
      "source": [
        "## **5. KNN**"
      ]
    },
    {
      "cell_type": "code",
      "execution_count": null,
      "metadata": {
        "id": "MrXtjnRZadrw"
      },
      "outputs": [],
      "source": [
        "def knn(x_train, y_train, x, k=5):\n",
        "\n",
        "  predictions = []\n",
        "\n",
        "\n",
        "  for point in x:\n",
        "    distances = []\n",
        "\n",
        "\n",
        "    for i in range(len(x_train)):\n",
        "        dist = distance(x_train[i], point)\n",
        "        distances.append((dist, i))\n",
        "\n",
        "\n",
        "    distances = sorted(distances, key=lambda x: x[0])\n",
        "    neighbors = [y_train[i] for _, i in distances[:k]]\n",
        "\n",
        "\n",
        "    class_count = {}\n",
        "    for label in neighbors:\n",
        "        class_count[label] = class_count.get(label, 0) + 1\n",
        "\n",
        "\n",
        "    sorted_classes = sorted(class_count.items(), key=lambda x: x[1], reverse=True)\n",
        "    predictions.append(sorted_classes[0][0])\n",
        "\n",
        "  return np.array(predictions)"
      ]
    },
    {
      "cell_type": "markdown",
      "source": [
        "##**6. Cross Validation Set**"
      ],
      "metadata": {
        "id": "K_PQb4fZxesX"
      }
    },
    {
      "cell_type": "code",
      "source": [
        "features_cv = df_cv.loc[:, 'Feature_1':'Feature_20']\n",
        "\n",
        "x_cv = features_cv.to_numpy()\n",
        "y_cv = df_cv['Class'].to_numpy()"
      ],
      "metadata": {
        "id": "Adljz8L9xizX"
      },
      "execution_count": null,
      "outputs": []
    },
    {
      "cell_type": "markdown",
      "source": [
        "`Same Normalization`"
      ],
      "metadata": {
        "id": "NPXcQ3mOyA2u"
      }
    },
    {
      "cell_type": "code",
      "source": [
        "x_cv = (x_cv - mean) / std\n",
        "\n",
        "print(f\"x_cv = {x_cv}\")\n",
        "print(f\"y_cv = {y_cv}\")"
      ],
      "metadata": {
        "colab": {
          "base_uri": "https://localhost:8080/"
        },
        "id": "YCyBh_vRyBL6",
        "outputId": "2117fc24-6420-4de8-afd4-90ba8e902a99"
      },
      "execution_count": null,
      "outputs": [
        {
          "output_type": "stream",
          "name": "stdout",
          "text": [
            "x_cv = [[-1.04290014 -0.40543111  1.06029893 ... -0.67202865  0.16225847\n",
            "  -0.85013976]\n",
            " [-1.28764541 -1.55968312  0.85545558 ...  1.50966779  0.83245324\n",
            "   0.93876578]\n",
            " [ 0.11352059  0.37085937 -0.6519622  ... -0.26368129 -0.38642738\n",
            "   1.24479545]\n",
            " ...\n",
            " [ 1.37180738 -1.36734902  0.22169072 ...  0.18901961 -0.22496946\n",
            "  -0.38910997]\n",
            " [-0.52802193  2.17126539 -0.13363288 ... -0.98156353 -1.33878198\n",
            "  -1.39026553]\n",
            " [ 0.21638046 -0.46807723 -0.5261406  ... -2.0524872  -0.34015016\n",
            "  -1.00635515]]\n",
            "y_cv = [0 0 0 ... 0 1 0]\n"
          ]
        }
      ]
    },
    {
      "cell_type": "markdown",
      "source": [
        "`Testing on CV Set`"
      ],
      "metadata": {
        "id": "UvZ4SR_syI2S"
      }
    },
    {
      "cell_type": "code",
      "source": [
        "m_cv = x_cv.shape[0]"
      ],
      "metadata": {
        "id": "kvAQ3yfcyIYw"
      },
      "execution_count": null,
      "outputs": []
    },
    {
      "cell_type": "code",
      "source": [
        "pred_cv = knn(x_train, y_train, x_cv, k=5)\n",
        "\n",
        "print(f\"Predicted Class = {pred_cv}\")"
      ],
      "metadata": {
        "id": "O6oWCBcNyT0B",
        "colab": {
          "base_uri": "https://localhost:8080/"
        },
        "outputId": "2ffcbfac-7bfc-4695-f950-c615dbb3fd7a"
      },
      "execution_count": null,
      "outputs": [
        {
          "output_type": "stream",
          "name": "stdout",
          "text": [
            "Predicted Class = [0 0 0 ... 0 1 0]\n"
          ]
        }
      ]
    },
    {
      "cell_type": "markdown",
      "source": [
        "`Accuracy`"
      ],
      "metadata": {
        "id": "cJUvyOwYycM7"
      }
    },
    {
      "cell_type": "code",
      "source": [
        "count_cv = 0\n",
        "for i in range(m_cv):\n",
        "\n",
        "  if pred_cv[i] == y_cv[i]:\n",
        "    count_cv += 1\n",
        "  else:\n",
        "    count_cv += 0\n",
        "\n",
        "accuracy_cv = count_cv / m_cv\n",
        "\n",
        "print(f\"Accuracy for Cross Validation Set = {accuracy_cv * 100}%\")"
      ],
      "metadata": {
        "id": "CfwY01wMyb6J",
        "colab": {
          "base_uri": "https://localhost:8080/"
        },
        "outputId": "ee602c74-bc30-4fc8-f91a-bccc5015d32a"
      },
      "execution_count": null,
      "outputs": [
        {
          "output_type": "stream",
          "name": "stdout",
          "text": [
            "Accuracy for Cross Validation Set = 93.75%\n"
          ]
        }
      ]
    },
    {
      "cell_type": "markdown",
      "metadata": {
        "id": "pREA9kZ5O9pb"
      },
      "source": [
        "##**7. Test Set**"
      ]
    },
    {
      "cell_type": "code",
      "execution_count": null,
      "metadata": {
        "id": "U3M9tfzaPAux"
      },
      "outputs": [],
      "source": [
        "features_test = df_test.loc[:, 'Feature_1':'Feature_20']\n",
        "\n",
        "x_test = features_test.to_numpy()\n",
        "y_test = df_test['Class'].to_numpy()"
      ]
    },
    {
      "cell_type": "markdown",
      "source": [
        "`Testing on Test Set`"
      ],
      "metadata": {
        "id": "gElZYy6EvVqI"
      }
    },
    {
      "cell_type": "code",
      "source": [
        "m_test = x_test.shape[0]"
      ],
      "metadata": {
        "id": "rMr-7BcfwR49"
      },
      "execution_count": null,
      "outputs": []
    },
    {
      "cell_type": "code",
      "source": [
        "pred_test = knn(x_train, y_train, x_test, k=5)\n",
        "\n",
        "print(f\"Predicted Class = {pred_test}\")"
      ],
      "metadata": {
        "id": "r30hGqFavUzz",
        "colab": {
          "base_uri": "https://localhost:8080/"
        },
        "outputId": "7ac51cfb-6a08-4c56-ae46-7825352a980a"
      },
      "execution_count": null,
      "outputs": [
        {
          "output_type": "stream",
          "name": "stdout",
          "text": [
            "Predicted Class = [1 1 1 ... 0 1 1]\n"
          ]
        }
      ]
    },
    {
      "cell_type": "markdown",
      "source": [
        "`Accuracy`"
      ],
      "metadata": {
        "id": "fZ8hOtuRyv_I"
      }
    },
    {
      "cell_type": "code",
      "source": [
        "count_test = 0\n",
        "\n",
        "for i in range(m_test):\n",
        "\n",
        "  if pred_test[i] == y_test[i]:\n",
        "    count_test += 1\n",
        "  else:\n",
        "    count_test += 0\n",
        "\n",
        "accuracy_test = count_test / m_test\n",
        "\n",
        "print(f'Accuracy of Test Set = {accuracy_test * 100}%')"
      ],
      "metadata": {
        "id": "IxN934wNyyxc",
        "colab": {
          "base_uri": "https://localhost:8080/"
        },
        "outputId": "2a5342d3-34ab-489e-c8b5-88464b6d9915"
      },
      "execution_count": null,
      "outputs": [
        {
          "output_type": "stream",
          "name": "stdout",
          "text": [
            "Accuracy of Test Set = 60.54166666666667%\n"
          ]
        }
      ]
    },
    {
      "cell_type": "markdown",
      "source": [
        "##**8. F1 Score for CV Set**"
      ],
      "metadata": {
        "id": "9Z7LL4u7QtCi"
      }
    },
    {
      "cell_type": "code",
      "source": [
        "def precision_recall(y_true, y_pred):\n",
        "    TP = np.sum((y_true == 1) & (y_pred == 1))\n",
        "\n",
        "    FP = np.sum((y_true == 0) & (y_pred == 1))\n",
        "\n",
        "    FN = np.sum((y_true == 1) & (y_pred == 0))\n",
        "\n",
        "    precision = TP / (TP + FP) if (TP + FP) != 0 else 0.0\n",
        "\n",
        "    recall = TP / (TP + FN) if (TP + FN) != 0 else 0.0\n",
        "\n",
        "    return precision, recall"
      ],
      "metadata": {
        "id": "RKUfUMKJQz_F"
      },
      "execution_count": null,
      "outputs": []
    },
    {
      "cell_type": "markdown",
      "source": [
        "`Precision - Recall for CV Set`"
      ],
      "metadata": {
        "id": "uEysxL6zUykP"
      }
    },
    {
      "cell_type": "code",
      "source": [
        "precision, recall = precision_recall(y_cv, pred_cv)\n",
        "print(f\"Precision: {precision:.4f}\")\n",
        "print(f\"Recall: {recall:.4f}\")"
      ],
      "metadata": {
        "id": "gdlpkZx6UxvH",
        "colab": {
          "base_uri": "https://localhost:8080/"
        },
        "outputId": "a0e90083-e15b-4871-fff9-700d50c176ea"
      },
      "execution_count": null,
      "outputs": [
        {
          "output_type": "stream",
          "name": "stdout",
          "text": [
            "Precision: 0.9385\n",
            "Recall: 0.8558\n"
          ]
        }
      ]
    },
    {
      "cell_type": "markdown",
      "source": [
        "`F1 Score`"
      ],
      "metadata": {
        "id": "ZqclaU1eVRyX"
      }
    },
    {
      "cell_type": "code",
      "source": [
        "F1 = 2 * (precision * recall) / (precision + recall)\n",
        "\n",
        "print(f\"F1 Score = {F1}\")"
      ],
      "metadata": {
        "id": "YC6HX5q1VU2c",
        "colab": {
          "base_uri": "https://localhost:8080/"
        },
        "outputId": "30f99741-09ca-4098-8f38-1e7cfdf3cb05"
      },
      "execution_count": null,
      "outputs": [
        {
          "output_type": "stream",
          "name": "stdout",
          "text": [
            "F1 Score = 0.8952513966480448\n"
          ]
        }
      ]
    },
    {
      "cell_type": "markdown",
      "source": [
        "##**9. Predictions for Offcial Test Set**"
      ],
      "metadata": {
        "id": "FMU6xDRTB299"
      }
    },
    {
      "cell_type": "markdown",
      "source": [
        "`Set`"
      ],
      "metadata": {
        "id": "QRa1v0YLCX6O"
      }
    },
    {
      "cell_type": "code",
      "source": [
        "df_test = pd.read_csv('/content/drive/MyDrive/binary_classification_test.csv', delimiter = ',')       # reading train set\n",
        "df2 = df_test.drop(columns = ['ID'])\n",
        "print(df2.shape)"
      ],
      "metadata": {
        "colab": {
          "base_uri": "https://localhost:8080/"
        },
        "id": "n2gFgDp4B9AH",
        "outputId": "692174e5-e588-43e7-b9e2-6928badba107"
      },
      "execution_count": null,
      "outputs": [
        {
          "output_type": "stream",
          "name": "stdout",
          "text": [
            "(12000, 20)\n"
          ]
        }
      ]
    },
    {
      "cell_type": "code",
      "source": [
        "features_test = df2.loc[:, 'Feature_1':'Feature_20']\n",
        "x_test = features_test.to_numpy()\n",
        "\n",
        "\n",
        "print(f\"x_test = {x_test}\")"
      ],
      "metadata": {
        "colab": {
          "base_uri": "https://localhost:8080/"
        },
        "id": "Zm7oz0nUCWE0",
        "outputId": "5bf814cd-80ae-40ed-a0d8-2a3913bd92aa"
      },
      "execution_count": null,
      "outputs": [
        {
          "output_type": "stream",
          "name": "stdout",
          "text": [
            "x_test = [[ -21.26363576 -101.51076439   70.11556349 ...  136.88072759\n",
            "   -53.74652746  -88.62431164]\n",
            " [ -28.64648942 -104.09002777  124.09897384 ...  155.04005059\n",
            "   -43.39047591  -85.58479057]\n",
            " [ -34.08442676 -149.47146391  131.88319263 ...  201.92991029\n",
            "   -40.22577214  -86.23567733]\n",
            " ...\n",
            " [ -24.54799465 -152.07259248  132.76791814 ...  148.10618381\n",
            "   -80.19449353  -89.79112231]\n",
            " [ -29.20006765 -100.30330433  115.70992256 ...  180.81790728\n",
            "   -36.34370299  -85.99400505]\n",
            " [ -25.23942763 -188.99675094   87.77596258 ...  175.62274141\n",
            "   -19.16044345  -81.53031155]]\n"
          ]
        }
      ]
    },
    {
      "cell_type": "markdown",
      "source": [
        "`Same Normalization`"
      ],
      "metadata": {
        "id": "H-FeiCGACSuw"
      }
    },
    {
      "cell_type": "code",
      "source": [
        "x_test = (x_test - mean) / std\n",
        "\n",
        "print(f'Normalized x_test = {x_test}')"
      ],
      "metadata": {
        "colab": {
          "base_uri": "https://localhost:8080/"
        },
        "id": "AgaNb0HsCSL3",
        "outputId": "9b0c877f-8303-442a-8b2a-a254fdf403cf"
      },
      "execution_count": null,
      "outputs": [
        {
          "output_type": "stream",
          "name": "stdout",
          "text": [
            "Normalized x_test = [[ 2.44117334 -0.32121815 -0.55395478 ...  0.34860582  0.01374546\n",
            "  -1.09081443]\n",
            " [ 0.86576778 -0.37793851  0.83275788 ...  0.60258587  0.35351896\n",
            "  -0.41521845]\n",
            " [-0.29461777 -1.3759177   1.03271699 ...  1.25839718  0.45735028\n",
            "  -0.5598914 ]\n",
            " ...\n",
            " [ 1.7403336  -1.4331189   1.0554436  ...  0.50560738 -0.85399047\n",
            "  -1.35016207]\n",
            " [ 0.74764134 -0.294665    0.61726198 ...  0.96312032  0.58471776\n",
            "  -0.50617478]\n",
            " [ 1.59279074 -2.24511484 -0.10029876 ...  0.89045966  1.14848631\n",
            "   0.48597277]]\n"
          ]
        }
      ]
    },
    {
      "cell_type": "markdown",
      "source": [
        "`Predictions`"
      ],
      "metadata": {
        "id": "gj-IW58dCzUu"
      }
    },
    {
      "cell_type": "code",
      "source": [
        "m_test = x_test.shape[0]"
      ],
      "metadata": {
        "id": "OsEFl3qvC-qv"
      },
      "execution_count": null,
      "outputs": []
    },
    {
      "cell_type": "code",
      "source": [
        "predictions = knn(x_train, y_train, x_test, k=5)\n",
        "\n",
        "print(f\"Predicted Class = {predictions}\")"
      ],
      "metadata": {
        "colab": {
          "base_uri": "https://localhost:8080/"
        },
        "id": "XtoBi3-KC1WI",
        "outputId": "e9298f80-ee97-4178-ad2e-908683532b05"
      },
      "execution_count": null,
      "outputs": [
        {
          "output_type": "stream",
          "name": "stdout",
          "text": [
            "Predicted Class = [0 0 0 ... 0 1 0]\n"
          ]
        }
      ]
    },
    {
      "cell_type": "markdown",
      "source": [
        "`Saving Predictions`"
      ],
      "metadata": {
        "id": "i6wIlPc2DCK9"
      }
    },
    {
      "cell_type": "code",
      "source": [
        "# df = pd.DataFrame(predictions)\n",
        "# df.columns = ['Prediction_binaryclassification']\n",
        "# df.to_csv('/content/drive/MyDrive/binaryclassification_test_prediction.csv', index=False)"
      ],
      "metadata": {
        "id": "iWl38cXmDETJ"
      },
      "execution_count": null,
      "outputs": []
    }
  ],
  "metadata": {
    "colab": {
      "provenance": [],
      "mount_file_id": "1vrpie0UOGTv9lONjqJz5zabsFt6KmBkj",
      "authorship_tag": "ABX9TyNy2vFUUlft5eq44IRWxjQk",
      "include_colab_link": true
    },
    "kernelspec": {
      "display_name": "Python 3",
      "name": "python3"
    },
    "language_info": {
      "name": "python"
    }
  },
  "nbformat": 4,
  "nbformat_minor": 0
}